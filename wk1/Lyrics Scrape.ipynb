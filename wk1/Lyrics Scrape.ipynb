{
 "cells": [
  {
   "cell_type": "markdown",
   "id": "95952cac",
   "metadata": {},
   "source": [
    "# ADS 509 Module 1: APIs and Web Scraping\n",
    "\n",
    "This notebook has two parts. In the first part, you will scrape lyrics from AZLyrics.com. In the second part, you'll run code that verifies the completeness of your data pull.\n",
    "\n",
    "For this assignment you have chosen two musical artists who have at least 20 songs with lyrics on AZLyrics.com. We start with pulling some information and analyzing them.\n"
   ]
  },
  {
   "cell_type": "markdown",
   "id": "069b7ae8",
   "metadata": {},
   "source": [
    "## General Assignment Instructions\n",
    "\n",
    "These instructions are included in every assignment, to remind you of the coding standards for the class. Feel free to delete this cell after reading it.\n",
    "\n",
    "One sign of mature code is conforming to a style guide. We recommend the [Google Python Style Guide](https://google.github.io/styleguide/pyguide.html). If you use a different style guide, please include a cell with a link.\n",
    "\n",
    "Your code should be relatively easy-to-read, sensibly commented, and clean. Writing code is a messy process, so please be sure to edit your final submission. Remove any cells that are not needed or parts of cells that contain unnecessary code. Remove inessential `import` statements and make sure that all such statements are moved into the designated cell.\n",
    "\n",
    "Make use of non-code cells for written commentary. These cells should be grammatical and clearly written. In some of these cells you will have questions to answer. The questions will be marked by a \"Q:\" and will have a corresponding \"A:\" spot for you. _Make sure to answer every question marked with a `Q:` for full credit._\n"
   ]
  },
  {
   "cell_type": "markdown",
   "id": "91c8969e",
   "metadata": {},
   "source": [
    "# Importing Libraries\n"
   ]
  },
  {
   "cell_type": "code",
   "execution_count": 7,
   "id": "185076b0",
   "metadata": {},
   "outputs": [],
   "source": [
    "import os\n",
    "import datetime\n",
    "import re\n",
    "import shutil\n",
    "import time\n",
    "\n",
    "# for the lyrics scrape section\n",
    "import requests\n",
    "import time\n",
    "from bs4 import BeautifulSoup\n",
    "from collections import defaultdict, Counter\n",
    "import random"
   ]
  },
  {
   "cell_type": "code",
   "execution_count": 8,
   "id": "a47e2d5f",
   "metadata": {},
   "outputs": [],
   "source": [
    "# Use this cell for any import statements you add"
   ]
  },
  {
   "cell_type": "markdown",
   "id": "45c13af3",
   "metadata": {},
   "source": [
    "---\n",
    "\n",
    "# Lyrics Scrape\n",
    "\n",
    "This section asks you to pull data by scraping www.AZLyrics.com. In the notebooks where you do that work you are asked to store the data in specific ways.\n"
   ]
  },
  {
   "cell_type": "code",
   "execution_count": 9,
   "id": "5bd7df77",
   "metadata": {},
   "outputs": [],
   "source": [
    "artists = {\n",
    "    \"robyn\": \"https://www.azlyrics.com/r/robyn.html\",\n",
    "    \"cher\": \"https://www.azlyrics.com/c/cher.html\",\n",
    "}\n",
    "# we'll use this dictionary to hold both the artist name and the link on AZlyrics"
   ]
  },
  {
   "cell_type": "markdown",
   "id": "c236c99b",
   "metadata": {},
   "source": [
    "## A Note on Rate Limiting\n",
    "\n",
    "The lyrics site, www.azlyrics.com, does not have an explicit maximum on number of requests in any one time, but in our testing it appears that too many requests in too short a time will cause the site to stop returning lyrics pages. (Entertainingly, the page that gets returned seems to only have the song title to [a Tom Jones song](https://www.azlyrics.com/lyrics/tomjones/itsnotunusual.html).)\n",
    "\n",
    "Whenever you call `requests.get` to retrieve a page, put a `time.sleep(5 + 10*random.random())` on the next line. This will help you not to get blocked. If you _do_ get blocked, which you can identify if the returned pages are not correct, just request a lyrics page through your browser. You'll be asked to perform a CAPTCHA and then your requests should start working again.\n",
    "\n",
    "## Part 1: Finding Links to Songs Lyrics\n",
    "\n",
    "That general artist page has a list of all songs for that artist with links to the individual song pages.\n",
    "\n",
    "Q: Take a look at the `robots.txt` page on www.azlyrics.com. (You can read more about these pages [here](https://developers.google.com/search/docs/advanced/robots/intro).) Is the scraping we are about to do allowed or disallowed by this page? How do you know?\n",
    "\n",
    "A: Based on the `robots.txt` page, there are four paths that we are not allowed to scrap: `/lyricsdb/`, `/song/`, `/search/`, and `/suggest/`. Since we are scraping information from the artists page, `/r/` and `/c/`, this is allowed.\n"
   ]
  },
  {
   "cell_type": "code",
   "execution_count": 10,
   "id": "ac9d31ec",
   "metadata": {},
   "outputs": [],
   "source": [
    "# Let's set up a dictionary of lists to hold our links\n",
    "lyrics_pages = defaultdict(list)\n",
    "\n",
    "for artist, artist_page in artists.items():\n",
    "    # request the page and sleep\n",
    "    r = requests.get(artist_page)\n",
    "    time.sleep(5 + 10 * random.random())\n",
    "\n",
    "    # now extract the links to lyrics pages from this page\n",
    "    soup = BeautifulSoup(r.text, \"html.parser\")\n",
    "    album_items = soup.find_all(\"div\", class_=\"listalbum-item\")\n",
    "    links = []  # initialize links list\n",
    "    for item in album_items:\n",
    "        a_tag = item.find(\"a\")\n",
    "        if a_tag and a_tag.get(\"href\"):\n",
    "            links.append(a_tag[\"href\"])\n",
    "    # store the links `lyrics_pages` where the key is the artist and the\n",
    "    # value is a list of links.\n",
    "    lyrics_pages[artist].extend(links)"
   ]
  },
  {
   "cell_type": "markdown",
   "id": "9c285ec1",
   "metadata": {},
   "source": [
    "Let's make sure we have enough lyrics pages to scrape.\n"
   ]
  },
  {
   "cell_type": "code",
   "execution_count": 11,
   "id": "ae4cda68",
   "metadata": {},
   "outputs": [],
   "source": [
    "for artist, lp in lyrics_pages.items():\n",
    "    assert len(set(lp)) > 20"
   ]
  },
  {
   "cell_type": "code",
   "execution_count": 12,
   "id": "edca10d6",
   "metadata": {},
   "outputs": [
    {
     "name": "stdout",
     "output_type": "stream",
     "text": [
      "For robyn we have 104.\n",
      "The full pull will take for this artist will take 0.29 hours.\n",
      "For cher we have 336.\n",
      "The full pull will take for this artist will take 0.93 hours.\n"
     ]
    }
   ],
   "source": [
    "# Let's see how long it's going to take to pull these lyrics\n",
    "# if we're waiting `5 + 10*random.random()` seconds\n",
    "for artist, links in lyrics_pages.items():\n",
    "    print(f\"For {artist} we have {len(links)}.\")\n",
    "    print(\n",
    "        f\"The full pull will take for this artist will take {round(len(links)*10/3600,2)} hours.\"\n",
    "    )"
   ]
  },
  {
   "cell_type": "markdown",
   "id": "011be6c6",
   "metadata": {},
   "source": [
    "## Part 2: Pulling Lyrics\n",
    "\n",
    "Now that we have the links to our lyrics pages, let's go scrape them! Here are the steps for this part.\n",
    "\n",
    "1. Create an empty folder in our repo called \"lyrics\".\n",
    "1. Iterate over the artists in `lyrics_pages`.\n",
    "1. Create a subfolder in lyrics with the artist's name. For instance, if the artist was Cher you'd have `lyrics/cher/` in your repo.\n",
    "1. Iterate over the pages.\n",
    "1. Request the page and extract the lyrics from the returned HTML file using BeautifulSoup.\n",
    "1. Use the function below, `generate_filename_from_url`, to create a filename based on the lyrics page, then write the lyrics to a text file with that name.\n"
   ]
  },
  {
   "cell_type": "code",
   "execution_count": null,
   "id": "67693711",
   "metadata": {},
   "outputs": [],
   "source": [
    "def generate_filename_from_link(link):\n",
    "\n",
    "    if not link:\n",
    "        return None\n",
    "\n",
    "    # drop the http or https and the html\n",
    "    name = link.replace(\"https\", \"\").replace(\"http\", \"\")\n",
    "    name = name.replace(\".html\", \"\")\n",
    "\n",
    "    name = name.replace(\"/lyrics/\", \"\")\n",
    "\n",
    "    # Replace useless characters with UNDERSCORE\n",
    "    name = name.replace(\"://\", \"\").replace(\".\", \"_\").replace(\"/\", \"_\")\n",
    "\n",
    "    # tack on .txt\n",
    "    name = name + \".txt\"\n",
    "\n",
    "    return name"
   ]
  },
  {
   "cell_type": "code",
   "execution_count": 14,
   "id": "94a78c78",
   "metadata": {},
   "outputs": [
    {
     "name": "stdout",
     "output_type": "stream",
     "text": [
      "Deleting old directory... \n",
      "Creating `lyrics` directory.\n"
     ]
    }
   ],
   "source": [
    "# Make the lyrics folder here. If you'd like to practice your programming, add functionality\n",
    "# that checks to see if the folder exists. If it does, then use shutil.rmtree to remove it and create a new one.\n",
    "\n",
    "if os.path.isdir(\"lyrics\"):\n",
    "    print(\"Deleting old directory... \")\n",
    "    shutil.rmtree(\"lyrics/\")\n",
    "\n",
    "print(\"Creating `lyrics` directory.\")\n",
    "os.mkdir(\"lyrics\")"
   ]
  },
  {
   "cell_type": "code",
   "execution_count": 40,
   "id": "d655b687",
   "metadata": {},
   "outputs": [
    {
     "name": "stdout",
     "output_type": "stream",
     "text": [
      "Deleting old artist directory...\n",
      "Creating artist directory: lyrics/robyn\n",
      "/lyrics/robyn/bumpyride.html\n",
      "robyn_bumpyride.txt\n",
      "Deleting old artist directory...\n",
      "Creating artist directory: lyrics/cher\n",
      "/lyrics/cher/allireallywanttodo.html\n",
      "cher_allireallywanttodo.txt\n"
     ]
    }
   ],
   "source": [
    "url_stub = \"https://www.azlyrics.com\"\n",
    "start = time.time()\n",
    "\n",
    "\n",
    "MAX_REQUESTS = 1  # limit requests during testing; use None to remove limit\n",
    "total_pages = 0\n",
    "\n",
    "for artist in lyrics_pages:\n",
    "\n",
    "    # Use this space to carry out the following steps:\n",
    "\n",
    "    # 1. Build a subfolder for the artist\n",
    "    artist_dir = os.path.join(\"lyrics\", artist)\n",
    "    # # print(artist_dir)\n",
    "    if os.path.isdir(os.path.join(\"lyrics\", artist)):\n",
    "        print(\"Deleting old artist directory...\")\n",
    "        shutil.rmtree(os.path.join(\"lyrics\", artist))\n",
    "    print(f\"Creating artist directory: {artist_dir}\")\n",
    "    os.mkdir(artist_dir)\n",
    "\n",
    "    # 2. Iterate over the lyrics pages\n",
    "    # print(lyrics_pages[artist])\n",
    "    for page in lyrics_pages[artist][:MAX_REQUESTS]:\n",
    "        lyric_page_url = url_stub + page\n",
    "        # print(lyric_page_url)\n",
    "\n",
    "        # 3. Request the lyrics page.\n",
    "        # Don't forget to add a line like `time.sleep(5 + 10*random.random())`\n",
    "        # to sleep after making the request\n",
    "        r = requests.get(lyric_page_url)\n",
    "        time.sleep(5 + 10 * random.random())\n",
    "\n",
    "        # 4. Extract the title and lyrics from the page.\n",
    "        soup = BeautifulSoup(r.text, \"html.parser\")\n",
    "        container = soup.find(\"div\", class_=\"col-xs-12 col-lg-8 text-center\")\n",
    "\n",
    "        # Extract title\n",
    "        ringtone_div = container.find(\"div\", class_=\"ringtone\")\n",
    "        song_title = ringtone_div.find_next(\"b\")\n",
    "        title = song_title.get_text(strip=True)\n",
    "\n",
    "        # Extract lyrics\n",
    "        lyrics_div = ringtone_div.find_next_sibling(\"div\")\n",
    "        lyrics = lyrics_div.get_text(separator=\"\\n\").strip()\n",
    "        # print(lyrics)\n",
    "        # print(title)\n",
    "\n",
    "        # 5. Write out the title, two returns ('\\n'), and the lyrics. Use `generate_filename_from_url`\n",
    "        #    to generate the filename.\n",
    "        title_and_lyrics = f\"{title}\\n\\n{lyrics}\"\n",
    "        # print(title_and_lyrics)\n",
    "        print(page)\n",
    "        filename = generate_filename_from_link(page)\n",
    "        print(filename)\n",
    "\n",
    "    # Remember to pull at least 20 songs per artist. It may be fun to pull all the songs for the artist"
   ]
  },
  {
   "cell_type": "code",
   "execution_count": null,
   "id": "36c394f1",
   "metadata": {},
   "outputs": [],
   "source": [
    "print(f\"Total run time was {round((time.time() - start)/3600,2)} hours.\")"
   ]
  },
  {
   "cell_type": "markdown",
   "id": "054cf14b",
   "metadata": {},
   "source": [
    "---\n",
    "\n",
    "# Evaluation\n",
    "\n",
    "This assignment asks you to pull data by scraping www.AZLyrics.com. After you have finished the above sections , run all the cells in this notebook. Print this to PDF and submit it, per the instructions.\n"
   ]
  },
  {
   "cell_type": "code",
   "execution_count": null,
   "id": "217c2b0a",
   "metadata": {},
   "outputs": [],
   "source": [
    "# Simple word extractor from Peter Norvig: https://norvig.com/spell-correct.html\n",
    "def words(text):\n",
    "    return re.findall(r\"\\w+\", text.lower())"
   ]
  },
  {
   "cell_type": "markdown",
   "id": "37778a1c",
   "metadata": {},
   "source": [
    "## Checking Lyrics\n",
    "\n",
    "The output from your lyrics scrape should be stored in files located in this path from the directory:\n",
    "`/lyrics/[Artist Name]/[filename from URL]`. This code summarizes the information at a high level to help the instructor evaluate your work.\n"
   ]
  },
  {
   "cell_type": "code",
   "execution_count": null,
   "id": "bccac29c",
   "metadata": {},
   "outputs": [],
   "source": [
    "artist_folders = os.listdir(\"lyrics/\")\n",
    "artist_folders = [f for f in artist_folders if os.path.isdir(\"lyrics/\" + f)]\n",
    "\n",
    "for artist in artist_folders:\n",
    "    artist_files = os.listdir(\"lyrics/\" + artist)\n",
    "    artist_files = [f for f in artist_files if \"txt\" in f or \"csv\" in f or \"tsv\" in f]\n",
    "\n",
    "    print(f\"For {artist} we have {len(artist_files)} files.\")\n",
    "\n",
    "    artist_words = []\n",
    "\n",
    "    for f_name in artist_files:\n",
    "        with open(\"lyrics/\" + artist + \"/\" + f_name) as infile:\n",
    "            artist_words.extend(words(infile.read()))\n",
    "\n",
    "    print(\n",
    "        f\"For {artist} we have roughly {len(artist_words)} words, {len(set(artist_words))} are unique.\"\n",
    "    )"
   ]
  }
 ],
 "metadata": {
  "kernelspec": {
   "display_name": "ads509",
   "language": "python",
   "name": "python3"
  },
  "language_info": {
   "codemirror_mode": {
    "name": "ipython",
    "version": 3
   },
   "file_extension": ".py",
   "mimetype": "text/x-python",
   "name": "python",
   "nbconvert_exporter": "python",
   "pygments_lexer": "ipython3",
   "version": "3.11.13"
  }
 },
 "nbformat": 4,
 "nbformat_minor": 5
}
