{
 "cells": [
  {
   "attachments": {},
   "cell_type": "markdown",
   "id": "bce2bb89",
   "metadata": {},
   "source": [
    "# ADS 509 Assignment 5.1: Topic Modeling\n",
    "\n",
    "This notebook holds Assignment 5.1 for Module 5 in ADS 509, Applied Text Mining. Work through this notebook, writing code and answering questions where required.\n",
    "\n",
    "In this assignment you will work with a categorical corpus that accompanies `nltk`. You will build the three types of topic models described in Chapter 8 of _Blueprints for Text Analytics using Python_: NMF, LSA, and LDA. You will compare these models to the true categories.\n"
   ]
  },
  {
   "attachments": {},
   "cell_type": "markdown",
   "id": "d87e2c06",
   "metadata": {},
   "source": [
    "## General Assignment Instructions\n",
    "\n",
    "These instructions are included in every assignment, to remind you of the coding standards for the class. Feel free to delete this cell after reading it.\n",
    "\n",
    "One sign of mature code is conforming to a style guide. We recommend the [Google Python Style Guide](https://google.github.io/styleguide/pyguide.html). If you use a different style guide, please include a cell with a link.\n",
    "\n",
    "Your code should be relatively easy-to-read, sensibly commented, and clean. Writing code is a messy process, so please be sure to edit your final submission. Remove any cells that are not needed or parts of cells that contain unnecessary code. Remove inessential `import` statements and make sure that all such statements are moved into the designated cell.\n",
    "\n",
    "Make use of non-code cells for written commentary. These cells should be grammatical and clearly written. In some of these cells you will have questions to answer. The questions will be marked by a \"Q:\" and will have a corresponding \"A:\" spot for you. _Make sure to answer every question marked with a `Q:` for full credit._\n"
   ]
  },
  {
   "cell_type": "code",
   "execution_count": 1,
   "id": "a85bce08",
   "metadata": {},
   "outputs": [
    {
     "name": "stderr",
     "output_type": "stream",
     "text": [
      "/home/junc/miniconda3/envs/ads509/lib/python3.11/site-packages/tqdm/auto.py:21: TqdmWarning: IProgress not found. Please update jupyter and ipywidgets. See https://ipywidgets.readthedocs.io/en/stable/user_install.html\n",
      "  from .autonotebook import tqdm as notebook_tqdm\n",
      "/home/junc/miniconda3/envs/ads509/lib/python3.11/site-packages/spacy/cli/_util.py:23: DeprecationWarning: Importing 'parser.split_arg_string' is deprecated, it will only be available in 'shell_completion' in Click 9.0.\n",
      "  from click.parser import split_arg_string\n",
      "/home/junc/miniconda3/envs/ads509/lib/python3.11/site-packages/weasel/util/config.py:8: DeprecationWarning: Importing 'parser.split_arg_string' is deprecated, it will only be available in 'shell_completion' in Click 9.0.\n",
      "  from click.parser import split_arg_string\n"
     ]
    }
   ],
   "source": [
    "# These libraries may be useful to you\n",
    "\n",
    "#!pip install pyLDAvis==3.4.1 --user  #You need to restart the Kernel after installation.\n",
    "# You also need a Python version => 3.9.0\n",
    "from nltk.corpus import brown\n",
    "\n",
    "import numpy as np\n",
    "import pandas as pd\n",
    "from tqdm.auto import tqdm\n",
    "\n",
    "import pyLDAvis\n",
    "import pyLDAvis.lda_model\n",
    "import pyLDAvis.gensim_models\n",
    "\n",
    "import spacy\n",
    "from sklearn.feature_extraction.text import TfidfVectorizer, CountVectorizer\n",
    "from sklearn.decomposition import NMF, TruncatedSVD, LatentDirichletAllocation\n",
    "\n",
    "from spacy.lang.en.stop_words import STOP_WORDS as stopwords\n",
    "import en_core_web_sm\n",
    "\n",
    "from collections import Counter, defaultdict\n",
    "\n",
    "nlp = en_core_web_sm.load()"
   ]
  },
  {
   "cell_type": "code",
   "execution_count": 3,
   "id": "a218df60",
   "metadata": {},
   "outputs": [],
   "source": [
    "# add any additional libaries you need here"
   ]
  },
  {
   "cell_type": "code",
   "execution_count": 2,
   "id": "494de237",
   "metadata": {},
   "outputs": [],
   "source": [
    "# This function comes from the BTAP repo.\n",
    "def display_topics(model, features, no_top_words=5):\n",
    "    for topic, words in enumerate(model.components_):\n",
    "        total = words.sum()\n",
    "        largest = words.argsort()[::-1]  # invert sort order\n",
    "        print(\"\\nTopic %02d\" % topic)\n",
    "        for i in range(0, no_top_words):\n",
    "            print(\n",
    "                \"  %s (%2.2f)\"\n",
    "                % (features[largest[i]], abs(words[largest[i]] * 100.0 / total))\n",
    "            )"
   ]
  },
  {
   "attachments": {},
   "cell_type": "markdown",
   "id": "a30a901c",
   "metadata": {},
   "source": [
    "## Getting to Know the Brown Corpus\n",
    "\n",
    "Let's spend a bit of time getting to know what's in the Brown corpus, our NLTK example of an \"overlapping\" corpus.\n"
   ]
  },
  {
   "cell_type": "code",
   "execution_count": 3,
   "id": "457c59ed",
   "metadata": {},
   "outputs": [
    {
     "name": "stdout",
     "output_type": "stream",
     "text": [
      "For adventure we have 29 articles.\n",
      "For belles_lettres we have 75 articles.\n",
      "For editorial we have 27 articles.\n",
      "For fiction we have 29 articles.\n",
      "For government we have 30 articles.\n",
      "For hobbies we have 36 articles.\n",
      "For humor we have 9 articles.\n",
      "For learned we have 80 articles.\n",
      "For lore we have 48 articles.\n",
      "For mystery we have 24 articles.\n",
      "For news we have 44 articles.\n",
      "For religion we have 17 articles.\n",
      "For reviews we have 17 articles.\n",
      "For romance we have 29 articles.\n",
      "For science_fiction we have 6 articles.\n"
     ]
    }
   ],
   "source": [
    "# categories of articles in Brown corpus\n",
    "for category in brown.categories():\n",
    "    print(f\"For {category} we have {len(brown.fileids(categories=category))} articles.\")"
   ]
  },
  {
   "attachments": {},
   "cell_type": "markdown",
   "id": "23fb133c",
   "metadata": {},
   "source": [
    "Let's create a dataframe of the articles in of hobbies, editorial, government, news, and romance.\n"
   ]
  },
  {
   "cell_type": "code",
   "execution_count": 4,
   "id": "18f50b9d",
   "metadata": {},
   "outputs": [
    {
     "data": {
      "text/plain": [
       "(166, 3)"
      ]
     },
     "execution_count": 4,
     "metadata": {},
     "output_type": "execute_result"
    }
   ],
   "source": [
    "categories = [\"editorial\", \"government\", \"news\", \"romance\", \"hobbies\"]\n",
    "\n",
    "category_list = []\n",
    "file_ids = []\n",
    "texts = []\n",
    "\n",
    "for category in categories:\n",
    "    for file_id in brown.fileids(categories=category):\n",
    "\n",
    "        # build some lists for a dataframe\n",
    "        category_list.append(category)\n",
    "        file_ids.append(file_id)\n",
    "\n",
    "        text = brown.words(fileids=file_id)\n",
    "        texts.append(\" \".join(text))\n",
    "\n",
    "\n",
    "df = pd.DataFrame()\n",
    "df[\"category\"] = category_list\n",
    "df[\"id\"] = file_ids\n",
    "df[\"text\"] = texts\n",
    "\n",
    "df.shape"
   ]
  },
  {
   "cell_type": "code",
   "execution_count": 5,
   "id": "586f47de",
   "metadata": {},
   "outputs": [],
   "source": [
    "# Let's add some helpful columns on the df\n",
    "df[\"char_len\"] = df[\"text\"].apply(len)\n",
    "df[\"word_len\"] = df[\"text\"].apply(lambda x: len(x.split()))"
   ]
  },
  {
   "cell_type": "code",
   "execution_count": 6,
   "id": "2128fd2d",
   "metadata": {},
   "outputs": [
    {
     "data": {
      "text/plain": [
       "<Axes: xlabel='category'>"
      ]
     },
     "execution_count": 6,
     "metadata": {},
     "output_type": "execute_result"
    },
    {
     "data": {
      "image/png": "[encoded data removed]",
      "text/plain": [
       "<Figure size 1000x600 with 1 Axes>"
      ]
     },
     "metadata": {},
     "output_type": "display_data"
    }
   ],
   "source": [
    "%matplotlib inline\n",
    "df.groupby('category').agg({'word_len': 'mean'}).plot.bar(figsize=(10,6))"
   ]
  },
  {
   "attachments": {},
   "cell_type": "markdown",
   "id": "554ffeb5",
   "metadata": {},
   "source": [
    "Now do our TF-IDF and Count vectorizations.\n"
   ]
  },
  {
   "cell_type": "code",
   "execution_count": 7,
   "id": "21a7d247",
   "metadata": {},
   "outputs": [
    {
     "name": "stderr",
     "output_type": "stream",
     "text": [
      "/home/junc/miniconda3/envs/ads509/lib/python3.11/site-packages/sklearn/feature_extraction/text.py:402: UserWarning: Your stop_words may be inconsistent with your preprocessing. Tokenizing the stop words generated tokens ['ll', 've'] not in stop_words.\n",
      "  warnings.warn(\n"
     ]
    },
    {
     "data": {
      "text/plain": [
       "(166, 4941)"
      ]
     },
     "execution_count": 7,
     "metadata": {},
     "output_type": "execute_result"
    }
   ],
   "source": [
    "count_text_vectorizer = CountVectorizer(\n",
    "    stop_words=list(stopwords), min_df=5, max_df=0.7\n",
    ")\n",
    "count_text_vectors = count_text_vectorizer.fit_transform(df[\"text\"])\n",
    "count_text_vectors.shape"
   ]
  },
  {
   "cell_type": "code",
   "execution_count": 8,
   "id": "875deba9",
   "metadata": {},
   "outputs": [
    {
     "data": {
      "text/plain": [
       "(166, 4941)"
      ]
     },
     "execution_count": 8,
     "metadata": {},
     "output_type": "execute_result"
    }
   ],
   "source": [
    "tfidf_text_vectorizer = TfidfVectorizer(\n",
    "    stop_words=list(stopwords), min_df=5, max_df=0.7\n",
    ")\n",
    "tfidf_text_vectors = tfidf_text_vectorizer.fit_transform(df[\"text\"])\n",
    "tfidf_text_vectors.shape"
   ]
  },
  {
   "attachments": {},
   "cell_type": "markdown",
   "id": "a1062b21",
   "metadata": {},
   "source": [
    "Q: What do the two data frames `count_text_vectors` and `tfidf_text_vectors` hold?\n",
    "\n",
    "A: Both dataframes are document-term matrices which is a vector representation\n",
    "of all the documents. The `count_text_vectorizer` is a bag-of-words matrix\n",
    "where each column is a unique word in the corpus and each row represents a\n",
    "document and each cell is the raw count of how many times the word appears in\n",
    "that document.\n",
    "The `tfidf_text_vectorizer` is similar to the `count_text_vectorizer` except\n",
    "instead of raw counts, the cells are filled with the weights of the words\n",
    "based on Term Frequency - Inverse Document Frequency.\n"
   ]
  },
  {
   "attachments": {},
   "cell_type": "markdown",
   "id": "f77c3f94",
   "metadata": {},
   "source": [
    "## Fitting a Non-Negative Matrix Factorization Model\n",
    "\n",
    "In this section the code to fit a five-topic NMF model has already been written. This code comes directly from the [BTAP repo](https://github.com/blueprints-for-text-analytics-python/blueprints-text), which will help you tremendously in the coming sections.\n"
   ]
  },
  {
   "cell_type": "code",
   "execution_count": 9,
   "id": "d28745a3",
   "metadata": {},
   "outputs": [],
   "source": [
    "nmf_text_model = NMF(n_components=5, random_state=314)\n",
    "W_text_matrix = nmf_text_model.fit_transform(tfidf_text_vectors)\n",
    "H_text_matrix = nmf_text_model.components_"
   ]
  },
  {
   "cell_type": "code",
   "execution_count": 10,
   "id": "a67185e7",
   "metadata": {},
   "outputs": [
    {
     "name": "stdout",
     "output_type": "stream",
     "text": [
      "\n",
      "Topic 00\n",
      "  mr (0.51)\n",
      "  president (0.45)\n",
      "  kennedy (0.43)\n",
      "  united (0.42)\n",
      "  khrushchev (0.40)\n",
      "\n",
      "Topic 01\n",
      "  said (0.88)\n",
      "  didn (0.46)\n",
      "  ll (0.45)\n",
      "  thought (0.42)\n",
      "  man (0.37)\n",
      "\n",
      "Topic 02\n",
      "  state (0.39)\n",
      "  development (0.36)\n",
      "  tax (0.33)\n",
      "  sales (0.30)\n",
      "  program (0.25)\n",
      "\n",
      "Topic 03\n",
      "  mrs (2.61)\n",
      "  mr (0.78)\n",
      "  said (0.63)\n",
      "  miss (0.52)\n",
      "  car (0.51)\n",
      "\n",
      "Topic 04\n",
      "  game (1.02)\n",
      "  league (0.74)\n",
      "  ball (0.72)\n",
      "  baseball (0.71)\n",
      "  team (0.66)\n"
     ]
    }
   ],
   "source": [
    "display_topics(nmf_text_model, tfidf_text_vectorizer.get_feature_names_out())"
   ]
  },
  {
   "attachments": {},
   "cell_type": "markdown",
   "id": "fee51e9b",
   "metadata": {},
   "source": [
    "Now some work for you to do. Compare the NMF categorization to the original categories from the Brown Corpus.\n",
    "\n",
    "We are interested in the extent to which our NMF categorization agrees or disagrees with the original categories in the corpus. For each topic in your NMF model, tally the Brown categories and interpret the results.\n"
   ]
  },
  {
   "cell_type": "code",
   "execution_count": 18,
   "id": "7c8c8eb0",
   "metadata": {},
   "outputs": [
    {
     "data": {
      "application/vnd.microsoft.datawrangler.viewer.v0+json": {
       "columns": [
        {
         "name": "index",
         "rawType": "int64",
         "type": "integer"
        },
        {
         "name": "category",
         "rawType": "object",
         "type": "string"
        },
        {
         "name": "id",
         "rawType": "object",
         "type": "string"
        },
        {
         "name": "text",
         "rawType": "object",
         "type": "string"
        },
        {
         "name": "char_len",
         "rawType": "int64",
         "type": "integer"
        },
        {
         "name": "word_len",
         "rawType": "int64",
         "type": "integer"
        },
        {
         "name": "topic",
         "rawType": "int64",
         "type": "integer"
        }
       ],
       "ref": "802dc5ea-e458-4e4a-9898-d6bd5227ec3a",
       "rows": [
        [
         "0",
         "editorial",
         "cb01",
         "Assembly session brought much good The General Assembly , which adjourns today , has performed in an atmosphere of crisis and struggle from the day it convened . It was faced immediately with a showdown on the schools , an issue which was met squarely in conjunction with the governor with a decision not to risk abandoning public education . There followed the historic appropriations and budget fight , in which the General Assembly decided to tackle executive powers . The final decision went to the executive but a way has been opened for strengthening budgeting procedures and to provide legislators information they need . Long-range planning of programs and ways to finance them have become musts if the state in the next few years is to avoid crisis-to-crisis government . This session , for instance , may have insured a financial crisis two years from now . In all the turmoil , some good legislation was passed . Some other good bills were lost in the shuffle and await future action . Certainly all can applaud passage of an auto title law , the school bills , the increase in teacher pensions , the ban on drag racing , acceptance by the state of responsibility for maintenance of state roads in municipalities at the same rate as outside city limits , repeal of the college age limit law and the road maintenance bond issue . No action has been taken , however , on such major problems as ending the fee system , penal reform , modification of the county unit system and in outright banning of fireworks sales . Only a token start was made in attacking the tax reappraisal question and its companion issue of attracting industry to the state . The legislature expended most of its time on the schools and appropriations questions . Fortunately it spared us from the usual spate of silly resolutions which in the past have made Georgia look like anything but `` the empire state of the South '' . We congratulate the entire membership on its record of good legislation . In the interim between now and next year , we trust the House and Senate will put their minds to studying Georgia's very real economic , fiscal and social problems and come up with answers without all the political heroics . League regularly stands on the side of right The League of Women Voters , 40 now and admitting it proudly , is inviting financial contributions in the windup of its fund drive . It's a good use of money . These women whose organization grew out of the old suffrage movement are dedicated to Thomas Jefferson's dictum that one must cherish the people's spirit but `` Keep alive their attention '' . `` If once they become inattentive to the public affairs '' , Jefferson said , `` you and I , and Congress and assemblies , judges and governors , shall all become wolves '' . Newspapermen and politicians especially are aware of the penetrating attention and expert analysis the league gives to public affairs . The league workers search out the pros and cons of the most complex issues and make them available to the public . The harder the choice , the more willing the league is to wade in . And the league takes a stand , with great regularity , on the side of right . Look to Coosa Valley for industrial progress Cities and counties interested in industrial development would do well in the months ahead to keep their eyes peeled toward the 13 northwest Georgia counties that are members of the Coosa Valley Area Planning and Development Commission . Coupling its own budget of $83,750 with a $30,000 state grant authorized by Gov. Vandiver , the group expects to sign a contract in March with Georgia Tech. . Then a full-time planning office will be established in Rome to work with a five-member Georgia Tech research staff for development of an area planning and industrial development program . The undertaking has abundant promise . It recognizes the fact that what helps one county helps its neighbors and that by banding together in an area-wide effort better results can be accomplished than through the go-it-alone approach . Rusk idea strengthens United States defense The Rusk belief in balanced defense , replacing the Dulles theory of massive retaliation , removes a grave danger that has existed . The danger lay not in believing that our own A-bombs would deter Russia's use of hers ; ; that theory was and is sound . The danger lay in the American delusion that nuclear deterrence was enough . By limiting American strength too much to nuclear strength , this country limited its ability to fight any kind of war besides a nuclear war . This strategy heightened the possibility that we would have a nuclear war . It also weakened our diplomatic stance , because Russia could easily guess we did not desire a nuclear war except in the ultimate extremity . This left the Soviets plenty of leeway to start low-grade brushfire aggressions with considerable impunity . By maintaining the nuclear deterrent , but gearing American military forces to fight conventional wars too , Secretary of State Rusk junks bluff and nuclear brinkmanship and builds more muscle and greater safety into our military position . DeKalb budget shows county is on beam DeKalb's budget for 1961 is a record one and carries with it the promise of no tax increase to make it balance . It includes a raise in the county minimum wage , creation of several new jobs at the executive level , financing of beefed-up industrial development efforts , and increased expenditures for essential services such as health and welfare , fire protection , sanitation and road maintenance . That such expansion can be obtained without a raise in taxes is due to growth of the tax digest and sound fiscal planning on the part of the board of commissioners , headed by Chairman Charles O. Emmerich who is demonstrating that the public trust he was given was well placed , and other county officials . Somewhere , somebody is bound to love us G. Mennen Williams is learning the difficulties of diplomacy rapidly . Touring Africa , the new U.S. Assistant Secretary of State observed `` Africa should be for the Africans '' and the British promptly denounced him . Then he arrived in Zanzibar and found Africans carrying signs saying `` American imperialists , go home '' . Chin up , Soapy . Power company backs confidence with dollars Confidence in the state's economic future is reflected in the Georgia Power Company's record construction budget for this year . The firm does a large amount of research and its forecasts have meaning . It is good to know that Georgia will continue to have sufficient electrical power not only to meet the demands of normal growth but to encourage a more rapid rate of industrialization . Georgia's mental health program received a badly needed boost from the General Assembly in the form of a $1,750,000 budget increase for the Milledgeville State Hospital . Actually it amounts to $1,250,000 above what the institution already is receiving , considering the additional half-million dollars Gov. Vandiver allocated last year from the state surplus . Either way it sounds like a sizable hunk of money and is . But exactly how far it will go toward improving conditions is another question because there is so much that needs doing . The practice of charging employes for meals whether they eat at the hospital or not should be abolished . The work week of attendants who are on duty 65 hours and more per week should be reduced . More attendants , nurses and doctors should be hired . Patients deserve more attention than they are getting . Even with the increase in funds for the next fiscal year , Georgia will be spending only around $3.15 per day per patient . The national average is more than $4 and that figure is considered by experts in the mental health field to be too low . Kansas , regarded as tops in the nation in its treatment of the mentally ill , spends $9 per day per patient . Georgia has made some reforms , true . The intensive treatment program is working well . But in so many other areas we still are dragging . Considering what is being done compared to what needs to be done , it behooves the hospital management to do some mighty careful planning toward making the best possible use of the increase granted . The boost is helpful but inadequate . The end of Trujillo Assassination , even of a tyrant , is repulsive to men of good conscience . Rafael Trujillo , the often blood-thirsty dictator of the Dominican Republic for 31 years , perhaps deserved his fate in an even-handed appraisal of history . But whether the murder of El Benefactor in Ciudad Trujillo means freedom for the people of the Caribbean fiefdom is a question that cannot now be answered . Trujillo knew a great deal about assassination . The responsibility for scores of deaths , including the abduction and murder of Jesus Maria Galindez , a professor at Columbia University in New York , has been laid at his door . He had been involved in countless schemes to do away with democratic leaders in neighboring countries such as President Romulo Betancourt of Venezuela . It was a sort of poetic justice that at the time of his own demise a new plot to overthrow the Venezuelan government , reportedly involving the use of Dominican arms by former Venezuelan Dictator Marcos Perez Jimenez , has been uncovered and quashed . The recent history of the Dominican Republic is an almost classical study of the way in which even a professedly benevolent dictatorship tends to become oppressive . Unquestionably Trujillo did some good things for his country : he improved public facilities such as roads and sanitation , attracted industry and investment and raised the standard of living notably . But the price was the silence of the grave for all criticism or opposition . El Benefactor's vanity grew with his personal wealth . The jails were filled to overflowing with political prisoners who had incurred his displeasure . He maintained amply financed lobbies in the United States and elsewhere which sycophantically chanted his praise , and his influence extended even to Congress . Until the last year or so the profession of friendship with the United States had been an article of faith with Trujillo , and altogether too often this profession was accepted here as evidence of his good character . Tardily the Government here came to understand how this country's own reputation was tarnished by the association with repression . Last year , after Trujillo had been cited for numerous aggressions in the Caribbean , the United States and many other members of the Organization of American States broke diplomatic relations with him . Thereupon followed a demonstration that tyranny knows no ideological confines . Trujillo's dictatorship had been along conservative , right-wing lines . But after the censure he and his propaganda started mouthing Communist slogans . There was considerable evidence of a tacit rapprochement with Castro in Cuba , previously a bete noire to Trujillo -- thus illustrating the way in which totalitarianism of the right and left coalesces . What comes after Trujillo is now the puzzle . The Dominican people have known no democratic institutions and precious little freedom for a generation , and all alternative leadership has been suppressed . Perhaps the army will be able to maintain stability , but the vacuum of free institutions creates a great danger . The Dominican Republic could turn toward Communist-type authoritarianism as easily as toward Western freedom . Such a twist would be a tragedy for the Dominican people , who deserve to breathe without fear . For that reason any democratic reform and effort to bring genuine representative government to the Dominican Republic will need the greatest sympathy and help . Start on rapid transit High-speed buses on the George Washington Memorial Parkway , operating between downtown Washington and Cabin John , Glen Echo and Brookmont , would constitute an alluring sample of what the new National Capital Transportation Agency can do for this city . In presenting plans for such express buses before the Montgomery County Council , the administrator of the NCTA , C. Darwin Stolzenbach , was frankly seeking support for the projects his agency will soon be launching . Such support should not be difficult to come by if all the plans to be presented by the NCTA are as attractive as this outline of express buses coming into the downtown area . Because the buses would not stop on the parkway , land for bus stations and for parking areas nearby will be needed . The NCTA is well advised to seek funds for this purpose from the present session of Congress .",
         "12659",
         "2200",
         "2"
        ],
        [
         "1",
         "editorial",
         "cb02",
         "Must Berlin remain divided ? ? The inference has been too widely accepted that because the Communists have succeeded in building barricades across Berlin the free world must acquiesce in dismemberment of that living city . So far as the record is concerned , the Western powers have not acquiesced and should not do so . Though Walter Ulbricht , by grace of Soviet tanks , may be head man in East Germany , that does not give him any right to usurp the government of East Berlin or to absorb that semi-city into the Soviet zone . The wartime protocol of September 12 , 1944 , designated a special `` Greater Berlin '' area , comprising the entire city , to be under joint occupation . It was not a part of any one of the three ( later four ) zones for occupation by Soviet , American , British , and French troops respectively . After the Berlin blockade and airlift , the Council of Foreign Ministers in 1949 declared a purpose `` to mitigate the effects of the present administrative division of Germany and of Berlin '' . For some time the Communists honored the distinction between the Soviet zone of Germany and the Soviet sector of Berlin by promulgating separately the laws for the two areas . Then they moved offices of the East German puppet government into East Berlin and began illegally to treat it as the capital of East Germany . That this and the closing of the East Berlin-West Berlin border have not been accepted by the Western governments appears in notes which Britain , France , and the United States sent to Moscow after the latter's gratuitous protest over a visit of Chancellor Adenauer and other West German officials to West Berlin . The Chancellor had as much business there as Ulbricht had in East Berlin -- and was certainly less provocative than the juvenile sound-truck taunts of Gerhard Eisler . The British and other replies to that Moscow note pointed out efforts of the Communist authorities `` to integrate East Berlin into East Germany by isolating it from the outside and attempting to make it the capital of East Germany '' . They insisted on the `` fundamental fact '' that `` the whole of Berlin has a quadripartite status '' . This is far from acknowledging or recognizing those efforts as an accomplished fact . There remains , of course , the question of what the West can do beyond diplomatic protest to prevent the illegal efforts from becoming accomplished facts . One ground of action certainly exists when fusillades of stray shots go over into West Berlin as Communist `` vopos '' try to gun down fleeing unarmed residents . Another remained when an American Army car was recovered but with a broken glass . The glass may seem trivial but Communist official hooliganism feeds on such incidents unless they are redressed . Remembering the step-by-step fate of Danzig and the West German misgivings about `` salami '' tactics , it is to be hoped that the dispatch of General Clay to West Berlin as President Kennedy's representative will mark a stiffening of response not only to future indignities and aggressions but also to some that have passed . Prairie National Park Thousands of buffalo ( `` bison '' they will never be to the man on the street ) grazing like a mobile brown throw-rug upon the rolling , dusty-green grassland . A horizon even and seamless , binding the vast sun-bleached dome of sky to earth . That picture of the American prairie is as indelibly fixed in the memory of those who have studied the conquest of the American continent as any later cinema image of the West made in live-oak canyons near Hollywood . For it was the millions of buffalo and prairie chicken and the endless seas of grass that symbolized for a whole generation of Americans the abundant supply that was to take many of them westward when the Ohio and Mississippi valleys began to fill . The National Park Service now proposes to preserve an area in Pottawatomie County , northeast Kansas , as a `` Prairie National Park '' . There the buffalo would roam , to be seen as a tapestry , not as moth-eaten zoo specimens . Wooded stream valleys in the folds of earth would be saved . Grasslands would extend , unfenced , unplowed , unbroken by silo or barn -- as the first settlers saw them . The Park Service makes an impressive ecological and statistical case for creating this new park . American history should clinch the case when Congress is asked to approve . Whisky on the air A Philadelphia distiller is currently breaching the customary prohibition against hard-liquor advertising on TV and radio . Starting with small stations not members of the National Association of Broadcasters , the firm apparently is seeking to break down the anti-liquor barriers in major-market stations . Probably the best answer to this kind of entering wedge is congressional action requiring the Federal Communications Commission to ban such advertising through its licensing power . The National Association of Broadcasters code specifically bars hard-liquor commercials . Past polls of public opinion show popular favor for this policy . Even the Distilled Spirits Institute has long had a specific prohibition . Why , then , with these voluntary barricades and some state laws barring liquor ads , is it necessary to seek congressional action ? ? Simply because the subverting action of firms that are not members of the Distilled Spirits Institute and of radio and TV stations that are not members of the NAB tends to spread . Soon some members of the two industry groups doubtless will want to amend their codes on grounds that otherwise they will suffer unfairly from the efforts of non-code competitors . Although the false glamour surrounding bourbon or other whisky commercials is possibly no more fatuous than the pseudo-sophistication with which TV soft-drinks are downed or toothpaste applied , there is a sad difference between enticing a viewer into sipping Oopsie-Cola and gulling him into downing bourbon . A law is needed . New York : Democrats' choice Registered Democrats in New York City this year have the opportunity to elect their party's candidates for Mayor and other municipal posts and the men who will run their party organization . In the central contest , that for Mayor , they may have found some pertinent points in what each faction has said about the other . Mayor Robert F. Wagner must , as his opponents demand , assume responsibility for his performance in office . While all citizens share in blame for lax municipal ethics the Wagner regime has seen serious problems in the schools , law enforcement and fiscal policies . The Mayor is finding it awkward to campaign against his own record . State Controller Arthur Levitt , on the other hand , cannot effectively deny that he has chosen to be the candidate of those party leaders who as a rule have shown livelier interest in political power than in the city's welfare . They , too , have links with the city's ills . Both men are known to be honest and public-spirited . Mayor Wagner's shortcomings have perhaps been more mercilessly exposed than those of Mr. Levitt who left an impression of quiet competence in his more protected state post . As Mayor , Mr. Levitt might turn out to be more independent than some of his leading supporters would like . His election , on the other hand , would unquestionably strengthen the `` regulars '' . Mr. Wagner might or might not be a `` new '' Mayor in this third term , now that he is free of the pressure of those party leaders whom he calls `` bosses '' . These are , of course , the same people whose support he has only now rejected to seek the independent vote . But his reelection would strengthen the liberal Democrats and the labor unions who back him . If this choice is less exciting than New York Democrats may wish , it nevertheless must be made . The vote still gives citizens a voice in the operation of their government and their party . Little war , big test Both Mr. K's have so far continued to speak softly and carry big sticks over Laos . President Kennedy , already two quiet demands down , still refused Thursday to be drawn into delivering a public ultimatum to Moscow . But at the same time he moved his helicopter-borne marines to within an hour of the fighting . And Secretary Rusk , en route to Bangkok , doubtless is trying to make emergency arrangements for the possible entry of Australian or Thai SEATO forces . For Mr. Kennedy , speaking softly and carrying a sizable stick is making the best of a bad situation . The new President is in no position to start out his dealings with Moscow by issuing callable bluffs . He must show at the outset that he means exactly what he says . In this case he has put the alternatives clearly to Mr. Khrushchev for the third time . At his press conference Mr. Kennedy said , `` All we want in Laos is peace not war a truly neutral government not a cold war pawn '' . At the scene he has just as clearly shown his military strength in unprovocative but ready position . Since Laos is of no more purely military value to Moscow itself than it is to Washington , this approach might be expected to head off Mr. Khrushchev for the moment . But because of the peculiar nature of the military situation in Laos , the Soviet leader must be tempted to let things ride -- a course that would appear to cost him little on the spot , but would bog Washington in a tactical mess . As wars go , Laos is an extremely little one . Casualties have been running about a dozen men a day . The hard core of the pro-Communist rebel force numbers only some 2,000 tough Viet Minh guerrilla fighters . But for the United States and its SEATO allies to attempt to shore up a less tough , less combat-tested government army in monsoon-shrouded , road-shy , guerrilla-th'-wisp terrain is a risk not savored by Pentagon planners . But if anything can bring home to Mr. Khrushchev the idea that he will not really get much enjoyment from watching this Braddock-against-the-Indians contest , it will probably be the fact that SEATO forces are ready to attempt it -- plus the fact that Moscow has something to lose from closing off disarmament and other bigger negotiations with Washington . Fortunately both the Republicans and America's chief Western allies now are joined behind the neutral Laos aim of the President . Actually it would be more accurate to say that the leader of the alliance now has swung fully behind the British policy of seeking to achieve a neutral Laos via the international bargaining table . It is ironic that Washington is having to struggle so for a concept that for six years it bypassed as unreasonable . The State Department tacitly rejected the neutral Laos idea after the Geneva conference of 1954 , and last year Washington backed the rightist coup that ousted neutral Premier Souvanna Phouma . But since last fall the United States has been moving toward a pro-neutralist position and now is ready to back the British plan for a cease-fire patrolled by outside observers and followed by a conference of interested powers . The road to a guaranteed-neutral , coup-proof Laos is today almost as difficult as warfare on that nation's terrain . But for the safety of Southeast Asia , and for the sake of the Laotian people -- who would not be well-ruled by either militant minority now engaged in the fighting -- this last big effort to seal that country from the cold war had to be made . The world awaits Mr. Khrushchev's choice of alternatives . A vote for educational TV The Senate's overwhelming ( 64-13 ) vote to support locally controlled educational TV efforts should be emulated in the lower house . Twice previously the Senate has approved measures backing ETV and the House has let them die . But this year prospects may be better . The House communications subcommittee is expected to report out a good bill calling for the states to match federal funds . This year's Senate measure would provide each state and the District of Columbia with $1,000,000 to be used in support of private , state , or municipal ETV efforts . The funds would be used for equipment , not for land , buildings , or operation . The relatively few communities that have educational stations have found them of considerable value . But , lacking money from commercial sponsors , the stations have had difficulties meeting expenses or improving their service . Other communities -- the ones to be aided most by the Senate bill -- have had difficulty starting such stations because of the high initial cost of equipment .",
         "12544",
         "2234",
         "0"
        ],
        [
         "2",
         "editorial",
         "cb03",
         "A good man departs . Goodby , Mr. Sam . Sam Rayburn was a good man , a good American , and , third , a good Democrat . He was all of these rolled into one sturdy figure ; ; Mr. Speaker , Mr. Sam , and Mr. Democrat , at one and the same time . The House was his habitat and there he flourished , first as a young representative , then as a forceful committee chairman , and finally in the post for which he seemed intended from birth , Speaker of the House , and second most powerful man in Washington . Mr. Rayburn was not an easy man to classify or to label . He was no flaming liberal , yet the New Deal , the Fair Deal and the New Frontier needed him . He was not a rear-looking conservative , yet partisans of that persuasion will miss him as much as any . Two of the vital qualities demanded of a politician by other politicians are that he always keep a confidence and that he keep his word . Sam Rayburn took unnumbered secrets with him to the grave , for he was never loquacious , and his word , once given , was not subject to retraction . It might be added that as he kept his word so he expected that others keep theirs . The demonstration of his power was never flamboyant or theatrical . His leadership was not for audiences . A growl , a nod , was usually enough . When it was not , one of the great dramas of Washington would be presented . He would rise in the well of the House , his chin upon his chest , his hands gripping the side of a desk , and the political and legislative chatter would subside into silence . He spoke briefly , sensibly , to the point and without oratorical flourishes . He made good , plain American common sense and the House usually recognized it and acted upon it . These public efforts were rare because Mr. Rayburn normally did his counseling , persuading and educating long before an issue reached its test on the House floor . He expected Democrats to do their duty when it had been patiently pointed out to them . With his long service he had a long memory , an excellent thing in a political leader . He was , of course , in the House for a very long time . There are only two men remaining in Congress who , with Rayburn , voted for the declaration of war against Germany in 1917 . To almost two generations of Americans it must have seemed as though the existence of Mr. Sam coincided with that of the House . And it was the House he loved . To be presiding officer of it was the end of his desire and ambition . The Senate to him was not the `` upper body '' and he corrected those who said he served `` under '' the president . He served `` with '' him . Sound the roll of those with whom he served and who preceded him in death . Woodrow Wilson , with whom he began his years in Washington , Warren G. Harding , Calvin Coolidge , FDR , with whom he managed a social revolution . And those still with us , Herbert C. Hoover , Harry S. Truman , Dwight D. Eisenhower and John F. Kennedy . He was a fighter for those of his own party . Mr. Truman has only to recall the `` hopeless '' campaign of 1948 to remember what a loyal partisan he was and the first experience of Mr. Kennedy with Congress would have been sadder than it was had not Mr. Sam been there . As it was , his absence because of his final illness was a blow to the administration . With Republican presidents , he fought fair . He was his own man , not an automatic obstructionist . He kept his attacks on Republicanism for partisan campaigns , but that is part of the game he was born to play . Under any name -- Mr. Speaker , Mr. Democrat , Mr. Sam -- he was a good man . un off the Congo track Thirteen Italian airmen who went to the Congo to serve the cause of peace under the United Nations banner have instead met violent death at the hands of Congolese troops supposedly their friends . In 18 months , no more grisly incident has been reported from that jungle . Simply out of bloodlust , their murderers dismembered the bodies and tossed the remains into the river . The excuse was offered for them that they had mistaken the Italians for Belgian mercenaries . In other words , atrocities by savages wearing the uniform of the central government might be condoned , had the victims been serving the cause of dissident Katanga . Does this suggest that the Congo is fit for nationhood or that UN is making any progress whatever toward its goal of so making it ? ? To the contrary , through the past six weeks violence has been piled upon violence . Mass rapes , troop mutinies , uncontrolled looting and pillage and reckless military adventures , given no sanction by any political authority , have become almost daily occurrences . Yet this basic condition of outlawry and anarchy is not the work of Katanga . It happens in the territory of the Leopoldville government , which is itself a fiction , demonstrably incapable of governing , and commanding only such limited credit abroad as UN support gives it . The main question raised by the incident is how much longer will UN bury its head in the sand on the Congo problem instead of facing the bitter fact that it has no solution in present terms ? ? The probable answer is that it will do so just as long as Russia can exercise a veto in favor of chaos and until young African nations wake up to the truth that out of false pride they are visiting ruin on Central Africa . Right now , they are pushing a resolution which would have UN use its forces to invade and subjugate Katanga . That notion is fantastically wrong-headed from several points of view . The UN army is too weak , too demoralized for the task . Further , it has its work cut out stopping anarchy where it is now garrisoned . Last , it makes no sense to deliver Katanga , the one reasonably solid territory , into the existing chaos . The Congo should have been mandated , because it was not ready for independence . The idea was not even suggested because political expediency prevailed over wisdom . It is perhaps too late now to talk of mandate because it is inconsistent with what is termed political realism . But if any realism and feeling for truth remain in the General Assembly , it is time for men of courage to measure the magnitude of the failure and urge some new approach . Otherwise , UN will march blindly on to certain defeat . Featherbed reversal A recent editorial discussing a labor-management agreement reached between the Southern Pacific Co. and the Order of Railroad Telegraphers has been criticized on the grounds that it was not based on complete information . The editorial was based on a news association dispatch which said that the telegraphers had secured an agreement whereby they were guaranteed 40 hours' pay per week whether they worked or not and that a reduction in their number was limited to 2 per cent per year . Our comment was that this was `` featherbedding '' in its ultimate form and that sympathy for the railroad was misplaced since it had entered into such an agreement . The statement was also made that undoubtedly the railroad had received some compensating benefit from the telegraphers , but that it was difficult to imagine what could balance a job for life . Additional information supplied to us discloses that the railroad gained a stabilized supply of telegraphers of which it was in need . Also , normal personnel attrition would make the job reduction provision more or less academic . The situation with regard to the Southern Pacific was therefore a special one and not necessarily applicable to other situations in other industries . The solution reached in the agreement was more acceptable to the railroad than that originally included in a series of union demands . Meditations from a fallout shelter Time was when the house of delegates of the American Bar association leaned to the common sense side . But the internationalists have taken over the governing body of the bar , and when the lads met in St. Louis , it was not to grumble about the humidity but to vote unanimously that the United Nations was scarcely less than wonderful , despite an imperfection here and there . It was , the brief writers decided , `` man's best hope for a peaceful and law abiding world '' . Peace , it's wonderful , and `` world law '' , it's wonderful , too , and shouldn't we get an international covenant extending it into space , before the Russians put some claim jumper on the moon ? ? Meanwhile , in Moscow , Khrushchev was adding his bit to the march of world law by promising to build a bomb with a wallop equal to 100 million tons of TNT , to knock sense into the heads of those backward oafs who can't see the justice of surrendering West Berlin to communism . A nuclear pacifier of these dimensions -- roughly some six and a half times bigger than anything the United States has triggered experimentally -- would certainly produce a bigger bang , and , just for kicks , Khrushchev might use it to propel the seminar of the house of delegates from St. Louis to the moon , where there wouldn't even be any beer to drink . While he was at it , the philosopher of the Kremlin contributed an additional assist to the rule of reason by bellowing at those in the west who can't appreciate coexistence thru suicide . `` Fools '' , he bayed , `` what do you think you are doing '' ? ? The only response we can think of is the humble one that at least we aren't playing the marimba with our shoes in the United Nations , but perhaps the heavy domes in the house of delegates can improve on this feeble effort . Another evidence of the spreading rule of reason was provided from Mexico City with the daily hijacking of an American plane by a demented Algerian with a gun . The craft made the familiar unwelcome flight to Havana , where , for some unknown reason , Castro rushed to the airport to express mortification to the Colombian foreign minister , a passenger , who is not an admirer of old Ten O'Clock Shadow . The plane was sent back to the United States , for a change , but Castro kept the crazy gunman , who will prove a suitable recruit to the revolution . Less respect for the legal conventions was displayed by Castro's right hand man , Che Guevara , who edified the Inter-American Economic and Social council meeting in Montevideo by reading two secret American documents purloined from the United States embassy at Caracas , Venezuela . The contents were highly embarrassing to American spokesmen , who were on hand to promise Latin Americans a 20 billion dollar foreign aid millennium . Perhaps the moralities of world law are not advanced by stealing American diplomatic papers and planes , but the Kennedy administration can always file a demurrer to the effect that , but for its own incompetence in protecting American interests , these things would not happen . The same can be said about the half-hearted Cuban invasion mounted by the administration last April , which , we trust , is not symptomatic of the methods to be invoked in holding off the felonious Khrushchev . Pass the iron rations , please , and light another candle , for it's getting dark down here and we're minded to read a bit of world law just to pass the time away . The customer loses again . The board of suspension of the Interstate Commerce commission has ordered a group of railroads not to reduce their freight rates on grain , as they had planned to do this month . The request for lower rates originated with the Southern railway , which has spent a good deal of time and money developing a 100-ton hopper car with which it says it can move grain at about half what it costs in the conventional , smaller car . By reducing rates as much as 60 per cent , it and its associated railroads hope to win back some of the business they have lost to truckers and barge lines . The board's action shows what free enterprise is up against in our complex maze of regulatory laws .",
         "11871",
         "2244",
         "0"
        ],
        [
         "3",
         "editorial",
         "cb04",
         "A shock wave from Africa Word of Dag Hammarskjold's death in an African plane crash has sent a shockwave around the globe . As head of the United Nations he was the symbol of world peace , and his tragic end came at a moment when peace hangs precariously . It was on the eve of a momentous U.N. session to come to grips with cold war issues . His firm hand will be desperately missed . Mr. Hammarskjold was in Africa on a mission of peace . He had sought talks with Moise Tshombe , the secessionist president of Congo's Katanga province where recent fighting had been bloody . He earnestly urged a cease-fire . The story of the fatal crash is not fully known . The U.N.-chartered plane which was flying from the conference city of Ndola in Northern Rhodesia had been riddled with machinegun bullets last weekend and was newly repaired . Whether this , or overt action , was the cause of the crash must be promptly determined . The death of Mr. Hammarskjold removes the United Nations' most controversial leader . He was controversial because he was uncompromising for peace and freedom with justice . He courageously defended the rights of small nations , and he stood his ground against the savage attacks of the Communist bloc . The Congo , in whose cause he died , was the scene of one of his greatest triumphs . His policies had resolved the conflicts that threatened to ignite the cold war and workable solutions were beginning to take shape . When the recent Katangan outbreaks imperiled these solutions Mr. Hammarskjold , despite the danger , flew to exert a calming influence . He gave his life for his beliefs . The U.N. session scheduled for today will meet under the cloud of his passing . It is a crucial session with the world on the edge of momentous developments . If the manner of his passing moves the nations to act in the spirit of his dedication the sore issues that plague the world can yet be resolved with reason and justice . That is the hope of mankind . Monument to togetherness reaching agreement on projects of value to the whole community has long been one of Greater Miami's hardest tasks . Too many have bogged down in bickering . Even when public bodies arrived at a consensus , at least one dissenting vote has been usual . So we note approvingly a fresh sample of unanimity . All nine members of the Inter-American Center Authority voted for Goodbody & Company's proposal to finance the long-awaited trade and cultural center . The widely known financial firm has 60 days to spell out the terms of its contract . If the indenture is accepted , the authority will proceed to validate a bond issue repayable from revenue . Then Goodbody will hand over a minimum of $15.5 million for developing the spacious Graves Tract to house the center . The next step awaits approval today by the Metro commissioners as the members of the Dade County Port Authority . They allotted $500,000 three years ago to support Interama until its own financing could be arranged . Less than half the sum has been spent , since the Interama board pinched pennies during that period of painstaking negotiations . The balance is being budgeted for the coming year . Unanimity on Interama is not surprising . It is one of the rare public ventures here on which nearly everyone is agreed . The City of Miami recently yielded a prior claim of $8.5 million on the Graves Tract to clear the way for the project . County officials have cooperated consistently . So have the people's elected spokesmen at the state and federal levels . Interama , as it rises , will be a living monument to Greater Miami's ability to get together on worthwhile enterprises . A short report and a good one progress , or lack of it , toward civil rights in the 50 states is reported in an impressive 689-page compilation issued last week by the United States Commission on Civil Rights . Much happened in this field during the past 12 months . Each state advisory committee documented its own activity . Some accounts are quite lengthy but Florida's is the shortest of all , requiring only four paragraphs . `` The established pattern of relative calm in the field of race relations has continued in all areas '' , reported this group headed by Harold Colee of Jacksonville and including two South Floridians , William D. Singer and John B. Turner of Miami . `` No complaints or charges have been filed during the past year , either verbally or written , from any individual or group . `` The committee continues to feel that Florida has progressed in a sound and equitable program at both the state and local levels in its efforts to review and assess transition problems as they arise from time to time in the entire spectrum of civil rights '' . Problems have arisen in this sensitive field but have been handled in most cases with understanding and restraint . The progress reported by the advisory committee is real . While some think we move too fast and others too slowly , Florida's record is a good one and stands out among the 50 . West Germany remains Western West Germany will face the crucial tests that lie ahead , on Berlin and unification , with a coalition government . This is the key fact emerging from Sunday's national election . Chancellor Adenauer's Christian Democratic Party slipped only a little in the voting but it was enough to lose the absolute Bundestag majority it has enjoyed since 1957 . In order to form a new government it must deal with one of the two rival parties which gained strength . Inevitably this means some compromise . The aging chancellor in all likelihood will be retired . Both Willy Brandt's Social Democrats , who gained 22 seats in the new parliament , and the Free Democrats , who picked up 23 , will insist on that before they enter the government . Moon-faced Ludwig Erhart , the economic expert , probably will ascend to the leadership long denied him . If he becomes chancellor , Dr. Erhart would make few changes . The wizard who fashioned West Germany's astonishing industrial rebirth is the soul of free enterprise . He is dedicated to building the nation's strength and , as are all West Germans , to a free Berlin and to reunion with captive East Germany . What is in doubt as the free Germans and their allies consider the voting trends is the nature of the coalition that will result . If the party of Adenauer and Erhart , with 45 per cent of the vote , approaches the party of Willy Brandt , which won 36 per cent , the result would be a stiffening of the old resolve . West Berlin's Mayor Brandt vigorously demanded a firmer stand on the dismemberment of his city and won votes by it . The Free Democrats ( 12 per cent of the vote ) believe a nuclear war can be avoided by negotiating with the Soviet Union , and more dealings with the Communist bloc . The question left by the election is whether West Germany veers slightly toward more firmness or more flexibility . It could go either way , since the gains for both points of view were about the same . Regardless of the decision two facts are clear . West Germany , with its industrial and military might , reaffirmed its democracy and remains firm with the free nations . And the career of Konrad Adenauer , who upheld Germany's tradition of rock-like leaders which Bismarck began , draws near the end . Better ask before joining Americans are a nation of joiners , a quality which our friends find endearing and sometimes amusing . But it can be dangerous if the joiner doesn't want to make a spectacle of himself . For instance , so-called `` conservative '' organizations , some of them secret , are sprouting in the garden of joining where `` liberal '' organizations once took root . One specific example is a secret `` fraternity '' which will `` coordinate anti-Communist efforts '' . The principle is commendable but we suspect that in the practice somebody is going to get gulled . According to The Chicago Tribune News Service , State Atty. Gen. Stanley Mosk of California has devised a series of questions which the joiner might well ask about any organization seeking his money and his name : 1 . Does it assail schools and churches with blanket accusations ? ? 2 . Does it attack other traditional American institutions with unsupportable and wild charges ? ? 3 . Does it put the label of un-American or subversive on everyone with whom it disagrees politically ? ? 4 . Does it attempt to rewrite modern history by blaming American statesmen for wars , Communism , depression , and other troubles of the world ? ? 5 . Does it employ crude pressure tactics with such means as anonymous telephone calls and letter writing campaigns ? ? 6 . Do its spokesmen seem more interested in the amount of money they collect than in the principles they purport to advocate ? ? In some instances a seventh question can be added : 7 . Does the organization show an affinity for a foreign government , political party or personality in opposition or preference to the American system ? ? If the would-be joiner asks these questions he is not likely to be duped by extremists who are seeking to capitalize on the confusions and the patriotic apprehensions of Americans in a troubled time . Falling somewhere in a category between Einstein's theory and sand fleas -- difficult to see but undeniably there , nevertheless -- is the tropical green `` city '' of Islandia , a string of offshore islands that has almost no residents , limited access and an unlimited future . The latter is what concerns us all . Whatever land you can see here , from the North tip end of Elliott Key looking southward , belongs to someone -- people who have title to the land . And what you can't see , the land underneath the water , belongs to someone , too . The public . The only real problem is to devise a plan whereby the owners of the above-water land can develop their property without the public losing its underwater land and the right to its development for public use and enjoyment . In the fairly brief but hectic history of Florida , the developers of waterfront land have too often wound up with both their land and ours . In this instance , happily , insistence is being made that our share is protected . And until this protection is at least as concrete as , say , the row of hotels that bars us from our own sands at Miami Beach , those who represent us all should agree to nothing . Closed doors in city hall The reaction of certain City Council members to California's newest anti-secrecy laws was as dismaying as it was disappointing . We had assumed that at least this local legislative body had nothing to hide , and , therefore , had no objections to making the deliberations of its committees and the city commissions available to the public . In the preamble to the open-meeting statutes , collectively known as the Brown Act , the Legislature declares that `` the public commissions , boards and councils and other public agencies in this state exist to aid in the conduct of the people's business . It is the intent of the law that their actions be taken openly and that their deliberations be conducted openly . `` The people of this state do not yield their sovereignty to the agencies that serve them . The people , in delegating authority , do not give their public servants the right to decide what is good for the people to know and what is not good for them to know . The full implementation of these noble words , however , has taken the efforts of five sessions of the Legislature . Since 1953 California has led the nation in enacting guarantees that public business shall be publicly conducted , but not until this year did the lawmakers in Sacramento plug the remaining loopholes in the Brown Act . Despite the lip service paid by local governments , the anti-secrecy statutes have been continuously subverted by reservations and rationalizations . When all else fails , it is argued that open sessions slow down governmental operations . We submit that this is a most desirable effect of the law -- and one of its principal aims . Without public scrutiny the deliberations of public agencies would no doubt be conducted more speedily . But the citizens would , of course , never be sure that the decisions that resulted were as correct as they were expeditious .",
         "12284",
         "2230",
         "0"
        ],
        [
         "4",
         "editorial",
         "cb05",
         "Help when needed If the Dominican Republic achieves free , democratic government , it will be due in large part to the U.S. show of force that enabled President Balaguer to prevent a threatened restoration of Trujillo dictatorship . Outwardly , Ciudad Trujillo is calm . None of the Trujillo family remains . Mr. Balaguer is in control , and opposition leaders have no further excuse to suspect his offer of a coalition government preliminary to free elections in the spring . Had U.S. warships not appeared off the Dominican coast , there is every possibility that the country would now be wracked by civil war . Ultimately either the Trujillos would have been returned to power or the conflict would have produced conditions favorable to a takeover by Dominican elements responsive to Castro in Cuba . Within the Organization of American States , there may be some criticism of this unilateral American intervention which was not without risk obviously . But there was no complaint from the Dominican crowds which lined Ciudad Trujillo's waterfront shouting , `` Vive Yankees '' ! ! More , the U.S. action was hailed by a principal opposition leader , Dr. Juan Bosch , as having saved `` many lives and many troubles in the near future '' . Mr. Balaguer's troubles are by no means over . He will need the help of all OAS members to eradicate , finally , the forces of authoritarianism , pro-Trujillo and pro-Castro alike . In cooperating toward that objective , OAS might move with the speed and effectiveness demonstrated by the United States . Matter of survival those watching the growing rivalry between craft unions and industrial unions may recognize all the pressures that led to the big labor split in 1935 . Now , as then , it is a matter of jobs . Craft unions seek work that industrial unions claim , such as factory maintenance . The issue was sufficiently potent in 1935 to spark secession from the American Federation of Labor of its industrial union members . That breach was healed 20 years later by merger of the American Federation of Labor and the Congress of Industrial Organizations . Or that's what it looked like at the time . But automation and the increasing complexity of factories has renewed the competition for jobs . Walter Reuther , leader of the industrial union faction of the AFL-CIO , says another two years of this squabbling will be disastrous for all American labor . Whether it could be as disastrous for American labor as , say , Jimmy Hoffa of the Teamsters , is a matter of conjecture . But the jurisdictional disputes that result from the craft-industrial rivalry do not win friends for labor . Engaged as it is in a battle for world trade as a condition of national survival , this country can have little patience with labor's family feuds . The concept of labor as a special class is outmoded , and in the task confronting America as bastion of the free world , labor must learn to put the national interest first if it is itself to survive . Deterrent the Army , Navy and Air Force , among others , may question Secretary Freeman's claim that the high estate of United States agriculture is the `` strongest deterrent '' to the spread of communism . But the secretary insists that the success of the American farmer is the `` greatest single source of strength '' in the struggle to insure freedom around the world . Mr. Freeman said that in many of the countries he visited on a recent world trade trip people were more awed by America's capacity to produce food surpluses than by our industrial production -- or even by the Soviet's successes in space . This shouldn't surprise the secretary ; ; American taxpayers have been impressed by the surpluses for a long , long time . In fact , over the years , the American farmer's capacity to over-produce has cost the taxpayers a large dollar . And thus far , Mr. Freeman has offered very little relief . The 1961 feed grain program , which the secretary sponsored , has been declared a billion dollar fiasco . In exchange for higher price supports , growers pledged reduction in planted acreage . But the farmers outsmarted Washington by shortening the distance between the rows and pouring on the fertilizer . The result : $1.1 billion added to the deficit in the federal budget . Perhaps , as Mr. Freeman says , American agriculture may stop the Communists , but it is also swindling the American taxpayer . What's wrong at state A senate subcommittee headed by Sen. Jackson of Washington has been going over the State Department and has reached some predictable conclusions . The department needs a clearer `` sense of direction '' at the top and it needs fewer , but better , people , Sen. Jackson says . The subcommittee is not alone in questioning the effectiveness of the department . President Kennedy has indicated his dissatisfaction with its performance . But those who would revitalize so complex an organization must , first of all , overcome the resistance of layers of officials wedded to traditional procedures , suspicious of innovation and fearful of mistakes . Nor does Sen. Jackson discuss the delicate situation created by the presence in the White House of a corps of presidential assistants engaged in the study of foreign policy . This tends to create friction and confusion and has not made it easier for Secretary Rusk to restore vigor and initiative among his subordinates . But competent observers believe he is making progress , particularly toward what Sen. Jackson lists as the primary need -- `` a clearer understanding of where our vital national interests lie and what we must do to promote them '' . The Jackson report will provide some of the political support Mr. Rusk will need if he is to get rid of department personnel engaged , as Sen. Jackson puts it , `` in work that does not really need doing '' . Mr. Rusk should also draw comfort from Sen. Jackson's recommendation that congressional methods of dealing with national security problems be improved . Self-criticism is a rare but needed commodity in Congress . Betting men forecasting economic activity is a hazardous undertaking even for the specialist . But now apparently the job of Secretary of Labor requires that he be willing to risk his reputation as a prognosticator of unemployment trends . James P. Mitchell , when he was the head of the department , promised to eat his hat if unemployment didn't drop below three million a couple of years ago . He lost , but settled for a cake in the shape of a fedora . His successor , Secretary Goldberg , also has been guessing wrong on a drop in the unemployment rate which has been holding just under 7 per cent for the last 11 months . No betting man , Mr. Goldberg says he's merely `` putting my neck out again '' by predicting the rate will go down this month . He is basing his guess on new government statistics that show business has broadened its stride -- a new record high in personal income , an increase in housing starts , a spurt in retail sales and a gain in orders for durable goods . Mr. Mitchell had an excuse for losing -- the steel strike lasted much longer than he anticipated . Mr. Goldberg has less reason for missing . The economy seems to be sailing along on an even keel and the 1961 hurricane season and auto strikes are at an end so they can't be blamed in November . The odds thus appear favorable that the secretary's neck may be spared . Little resistance Cambodia's chief of state , who has been accused of harboring Communist marauders and otherwise making life miserable for neighboring South Viet Nam and Thailand , insists he would be very unhappy if communism established its power in Southeast Asia . But so convinced of communism's inevitable triumph is Prince Sihanouk that he is ready to throw in the towel . `` I have to see the facts '' , is the way the prince puts it . And from that point of vantage he concedes another two years of grace to nations maintaining a pro-Western posture . Prince Sihanouk's powers of prognostication some day may be confirmed but history is not likely to praise the courage of his convictions . Bottom sighted Commerce Secretary Hodges seems to have been cast in the role of pacemaker for official Washington's economic forecasters . Weeks ago he saw a business upturn in the second quarter of this year while his colleagues in the Cabinet were shaking their heads in disagreement . Recently Treasury Secretary Dillon and Labor Secretary Goldberg fell into line with Mr. Hodges' appraisal , though there has been some reluctance to do so at the White House . And now Mr. Hodges has pioneered further into the economic unknown with the announcement that he thinks business has stopped sliding and that it should start going upward from this point . He is the first top administration officer to see the bottom of the slump . The secretary based his assessment on the upturn in retail sales . February's volume was 1 per cent above January's for the first pickup since last October , although it's still 1.5 per cent off from February 1960 . Corroborating Mr. Hodges' figures was the Federal Reserve Board's report of the large sales increase in the nation's department stores for the week ending March 4 . In Newark , for example , this gain was put at 26 per cent above the year-earlier level . Of course , some of the credit for the sale boost must be given to improvement in the weather and to the fact that Easter comes more than two weeks earlier than in 1960 . Another optimistic sign , this one from the Labor Department , was the report that the long rise in unemployment compensation payments `` was interrupted for the first time in the week ending Feb. 25 '' . Initial claims for jobless benefits were said to have dropped by 8,100 in the week ending March 4 . Mr. Hodges is so hopeful over the outlook that he doesn't think there will be any need of a cut in income taxes . Well , we can't have everything . Prosperity for the whole nation is certainly preferred to a tax cut . In New Jersey , too New Jersey folk need not be told of the builder's march to the sea , for in a single generation he has parceled and populated miles of our shoreline and presses on to develop the few open spaces that remain . Now the Stone Harbor bird sanctuary , 31 acres of magic attraction for exotic herons , is threatened , but the battlefront extends far beyond our state . Against the dramatic fight being waged for preservation of 30 miles of Cape Cod shoreline , the tiny tract at Stone Harbor may seem unimportant . But Interior Secretary Udall warns that there is a race on between those who would develop our few surviving open shorelines and those who would save them for the enjoyment of all as public preserves . The move for establishment of a national seashore park on 30,000 acres of Cape Cod , from Provincetown to Chatham , is strengthened by President Kennedy's interest in that area . But preservation of the natural beauty of the Cape is of more than regional concern , for the automobile age has made it the recreation spot of people from all over the country . By comparison , Stone Harbor bird sanctuary's allies seem less formidable , for aside from the Audubon Society , they are mostly the snowy , common and cattle egrets and the Louisiana , green , little blue and black-crowned herons who nest and feed there . But there is hope , for Conservation Commissioner Bontempo has tagged the sanctuary as the kind of place the state hopes to include in its program to double its park space . The desirability of preserving such places as the Cape dunes and Stone Harbor sanctuary becomes more apparent every year . Public sentiment for conserving our rich natural heritage is growing . But that heritage is shrinking even faster . No joyride much of the glamor President Kennedy's Peace Corps may have held for some prospective applicants has been removed by Sargent Shriver , the head corpsman . Anybody who is expecting a joyride should , according to Mr. Shriver , get off the train right now . First of all , the recruits will have to undergo arduous schooling . It will be a 16-hour training day . Then off to a remote place in an underdeveloped country where the diet , culture , language and living conditions will be different . And the pay , of course , will be nil . Despite all this , the idea apparently has captured the imagination of countless youths whose parents are probably more surprised by the response than anybody else .",
         "12479",
         "2241",
         "0"
        ]
       ],
       "shape": {
        "columns": 6,
        "rows": 5
       }
      },
      "text/html": [
       "<div>\n",
       "<style scoped>\n",
       "    .dataframe tbody tr th:only-of-type {\n",
       "        vertical-align: middle;\n",
       "    }\n",
       "\n",
       "    .dataframe tbody tr th {\n",
       "        vertical-align: top;\n",
       "    }\n",
       "\n",
       "    .dataframe thead th {\n",
       "        text-align: right;\n",
       "    }\n",
       "</style>\n",
       "<table border=\"1\" class=\"dataframe\">\n",
       "  <thead>\n",
       "    <tr style=\"text-align: right;\">\n",
       "      <th></th>\n",
       "      <th>category</th>\n",
       "      <th>id</th>\n",
       "      <th>text</th>\n",
       "      <th>char_len</th>\n",
       "      <th>word_len</th>\n",
       "      <th>topic</th>\n",
       "    </tr>\n",
       "  </thead>\n",
       "  <tbody>\n",
       "    <tr>\n",
       "      <th>0</th>\n",
       "      <td>editorial</td>\n",
       "      <td>cb01</td>\n",
       "      <td>Assembly session brought much good The General...</td>\n",
       "      <td>12659</td>\n",
       "      <td>2200</td>\n",
       "      <td>2</td>\n",
       "    </tr>\n",
       "    <tr>\n",
       "      <th>1</th>\n",
       "      <td>editorial</td>\n",
       "      <td>cb02</td>\n",
       "      <td>Must Berlin remain divided ? ? The inference h...</td>\n",
       "      <td>12544</td>\n",
       "      <td>2234</td>\n",
       "      <td>0</td>\n",
       "    </tr>\n",
       "    <tr>\n",
       "      <th>2</th>\n",
       "      <td>editorial</td>\n",
       "      <td>cb03</td>\n",
       "      <td>A good man departs . Goodby , Mr. Sam . Sam Ra...</td>\n",
       "      <td>11871</td>\n",
       "      <td>2244</td>\n",
       "      <td>0</td>\n",
       "    </tr>\n",
       "    <tr>\n",
       "      <th>3</th>\n",
       "      <td>editorial</td>\n",
       "      <td>cb04</td>\n",
       "      <td>A shock wave from Africa Word of Dag Hammarskj...</td>\n",
       "      <td>12284</td>\n",
       "      <td>2230</td>\n",
       "      <td>0</td>\n",
       "    </tr>\n",
       "    <tr>\n",
       "      <th>4</th>\n",
       "      <td>editorial</td>\n",
       "      <td>cb05</td>\n",
       "      <td>Help when needed If the Dominican Republic ach...</td>\n",
       "      <td>12479</td>\n",
       "      <td>2241</td>\n",
       "      <td>0</td>\n",
       "    </tr>\n",
       "  </tbody>\n",
       "</table>\n",
       "</div>"
      ],
      "text/plain": [
       "    category    id                                               text  \\\n",
       "0  editorial  cb01  Assembly session brought much good The General...   \n",
       "1  editorial  cb02  Must Berlin remain divided ? ? The inference h...   \n",
       "2  editorial  cb03  A good man departs . Goodby , Mr. Sam . Sam Ra...   \n",
       "3  editorial  cb04  A shock wave from Africa Word of Dag Hammarskj...   \n",
       "4  editorial  cb05  Help when needed If the Dominican Republic ach...   \n",
       "\n",
       "   char_len  word_len  topic  \n",
       "0     12659      2200      2  \n",
       "1     12544      2234      0  \n",
       "2     11871      2244      0  \n",
       "3     12284      2230      0  \n",
       "4     12479      2241      0  "
      ]
     },
     "execution_count": 18,
     "metadata": {},
     "output_type": "execute_result"
    }
   ],
   "source": [
    "# Your code here\n",
    "# assign Brown Corpus categories to its dominant topic\n",
    "df[\"topic\"] = np.argmax(W_text_matrix, axis=1)\n",
    "\n",
    "df.head()"
   ]
  },
  {
   "cell_type": "code",
   "execution_count": 21,
   "id": "3749b239",
   "metadata": {},
   "outputs": [],
   "source": [
    "topic_category = pd.crosstab(df[\"topic\"], df[\"category\"])\n",
    "\n",
    "topic_category_norm = topic_category.div(topic_category.sum(axis=1), axis=0)"
   ]
  },
  {
   "cell_type": "code",
   "execution_count": 25,
   "id": "92d270ea",
   "metadata": {},
   "outputs": [
    {
     "data": {
      "image/png": "[encoded data removed]",
      "text/plain": [
       "<Figure size 800x500 with 2 Axes>"
      ]
     },
     "metadata": {},
     "output_type": "display_data"
    }
   ],
   "source": [
    "%matplotlib inline\n",
    "import seaborn as sns\n",
    "import matplotlib.pyplot as plt\n",
    "\n",
    "plt.figure(figsize=(8, 5))\n",
    "sns.heatmap(topic_category_norm, annot=True, cmap=\"Blues\", fmt=\".2f\")\n",
    "plt.title(\"NMF Topics vs Brown Categories\")\n",
    "plt.xlabel(\"Brown Category\")\n",
    "plt.ylabel(\"NMF Topic\")\n",
    "plt.show()"
   ]
  },
  {
   "attachments": {},
   "cell_type": "markdown",
   "id": "f8d4e2bc",
   "metadata": {},
   "source": [
    "Q: How does your five-topic NMF model compare to the original Brown categories?\n",
    "\n",
    "A: <!-- Your answer here -->\n"
   ]
  },
  {
   "attachments": {},
   "cell_type": "markdown",
   "id": "82e37cb5",
   "metadata": {},
   "source": [
    "## Fitting an LSA Model\n",
    "\n",
    "In this section, follow the example from the repository and fit an LSA model (called a \"TruncatedSVD\" in `sklearn`). Again fit a five-topic model and compare it to the actual categories in the Brown corpus. Use the TF-IDF vectors for your fit, as above.\n",
    "\n",
    "To be explicit, we are once again interested in the extent to which this LSA factorization agrees or disagrees with the original categories in the corpus. For each topic in your model, tally the Brown categories and interpret the results.\n"
   ]
  },
  {
   "cell_type": "code",
   "execution_count": null,
   "id": "00b53d3d",
   "metadata": {},
   "outputs": [],
   "source": [
    "# Your code here"
   ]
  },
  {
   "attachments": {},
   "cell_type": "markdown",
   "id": "4d94d56f",
   "metadata": {},
   "source": [
    "Q: How does your five-topic LSA model compare to the original Brown categories?\n",
    "\n",
    "A: <!-- Your answer here -->\n"
   ]
  },
  {
   "cell_type": "code",
   "execution_count": null,
   "id": "377a886e",
   "metadata": {},
   "outputs": [],
   "source": [
    "# call display_topics on your model"
   ]
  },
  {
   "attachments": {},
   "cell_type": "markdown",
   "id": "ea8b280a",
   "metadata": {},
   "source": [
    "Q: What is your interpretation of the display topics output?\n",
    "\n",
    "A:\n"
   ]
  },
  {
   "attachments": {},
   "cell_type": "markdown",
   "id": "b4ab4d29",
   "metadata": {},
   "source": [
    "## Fitting an LDA Model\n",
    "\n",
    "Finally, fit a five-topic LDA model using the count vectors (`count_text_vectors` from above). Display the results using `pyLDAvis.display` and describe what you learn from that visualization.\n"
   ]
  },
  {
   "cell_type": "code",
   "execution_count": null,
   "id": "802cb8ff",
   "metadata": {},
   "outputs": [],
   "source": [
    "# Fit your LDA model here"
   ]
  },
  {
   "cell_type": "code",
   "execution_count": null,
   "id": "ab18adf5",
   "metadata": {},
   "outputs": [],
   "source": [
    "# Call `display_topics` on your fitted model here"
   ]
  },
  {
   "attachments": {},
   "cell_type": "markdown",
   "id": "f2c67876",
   "metadata": {},
   "source": [
    "Q: What inference do you draw from the displayed topics for your LDA model?\n",
    "\n",
    "A: <!-- Your answer here -->\n",
    "\n",
    "Q: Repeat the tallying of Brown categories within your topics. How does your five-topic LDA model compare to the original Brown categories?\n",
    "\n",
    "A: <!-- Your answer here -->\n"
   ]
  },
  {
   "cell_type": "code",
   "execution_count": null,
   "id": "6aae75ca",
   "metadata": {},
   "outputs": [],
   "source": [
    "lda_display = pyLDAvis.lda_model.prepare(\n",
    "    lda_text_model, count_text_vectors, count_text_vectorizer, sort_topics=False\n",
    ")"
   ]
  },
  {
   "cell_type": "code",
   "execution_count": null,
   "id": "2a89fc15",
   "metadata": {},
   "outputs": [],
   "source": [
    "pyLDAvis.display(lda_display)"
   ]
  },
  {
   "attachments": {},
   "cell_type": "markdown",
   "id": "a3d14c87",
   "metadata": {},
   "source": [
    "Q: What conclusions do you draw from the visualization above? Please address the principal component scatterplot and the salient terms graph.\n",
    "\n",
    "A: <!-- Your answer here -->\n"
   ]
  }
 ],
 "metadata": {
  "kernelspec": {
   "display_name": "ads509",
   "language": "python",
   "name": "python3"
  },
  "language_info": {
   "codemirror_mode": {
    "name": "ipython",
    "version": 3
   },
   "file_extension": ".py",
   "mimetype": "text/x-python",
   "name": "python",
   "nbconvert_exporter": "python",
   "pygments_lexer": "ipython3",
   "version": "3.11.13"
  }
 },
 "nbformat": 4,
 "nbformat_minor": 5
}
