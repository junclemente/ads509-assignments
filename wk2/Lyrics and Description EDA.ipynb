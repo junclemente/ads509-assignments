{
 "cells": [
  {
   "cell_type": "markdown",
   "id": "7f79baf9",
   "metadata": {},
   "source": [
    "# ADS 509 Assignment 2.1: Tokenization, Normalization, Descriptive Statistics\n",
    "\n",
    "This notebook holds Assignment 2.1 for Module 2 in ADS 509, Applied Text Mining. Work through this notebook, writing code and answering questions where required.\n",
    "\n",
    "In the previous assignment you pulled lyrics data on two artists. In this assignment we explore this data set and a pull from the now-defunct Twitter API for the artists Cher and Robyn. If, for some reason, you did not complete that previous assignment, data to use for this assignment can be found in the assignment materials section of Canvas.\n",
    "\n",
    "This assignment asks you to write a short function to calculate some descriptive statistics on a piece of text. Then you are asked to find some interesting and unique statistics on your corpora.\n"
   ]
  },
  {
   "cell_type": "markdown",
   "id": "aae8e2e1",
   "metadata": {},
   "source": [
    "## General Assignment Instructions\n",
    "\n",
    "These instructions are included in every assignment, to remind you of the coding standards for the class. Feel free to delete this cell after reading it.\n",
    "\n",
    "One sign of mature code is conforming to a style guide. We recommend the [Google Python Style Guide](https://google.github.io/styleguide/pyguide.html). If you use a different style guide, please include a cell with a link.\n",
    "\n",
    "Your code should be relatively easy-to-read, sensibly commented, and clean. Writing code is a messy process, so please be sure to edit your final submission. Remove any cells that are not needed or parts of cells that contain unnecessary code. Remove inessential `import` statements and make sure that all such statements are moved into the designated cell.\n",
    "\n",
    "Make use of non-code cells for written commentary. These cells should be grammatical and clearly written. In some of these cells you will have questions to answer. The questions will be marked by a \"Q:\" and will have a corresponding \"A:\" spot for you. _Make sure to answer every question marked with a `Q:` for full credit._\n"
   ]
  },
  {
   "cell_type": "code",
   "execution_count": 1,
   "id": "e2d096b7",
   "metadata": {},
   "outputs": [],
   "source": [
    "import os\n",
    "import re\n",
    "import emoji\n",
    "import pandas as pd\n",
    "import numpy as np\n",
    "\n",
    "from collections import Counter, defaultdict\n",
    "from nltk.corpus import stopwords\n",
    "from string import punctuation\n",
    "\n",
    "sw = stopwords.words(\"english\")"
   ]
  },
  {
   "cell_type": "code",
   "execution_count": 2,
   "id": "6b555ab2",
   "metadata": {},
   "outputs": [],
   "source": [
    "# Add any additional import statements you need here\n",
    "from pathlib import Path\n",
    "from tabulate import tabulate"
   ]
  },
  {
   "cell_type": "code",
   "execution_count": 3,
   "id": "923b5a86",
   "metadata": {},
   "outputs": [],
   "source": [
    "# change `data_location` to the location of the folder on your machine.\n",
    "# data_location = \"/users/chandler/dropbox/teaching/repos/ads-tm-api-scrape/\"\n",
    "data_location = Path(\"./datasets\")\n",
    "\n",
    "# These subfolders should still work if you correctly stored the\n",
    "# data from the Module 1 assignment\n",
    "twitter_folder = \"twitter/\"\n",
    "lyrics_folder = \"lyrics/\""
   ]
  },
  {
   "cell_type": "code",
   "execution_count": 4,
   "id": "8bc308b7",
   "metadata": {},
   "outputs": [],
   "source": [
    "def display_counter(\n",
    "    tokens, most_common=10, header1=\"words\", header2=\"count\", show=True\n",
    "):\n",
    "    data = Counter(tokens).most_common(most_common)\n",
    "    df = pd.DataFrame(data, columns=[header1, header2])\n",
    "\n",
    "    if show:\n",
    "        display(df)\n",
    "    return data"
   ]
  },
  {
   "cell_type": "code",
   "execution_count": 5,
   "id": "06522af9",
   "metadata": {},
   "outputs": [],
   "source": [
    "def descriptive_stats(tokens, num_tokens=5, verbose=True):\n",
    "    \"\"\"\n",
    "    Given a list of tokens, print number of tokens, number of unique tokens,\n",
    "    number of characters, lexical diversity (https://en.wikipedia.org/wiki/Lexical_diversity),\n",
    "    and num_tokens most common tokens. Return a list with the number of tokens, number\n",
    "    of unique tokens, lexical diversity, and number of characters.\n",
    "\n",
    "    \"\"\"\n",
    "\n",
    "    def count_char_of_token(token_list):\n",
    "        total = 0\n",
    "        for token in token_list:\n",
    "            total += len(token)\n",
    "\n",
    "        return total\n",
    "\n",
    "    def lex_diversity(unique, total):\n",
    "        lex_div = 0\n",
    "        if total > 0:\n",
    "            lex_div = unique / total\n",
    "\n",
    "        return lex_div\n",
    "\n",
    "    # Fill in the correct values here.\n",
    "    num_tokens = len(tokens)\n",
    "    num_unique_tokens = len(set(tokens))\n",
    "    lexical_diversity = lex_diversity(num_unique_tokens, num_tokens)\n",
    "    num_characters = count_char_of_token(tokens)\n",
    "\n",
    "    if verbose:\n",
    "        print(f\"There are {num_tokens} tokens in the data.\")\n",
    "        print(f\"There are {num_unique_tokens} unique tokens in the data.\")\n",
    "        print(f\"There are {num_characters} characters in the data.\")\n",
    "        print(f\"The lexical diversity is {lexical_diversity:.3f} in the data.\")\n",
    "\n",
    "        # print the five most common tokens\n",
    "        # print(tabulate(most_common_tokens, headers=[\"word\", \"count\"]))\n",
    "        display_counter(tokens, 5, \"word\", \"count\")\n",
    "\n",
    "    return [num_tokens, num_unique_tokens, lexical_diversity, num_characters]"
   ]
  },
  {
   "cell_type": "code",
   "execution_count": 6,
   "id": "59dcf058",
   "metadata": {},
   "outputs": [
    {
     "name": "stdout",
     "output_type": "stream",
     "text": [
      "There are 13 tokens in the data.\n",
      "There are 9 unique tokens in the data.\n",
      "There are 55 characters in the data.\n",
      "The lexical diversity is 0.692 in the data.\n"
     ]
    },
    {
     "data": {
      "application/vnd.microsoft.datawrangler.viewer.v0+json": {
       "columns": [
        {
         "name": "index",
         "rawType": "int64",
         "type": "integer"
        },
        {
         "name": "word",
         "rawType": "object",
         "type": "string"
        },
        {
         "name": "count",
         "rawType": "int64",
         "type": "integer"
        }
       ],
       "ref": "b2d740bc-059e-4cec-af63-2260bfb33dcb",
       "rows": [
        [
         "0",
         "text",
         "3"
        ],
        [
         "1",
         "here",
         "2"
        ],
        [
         "2",
         "example",
         "2"
        ],
        [
         "3",
         "is",
         "1"
        ],
        [
         "4",
         "some",
         "1"
        ]
       ],
       "shape": {
        "columns": 2,
        "rows": 5
       }
      },
      "text/html": [
       "<div>\n",
       "<style scoped>\n",
       "    .dataframe tbody tr th:only-of-type {\n",
       "        vertical-align: middle;\n",
       "    }\n",
       "\n",
       "    .dataframe tbody tr th {\n",
       "        vertical-align: top;\n",
       "    }\n",
       "\n",
       "    .dataframe thead th {\n",
       "        text-align: right;\n",
       "    }\n",
       "</style>\n",
       "<table border=\"1\" class=\"dataframe\">\n",
       "  <thead>\n",
       "    <tr style=\"text-align: right;\">\n",
       "      <th></th>\n",
       "      <th>word</th>\n",
       "      <th>count</th>\n",
       "    </tr>\n",
       "  </thead>\n",
       "  <tbody>\n",
       "    <tr>\n",
       "      <th>0</th>\n",
       "      <td>text</td>\n",
       "      <td>3</td>\n",
       "    </tr>\n",
       "    <tr>\n",
       "      <th>1</th>\n",
       "      <td>here</td>\n",
       "      <td>2</td>\n",
       "    </tr>\n",
       "    <tr>\n",
       "      <th>2</th>\n",
       "      <td>example</td>\n",
       "      <td>2</td>\n",
       "    </tr>\n",
       "    <tr>\n",
       "      <th>3</th>\n",
       "      <td>is</td>\n",
       "      <td>1</td>\n",
       "    </tr>\n",
       "    <tr>\n",
       "      <th>4</th>\n",
       "      <td>some</td>\n",
       "      <td>1</td>\n",
       "    </tr>\n",
       "  </tbody>\n",
       "</table>\n",
       "</div>"
      ],
      "text/plain": [
       "      word  count\n",
       "0     text      3\n",
       "1     here      2\n",
       "2  example      2\n",
       "3       is      1\n",
       "4     some      1"
      ]
     },
     "metadata": {},
     "output_type": "display_data"
    }
   ],
   "source": [
    "text = \"\"\"here is some example text with other example text here in this text\"\"\".split()\n",
    "assert descriptive_stats(text, verbose=True)[0] == 13\n",
    "assert descriptive_stats(text, verbose=False)[1] == 9\n",
    "assert abs(descriptive_stats(text, verbose=False)[2] - 0.69) < 0.02\n",
    "assert descriptive_stats(text, verbose=False)[3] == 55"
   ]
  },
  {
   "cell_type": "markdown",
   "id": "d2e7e1a2",
   "metadata": {},
   "source": [
    "Q: Why is it beneficial to use assertion statements in your code?\n",
    "\n",
    "A: Assertion statements are typically used in unit testing. This allows the developer to ensure the code is returning the expected values by creating assert statements that given a specific input, this is what I am expecting this function to provide.\n"
   ]
  },
  {
   "cell_type": "markdown",
   "id": "9d3bf93e",
   "metadata": {},
   "source": [
    "## Data Input\n",
    "\n",
    "Now read in each of the corpora. For the lyrics data, it may be convenient to store the entire contents of the file to make it easier to inspect the titles individually, as you'll do in the last part of the assignment. In the solution, I stored the lyrics data in a dictionary with two dimensions of keys: artist and song. The value was the file contents. A data frame would work equally well.\n",
    "\n",
    "For the Twitter data, we only need the description field for this assignment. Feel free all the descriptions read it into a data structure. In the solution, I stored the descriptions as a dictionary of lists, with the key being the artist.\n"
   ]
  },
  {
   "cell_type": "code",
   "execution_count": 7,
   "id": "37d70801",
   "metadata": {},
   "outputs": [],
   "source": [
    "# Read in the lyrics data\n",
    "\n",
    "# create path to lyrics\n",
    "lyrics_path = os.path.join(data_location, lyrics_folder)\n",
    "\n",
    "# get list of artists in lyrics folder\n",
    "artists = os.listdir(lyrics_path)\n",
    "\n",
    "# initialize rows list for dataframe\n",
    "rows = []\n",
    "\n",
    "for artist in artists:\n",
    "    # create path to song lyrics\n",
    "    song_lyrics_path = os.path.join(lyrics_path, artist)\n",
    "\n",
    "    # iterate through all song files in the directory\n",
    "    for songs in os.listdir(song_lyrics_path):\n",
    "        # create path to song file\n",
    "        file_path = os.path.join(song_lyrics_path, songs)\n",
    "\n",
    "        # read txt file to lyrics var\n",
    "        with open(file_path, \"r\", encoding=\"utf-8\") as f:\n",
    "            lines = f.readlines()\n",
    "\n",
    "        # create regex to capture title between double quotes\n",
    "        match = re.match(r'^\"(.*)\"$', lines[0].strip())\n",
    "        if match:\n",
    "            song_title = match.group(1)\n",
    "        else:\n",
    "            # fallback to first line as title\n",
    "            song_title = lines[0].strip()\n",
    "\n",
    "        # save rest of lines to lyrics\n",
    "        lyrics = \"\".join(lines[1:]).strip()\n",
    "\n",
    "        rows.append({\"artist\": artist, \"song_title\": song_title, \"lyrics\": lyrics})\n",
    "\n",
    "# create dataframe from rows var\n",
    "df_lyrics = pd.DataFrame(rows)"
   ]
  },
  {
   "cell_type": "code",
   "execution_count": 8,
   "id": "debcac5a",
   "metadata": {},
   "outputs": [],
   "source": [
    "# Read in the twitter data\n",
    "\n",
    "twitter_path = os.path.join(data_location, twitter_folder)\n",
    "\n",
    "twitter_files = os.listdir(twitter_path)\n",
    "\n",
    "rows = []\n",
    "\n",
    "# Regex101 was used to create the regex\n",
    "# ChatGPT was used to help create the syntax to make the regex useable with\n",
    "# Python\n",
    "LINE_RE = re.compile(\n",
    "    r\"^(?P<screen_name>[^\\t]*)\\t\"\n",
    "    r\"(?P<name>[^\\t]*)\\t\"\n",
    "    r\"(?P<id>\\d+)\\t\"\n",
    "    r\"(?P<location>[^\\t]*)\\t\"\n",
    "    r\"(?P<followers_count>\\d+)\\t\"\n",
    "    r\"(?P<friends_count>\\d+)\\t\"\n",
    "    r\"(?P<description>.*)$\"\n",
    ")\n",
    "\n",
    "\n",
    "for file in twitter_files:\n",
    "    # filter for data file that has description column\n",
    "    if \"_data.txt\" in file and file != \".DS_Store\":\n",
    "        # save robynkonichiwa as robyn\n",
    "        artist = file.split(\"_\")[0].replace(\"konichiwa\", \"\")\n",
    "        file_path = os.path.join(twitter_path, file)\n",
    "\n",
    "        with open(file_path, \"r\", encoding=\"utf-8\", errors=\"ignore\") as f:\n",
    "            # skip header row by assigning to `_`\n",
    "            _ = f.readline()\n",
    "            # iterate through remaining lines\n",
    "            for line in f:\n",
    "                line = line.rstrip(\"\\n\")\n",
    "                m = LINE_RE.match(line)\n",
    "                if m:\n",
    "                    desc = m.group(\"description\")\n",
    "                    # only append if desc is not blank\n",
    "                    if desc:\n",
    "                        rows.append({\"artist\": artist, \"description\": desc})\n",
    "\n",
    "\n",
    "df_twitter = pd.DataFrame(rows)"
   ]
  },
  {
   "cell_type": "markdown",
   "id": "6a5f3b12",
   "metadata": {},
   "source": [
    "## Data Cleaning\n",
    "\n",
    "Now clean and tokenize your data. Remove punctuation chacters (available in the `punctuation` object in the `string` library), split on whitespace, fold to lowercase, and remove stopwords. Store your cleaned data, which must be accessible as an interable for `descriptive_stats`, in new objects or in new columns in your data frame.\n"
   ]
  },
  {
   "cell_type": "code",
   "execution_count": 9,
   "id": "71c73d86",
   "metadata": {},
   "outputs": [],
   "source": [
    "# removed # from punctuation set to keep hashtags\n",
    "punctuation = set(punctuation) - {\"#\"}  # speeds up comparison\n",
    "\n",
    "\n",
    "def remove_punctuation(text):\n",
    "    sentence = \"\"\n",
    "    for ch in text:\n",
    "        if ch not in punctuation:\n",
    "            sentence += ch\n",
    "    return sentence\n",
    "\n",
    "\n",
    "def remove_stopwords(tokens):\n",
    "    tkn = []\n",
    "    for token in tokens:\n",
    "        if token not in sw:\n",
    "            tkn.append(token)\n",
    "    return tkn\n",
    "\n",
    "\n",
    "def clean_text(text):\n",
    "    # remove punctuation\n",
    "    text = remove_punctuation(text)\n",
    "    # make lowercase\n",
    "    text = text.lower()\n",
    "    # tokenize by splitting by whitespace\n",
    "    tokens = text.split()\n",
    "\n",
    "    return tokens"
   ]
  },
  {
   "cell_type": "code",
   "execution_count": 10,
   "id": "b327033a",
   "metadata": {},
   "outputs": [
    {
     "name": "stdout",
     "output_type": "stream",
     "text": [
      "Cleaning and saving data...\n"
     ]
    }
   ],
   "source": [
    "# create your clean twitter data here\n",
    "twitter_pkl = data_location / \"df_twitter_cleaned.pkl\"\n",
    "if not twitter_pkl.exists():\n",
    "    print(\"Cleaning and saving data...\")\n",
    "    df_twitter[\"description\"] = df_twitter[\"description\"].apply(clean_text)\n",
    "    df_twitter[\"no_sw\"] = df_twitter[\"description\"].apply(remove_stopwords)\n",
    "\n",
    "    # save cleaned DF to pickle\n",
    "    df_twitter.to_pickle(twitter_pkl)\n",
    "\n",
    "else:\n",
    "    print(\"Dataframe already exists! Loading...\")\n",
    "    df_twitter = pd.read_pickle(twitter_pkl)"
   ]
  },
  {
   "cell_type": "code",
   "execution_count": 11,
   "id": "e0f22e10",
   "metadata": {},
   "outputs": [
    {
     "name": "stdout",
     "output_type": "stream",
     "text": [
      "Cleaning and saving data... \n"
     ]
    }
   ],
   "source": [
    "# create your clean lyrics data here\n",
    "lyrics_pkl = data_location / \"df_lyrics_cleaned.pkl\"\n",
    "if not lyrics_pkl.exists():\n",
    "    print(\"Cleaning and saving data... \")\n",
    "    df_lyrics[\"lyrics\"] = df_lyrics[\"lyrics\"].apply(clean_text)\n",
    "    df_lyrics[\"no_sw\"] = df_lyrics[\"lyrics\"].apply(remove_stopwords)\n",
    "\n",
    "    # save cleaned DF to pickle\n",
    "    df_lyrics.to_pickle(lyrics_pkl)\n",
    "\n",
    "else:\n",
    "    print(\"Dataframe already exists! Loading...\")\n",
    "    df_lyrics = pd.read_pickle(lyrics_pkl)"
   ]
  },
  {
   "cell_type": "markdown",
   "id": "f2dd0179",
   "metadata": {},
   "source": [
    "## Basic Descriptive Statistics\n",
    "\n",
    "Call your `descriptive_stats` function on both your lyrics data and your twitter data and for both artists (four total calls).\n"
   ]
  },
  {
   "cell_type": "code",
   "execution_count": 12,
   "id": "f0bbedd9",
   "metadata": {},
   "outputs": [
    {
     "name": "stdout",
     "output_type": "stream",
     "text": [
      "\n",
      "Descriptive Stats Cher Lyrics:\n",
      "\n",
      "There are 35233 tokens in the data.\n",
      "There are 3684 unique tokens in the data.\n",
      "There are 169244 characters in the data.\n",
      "The lexical diversity is 0.105 in the data.\n"
     ]
    },
    {
     "data": {
      "application/vnd.microsoft.datawrangler.viewer.v0+json": {
       "columns": [
        {
         "name": "index",
         "rawType": "int64",
         "type": "integer"
        },
        {
         "name": "word",
         "rawType": "object",
         "type": "string"
        },
        {
         "name": "count",
         "rawType": "int64",
         "type": "integer"
        }
       ],
       "ref": "e769a154-1ff9-4eb4-bde1-1d76fa575d12",
       "rows": [
        [
         "0",
         "love",
         "966"
        ],
        [
         "1",
         "im",
         "511"
        ],
        [
         "2",
         "know",
         "480"
        ],
        [
         "3",
         "dont",
         "430"
        ],
        [
         "4",
         "youre",
         "332"
        ]
       ],
       "shape": {
        "columns": 2,
        "rows": 5
       }
      },
      "text/html": [
       "<div>\n",
       "<style scoped>\n",
       "    .dataframe tbody tr th:only-of-type {\n",
       "        vertical-align: middle;\n",
       "    }\n",
       "\n",
       "    .dataframe tbody tr th {\n",
       "        vertical-align: top;\n",
       "    }\n",
       "\n",
       "    .dataframe thead th {\n",
       "        text-align: right;\n",
       "    }\n",
       "</style>\n",
       "<table border=\"1\" class=\"dataframe\">\n",
       "  <thead>\n",
       "    <tr style=\"text-align: right;\">\n",
       "      <th></th>\n",
       "      <th>word</th>\n",
       "      <th>count</th>\n",
       "    </tr>\n",
       "  </thead>\n",
       "  <tbody>\n",
       "    <tr>\n",
       "      <th>0</th>\n",
       "      <td>love</td>\n",
       "      <td>966</td>\n",
       "    </tr>\n",
       "    <tr>\n",
       "      <th>1</th>\n",
       "      <td>im</td>\n",
       "      <td>511</td>\n",
       "    </tr>\n",
       "    <tr>\n",
       "      <th>2</th>\n",
       "      <td>know</td>\n",
       "      <td>480</td>\n",
       "    </tr>\n",
       "    <tr>\n",
       "      <th>3</th>\n",
       "      <td>dont</td>\n",
       "      <td>430</td>\n",
       "    </tr>\n",
       "    <tr>\n",
       "      <th>4</th>\n",
       "      <td>youre</td>\n",
       "      <td>332</td>\n",
       "    </tr>\n",
       "  </tbody>\n",
       "</table>\n",
       "</div>"
      ],
      "text/plain": [
       "    word  count\n",
       "0   love    966\n",
       "1     im    511\n",
       "2   know    480\n",
       "3   dont    430\n",
       "4  youre    332"
      ]
     },
     "metadata": {},
     "output_type": "display_data"
    },
    {
     "name": "stdout",
     "output_type": "stream",
     "text": [
      "\n",
      "Descriptive Stats Robyn Lyrics:\n",
      "\n",
      "There are 15041 tokens in the data.\n",
      "There are 2139 unique tokens in the data.\n",
      "There are 72804 characters in the data.\n",
      "The lexical diversity is 0.142 in the data.\n"
     ]
    },
    {
     "data": {
      "application/vnd.microsoft.datawrangler.viewer.v0+json": {
       "columns": [
        {
         "name": "index",
         "rawType": "int64",
         "type": "integer"
        },
        {
         "name": "word",
         "rawType": "object",
         "type": "string"
        },
        {
         "name": "count",
         "rawType": "int64",
         "type": "integer"
        }
       ],
       "ref": "90206a13-a5ab-4483-9ed6-13a8f008660e",
       "rows": [
        [
         "0",
         "know",
         "305"
        ],
        [
         "1",
         "im",
         "299"
        ],
        [
         "2",
         "dont",
         "297"
        ],
        [
         "3",
         "love",
         "269"
        ],
        [
         "4",
         "got",
         "249"
        ]
       ],
       "shape": {
        "columns": 2,
        "rows": 5
       }
      },
      "text/html": [
       "<div>\n",
       "<style scoped>\n",
       "    .dataframe tbody tr th:only-of-type {\n",
       "        vertical-align: middle;\n",
       "    }\n",
       "\n",
       "    .dataframe tbody tr th {\n",
       "        vertical-align: top;\n",
       "    }\n",
       "\n",
       "    .dataframe thead th {\n",
       "        text-align: right;\n",
       "    }\n",
       "</style>\n",
       "<table border=\"1\" class=\"dataframe\">\n",
       "  <thead>\n",
       "    <tr style=\"text-align: right;\">\n",
       "      <th></th>\n",
       "      <th>word</th>\n",
       "      <th>count</th>\n",
       "    </tr>\n",
       "  </thead>\n",
       "  <tbody>\n",
       "    <tr>\n",
       "      <th>0</th>\n",
       "      <td>know</td>\n",
       "      <td>305</td>\n",
       "    </tr>\n",
       "    <tr>\n",
       "      <th>1</th>\n",
       "      <td>im</td>\n",
       "      <td>299</td>\n",
       "    </tr>\n",
       "    <tr>\n",
       "      <th>2</th>\n",
       "      <td>dont</td>\n",
       "      <td>297</td>\n",
       "    </tr>\n",
       "    <tr>\n",
       "      <th>3</th>\n",
       "      <td>love</td>\n",
       "      <td>269</td>\n",
       "    </tr>\n",
       "    <tr>\n",
       "      <th>4</th>\n",
       "      <td>got</td>\n",
       "      <td>249</td>\n",
       "    </tr>\n",
       "  </tbody>\n",
       "</table>\n",
       "</div>"
      ],
      "text/plain": [
       "   word  count\n",
       "0  know    305\n",
       "1    im    299\n",
       "2  dont    297\n",
       "3  love    269\n",
       "4   got    249"
      ]
     },
     "metadata": {},
     "output_type": "display_data"
    },
    {
     "name": "stdout",
     "output_type": "stream",
     "text": [
      "\n",
      "Descriptive Stats Cher Twitter:\n",
      "\n",
      "There are 15674013 tokens in the data.\n",
      "There are 1555373 unique tokens in the data.\n",
      "There are 93389697 characters in the data.\n",
      "The lexical diversity is 0.099 in the data.\n"
     ]
    },
    {
     "data": {
      "application/vnd.microsoft.datawrangler.viewer.v0+json": {
       "columns": [
        {
         "name": "index",
         "rawType": "int64",
         "type": "integer"
        },
        {
         "name": "word",
         "rawType": "object",
         "type": "string"
        },
        {
         "name": "count",
         "rawType": "int64",
         "type": "integer"
        }
       ],
       "ref": "9b965b5f-3927-48f4-9d46-38f793f248d2",
       "rows": [
        [
         "0",
         "love",
         "213522"
        ],
        [
         "1",
         "im",
         "139051"
        ],
        [
         "2",
         "life",
         "122680"
        ],
        [
         "3",
         "music",
         "86733"
        ],
        [
         "4",
         "de",
         "72970"
        ]
       ],
       "shape": {
        "columns": 2,
        "rows": 5
       }
      },
      "text/html": [
       "<div>\n",
       "<style scoped>\n",
       "    .dataframe tbody tr th:only-of-type {\n",
       "        vertical-align: middle;\n",
       "    }\n",
       "\n",
       "    .dataframe tbody tr th {\n",
       "        vertical-align: top;\n",
       "    }\n",
       "\n",
       "    .dataframe thead th {\n",
       "        text-align: right;\n",
       "    }\n",
       "</style>\n",
       "<table border=\"1\" class=\"dataframe\">\n",
       "  <thead>\n",
       "    <tr style=\"text-align: right;\">\n",
       "      <th></th>\n",
       "      <th>word</th>\n",
       "      <th>count</th>\n",
       "    </tr>\n",
       "  </thead>\n",
       "  <tbody>\n",
       "    <tr>\n",
       "      <th>0</th>\n",
       "      <td>love</td>\n",
       "      <td>213522</td>\n",
       "    </tr>\n",
       "    <tr>\n",
       "      <th>1</th>\n",
       "      <td>im</td>\n",
       "      <td>139051</td>\n",
       "    </tr>\n",
       "    <tr>\n",
       "      <th>2</th>\n",
       "      <td>life</td>\n",
       "      <td>122680</td>\n",
       "    </tr>\n",
       "    <tr>\n",
       "      <th>3</th>\n",
       "      <td>music</td>\n",
       "      <td>86733</td>\n",
       "    </tr>\n",
       "    <tr>\n",
       "      <th>4</th>\n",
       "      <td>de</td>\n",
       "      <td>72970</td>\n",
       "    </tr>\n",
       "  </tbody>\n",
       "</table>\n",
       "</div>"
      ],
      "text/plain": [
       "    word   count\n",
       "0   love  213522\n",
       "1     im  139051\n",
       "2   life  122680\n",
       "3  music   86733\n",
       "4     de   72970"
      ]
     },
     "metadata": {},
     "output_type": "display_data"
    },
    {
     "name": "stdout",
     "output_type": "stream",
     "text": [
      "\n",
      "Descriptive Stats Robyn Twitter:\n",
      "\n",
      "There are 1495780 tokens in the data.\n",
      "There are 258391 unique tokens in the data.\n",
      "There are 9158569 characters in the data.\n",
      "The lexical diversity is 0.173 in the data.\n"
     ]
    },
    {
     "data": {
      "application/vnd.microsoft.datawrangler.viewer.v0+json": {
       "columns": [
        {
         "name": "index",
         "rawType": "int64",
         "type": "integer"
        },
        {
         "name": "word",
         "rawType": "object",
         "type": "string"
        },
        {
         "name": "count",
         "rawType": "int64",
         "type": "integer"
        }
       ],
       "ref": "ce9402d9-19c0-4604-8481-c1c566d84111",
       "rows": [
        [
         "0",
         "music",
         "14858"
        ],
        [
         "1",
         "love",
         "11615"
        ],
        [
         "2",
         "im",
         "9049"
        ],
        [
         "3",
         "och",
         "7922"
        ],
        [
         "4",
         "life",
         "7354"
        ]
       ],
       "shape": {
        "columns": 2,
        "rows": 5
       }
      },
      "text/html": [
       "<div>\n",
       "<style scoped>\n",
       "    .dataframe tbody tr th:only-of-type {\n",
       "        vertical-align: middle;\n",
       "    }\n",
       "\n",
       "    .dataframe tbody tr th {\n",
       "        vertical-align: top;\n",
       "    }\n",
       "\n",
       "    .dataframe thead th {\n",
       "        text-align: right;\n",
       "    }\n",
       "</style>\n",
       "<table border=\"1\" class=\"dataframe\">\n",
       "  <thead>\n",
       "    <tr style=\"text-align: right;\">\n",
       "      <th></th>\n",
       "      <th>word</th>\n",
       "      <th>count</th>\n",
       "    </tr>\n",
       "  </thead>\n",
       "  <tbody>\n",
       "    <tr>\n",
       "      <th>0</th>\n",
       "      <td>music</td>\n",
       "      <td>14858</td>\n",
       "    </tr>\n",
       "    <tr>\n",
       "      <th>1</th>\n",
       "      <td>love</td>\n",
       "      <td>11615</td>\n",
       "    </tr>\n",
       "    <tr>\n",
       "      <th>2</th>\n",
       "      <td>im</td>\n",
       "      <td>9049</td>\n",
       "    </tr>\n",
       "    <tr>\n",
       "      <th>3</th>\n",
       "      <td>och</td>\n",
       "      <td>7922</td>\n",
       "    </tr>\n",
       "    <tr>\n",
       "      <th>4</th>\n",
       "      <td>life</td>\n",
       "      <td>7354</td>\n",
       "    </tr>\n",
       "  </tbody>\n",
       "</table>\n",
       "</div>"
      ],
      "text/plain": [
       "    word  count\n",
       "0  music  14858\n",
       "1   love  11615\n",
       "2     im   9049\n",
       "3    och   7922\n",
       "4   life   7354"
      ]
     },
     "metadata": {},
     "output_type": "display_data"
    },
    {
     "data": {
      "text/plain": [
       "[1495780, 258391, 0.17274666060516922, 9158569]"
      ]
     },
     "execution_count": 12,
     "metadata": {},
     "output_type": "execute_result"
    }
   ],
   "source": [
    "# calls to descriptive_stats here\n",
    "def get_token_list(dataframe, artist_name, column):\n",
    "    token_list = []\n",
    "    artist_rows = dataframe[dataframe[\"artist\"] == artist_name]\n",
    "    lists = artist_rows[column].tolist()\n",
    "    for list in lists:\n",
    "        token_list.extend(list)\n",
    "    return token_list\n",
    "\n",
    "\n",
    "# lyrics\n",
    "cher_lyrics = get_token_list(df_lyrics, \"cher\", \"no_sw\")\n",
    "robyn_lyrics = get_token_list(df_lyrics, \"robyn\", \"no_sw\")\n",
    "\n",
    "print(\"\\nDescriptive Stats Cher Lyrics:\\n\")\n",
    "descriptive_stats(cher_lyrics)\n",
    "print(\"\\nDescriptive Stats Robyn Lyrics:\\n\")\n",
    "descriptive_stats(robyn_lyrics)\n",
    "\n",
    "# twitter\n",
    "cher_twitter = get_token_list(df_twitter, \"cher\", \"no_sw\")\n",
    "robyn_twitter = get_token_list(df_twitter, \"robyn\", \"no_sw\")\n",
    "\n",
    "print(\"\\nDescriptive Stats Cher Twitter:\\n\")\n",
    "descriptive_stats(cher_twitter)\n",
    "print(\"\\nDescriptive Stats Robyn Twitter:\\n\")\n",
    "descriptive_stats(robyn_twitter)"
   ]
  },
  {
   "cell_type": "markdown",
   "id": "46294409",
   "metadata": {},
   "source": [
    "Q: How do you think the \"top 5 words\" would be different if we left stopwords in the data?\n",
    "\n",
    "A: It would be different because the top 5 words would be comprised of the stopwords.\n",
    "\n",
    "---\n",
    "\n",
    "Q: What were your prior beliefs about the lexical diversity between the artists? Does the difference (or lack thereof) in lexical diversity between the artists conform to your prior beliefs?\n",
    "\n",
    "A: Honestly, I didn't have any beliefs about lexical diversity between the artists. Looking at the statistical data for lyrics, Cher has a lower lexical diversity compared to Robyn, but Cher also has twice as many words (tokens) in the dataset compared to Robyn which would lead to a lower lexical diversity. The Twitter data are tweets from their fan base and have about an equal amount of tokens making for a better comparison. Robyn has a higher lexical diversity compared to Cher for tweets showing that Europeans might have a better grasp of utilizing all aspects of the English language. On the other hand, the higher lexical diversity for Robyn could also represent the diversity of English language used from different countries.\n"
   ]
  },
  {
   "cell_type": "markdown",
   "id": "4d4e1ac1",
   "metadata": {},
   "source": [
    "## Specialty Statistics\n",
    "\n",
    "The descriptive statistics we have calculated are quite generic. You will now calculate a handful of statistics tailored to these data.\n",
    "\n",
    "1. Ten most common emojis by artist in the twitter descriptions.\n",
    "1. Ten most common hashtags by artist in the twitter descriptions.\n",
    "1. Five most common words in song titles by artist.\n",
    "1. For each artist, a histogram of song lengths (in terms of number of tokens)\n",
    "\n",
    "We can use the `emoji` library to help us identify emojis and you have been given a function to help you.\n"
   ]
  },
  {
   "cell_type": "code",
   "execution_count": 13,
   "id": "753a5a3e",
   "metadata": {},
   "outputs": [],
   "source": [
    "assert emoji.is_emoji(\"❤️\")\n",
    "assert not emoji.is_emoji(\":-)\")"
   ]
  },
  {
   "cell_type": "markdown",
   "id": "986fc4c0",
   "metadata": {},
   "source": [
    "### Emojis 😁\n",
    "\n",
    "What are the ten most common emojis by artist in the twitter descriptions?\n"
   ]
  },
  {
   "cell_type": "code",
   "execution_count": 14,
   "id": "269cd433",
   "metadata": {},
   "outputs": [
    {
     "name": "stdout",
     "output_type": "stream",
     "text": [
      "Cher's 10 most common emojis in Twitter descriptions are:\n",
      "\n"
     ]
    },
    {
     "data": {
      "application/vnd.microsoft.datawrangler.viewer.v0+json": {
       "columns": [
        {
         "name": "index",
         "rawType": "int64",
         "type": "integer"
        },
        {
         "name": "emoji",
         "rawType": "object",
         "type": "string"
        },
        {
         "name": "count",
         "rawType": "int64",
         "type": "integer"
        }
       ],
       "ref": "0be605b0-a2b8-4c58-9a49-69962b8ce9a8",
       "rows": [
        [
         "0",
         "❤️",
         "14715"
        ],
        [
         "1",
         "🏳️‍🌈",
         "14122"
        ],
        [
         "2",
         "♥",
         "10154"
        ],
        [
         "3",
         "❤",
         "9651"
        ],
        [
         "4",
         "✨",
         "8343"
        ],
        [
         "5",
         "🌈",
         "5474"
        ],
        [
         "6",
         "🇺🇸",
         "3696"
        ],
        [
         "7",
         "💙",
         "3684"
        ],
        [
         "8",
         "💜",
         "3499"
        ],
        [
         "9",
         "🌊",
         "3278"
        ]
       ],
       "shape": {
        "columns": 2,
        "rows": 10
       }
      },
      "text/html": [
       "<div>\n",
       "<style scoped>\n",
       "    .dataframe tbody tr th:only-of-type {\n",
       "        vertical-align: middle;\n",
       "    }\n",
       "\n",
       "    .dataframe tbody tr th {\n",
       "        vertical-align: top;\n",
       "    }\n",
       "\n",
       "    .dataframe thead th {\n",
       "        text-align: right;\n",
       "    }\n",
       "</style>\n",
       "<table border=\"1\" class=\"dataframe\">\n",
       "  <thead>\n",
       "    <tr style=\"text-align: right;\">\n",
       "      <th></th>\n",
       "      <th>emoji</th>\n",
       "      <th>count</th>\n",
       "    </tr>\n",
       "  </thead>\n",
       "  <tbody>\n",
       "    <tr>\n",
       "      <th>0</th>\n",
       "      <td>❤️</td>\n",
       "      <td>14715</td>\n",
       "    </tr>\n",
       "    <tr>\n",
       "      <th>1</th>\n",
       "      <td>🏳️‍🌈</td>\n",
       "      <td>14122</td>\n",
       "    </tr>\n",
       "    <tr>\n",
       "      <th>2</th>\n",
       "      <td>♥</td>\n",
       "      <td>10154</td>\n",
       "    </tr>\n",
       "    <tr>\n",
       "      <th>3</th>\n",
       "      <td>❤</td>\n",
       "      <td>9651</td>\n",
       "    </tr>\n",
       "    <tr>\n",
       "      <th>4</th>\n",
       "      <td>✨</td>\n",
       "      <td>8343</td>\n",
       "    </tr>\n",
       "    <tr>\n",
       "      <th>5</th>\n",
       "      <td>🌈</td>\n",
       "      <td>5474</td>\n",
       "    </tr>\n",
       "    <tr>\n",
       "      <th>6</th>\n",
       "      <td>🇺🇸</td>\n",
       "      <td>3696</td>\n",
       "    </tr>\n",
       "    <tr>\n",
       "      <th>7</th>\n",
       "      <td>💙</td>\n",
       "      <td>3684</td>\n",
       "    </tr>\n",
       "    <tr>\n",
       "      <th>8</th>\n",
       "      <td>💜</td>\n",
       "      <td>3499</td>\n",
       "    </tr>\n",
       "    <tr>\n",
       "      <th>9</th>\n",
       "      <td>🌊</td>\n",
       "      <td>3278</td>\n",
       "    </tr>\n",
       "  </tbody>\n",
       "</table>\n",
       "</div>"
      ],
      "text/plain": [
       "  emoji  count\n",
       "0    ❤️  14715\n",
       "1  🏳️‍🌈  14122\n",
       "2     ♥  10154\n",
       "3     ❤   9651\n",
       "4     ✨   8343\n",
       "5     🌈   5474\n",
       "6    🇺🇸   3696\n",
       "7     💙   3684\n",
       "8     💜   3499\n",
       "9     🌊   3278"
      ]
     },
     "metadata": {},
     "output_type": "display_data"
    },
    {
     "name": "stdout",
     "output_type": "stream",
     "text": [
      "\n",
      "\n",
      "Robyn's 10 most common emojis in Twitter descriptions are:\n",
      "\n"
     ]
    },
    {
     "data": {
      "application/vnd.microsoft.datawrangler.viewer.v0+json": {
       "columns": [
        {
         "name": "index",
         "rawType": "int64",
         "type": "integer"
        },
        {
         "name": "emoji",
         "rawType": "object",
         "type": "string"
        },
        {
         "name": "count",
         "rawType": "int64",
         "type": "integer"
        }
       ],
       "ref": "d524158f-e09b-4804-beba-4cfc70555bef",
       "rows": [
        [
         "0",
         "🏳️‍🌈",
         "1701"
        ],
        [
         "1",
         "♥",
         "1167"
        ],
        [
         "2",
         "❤️",
         "987"
        ],
        [
         "3",
         "✨",
         "751"
        ],
        [
         "4",
         "❤",
         "653"
        ],
        [
         "5",
         "🌈",
         "570"
        ],
        [
         "6",
         "🎶",
         "272"
        ],
        [
         "7",
         "🎧",
         "213"
        ],
        [
         "8",
         "🖤",
         "212"
        ],
        [
         "9",
         "💜",
         "205"
        ]
       ],
       "shape": {
        "columns": 2,
        "rows": 10
       }
      },
      "text/html": [
       "<div>\n",
       "<style scoped>\n",
       "    .dataframe tbody tr th:only-of-type {\n",
       "        vertical-align: middle;\n",
       "    }\n",
       "\n",
       "    .dataframe tbody tr th {\n",
       "        vertical-align: top;\n",
       "    }\n",
       "\n",
       "    .dataframe thead th {\n",
       "        text-align: right;\n",
       "    }\n",
       "</style>\n",
       "<table border=\"1\" class=\"dataframe\">\n",
       "  <thead>\n",
       "    <tr style=\"text-align: right;\">\n",
       "      <th></th>\n",
       "      <th>emoji</th>\n",
       "      <th>count</th>\n",
       "    </tr>\n",
       "  </thead>\n",
       "  <tbody>\n",
       "    <tr>\n",
       "      <th>0</th>\n",
       "      <td>🏳️‍🌈</td>\n",
       "      <td>1701</td>\n",
       "    </tr>\n",
       "    <tr>\n",
       "      <th>1</th>\n",
       "      <td>♥</td>\n",
       "      <td>1167</td>\n",
       "    </tr>\n",
       "    <tr>\n",
       "      <th>2</th>\n",
       "      <td>❤️</td>\n",
       "      <td>987</td>\n",
       "    </tr>\n",
       "    <tr>\n",
       "      <th>3</th>\n",
       "      <td>✨</td>\n",
       "      <td>751</td>\n",
       "    </tr>\n",
       "    <tr>\n",
       "      <th>4</th>\n",
       "      <td>❤</td>\n",
       "      <td>653</td>\n",
       "    </tr>\n",
       "    <tr>\n",
       "      <th>5</th>\n",
       "      <td>🌈</td>\n",
       "      <td>570</td>\n",
       "    </tr>\n",
       "    <tr>\n",
       "      <th>6</th>\n",
       "      <td>🎶</td>\n",
       "      <td>272</td>\n",
       "    </tr>\n",
       "    <tr>\n",
       "      <th>7</th>\n",
       "      <td>🎧</td>\n",
       "      <td>213</td>\n",
       "    </tr>\n",
       "    <tr>\n",
       "      <th>8</th>\n",
       "      <td>🖤</td>\n",
       "      <td>212</td>\n",
       "    </tr>\n",
       "    <tr>\n",
       "      <th>9</th>\n",
       "      <td>💜</td>\n",
       "      <td>205</td>\n",
       "    </tr>\n",
       "  </tbody>\n",
       "</table>\n",
       "</div>"
      ],
      "text/plain": [
       "  emoji  count\n",
       "0  🏳️‍🌈   1701\n",
       "1     ♥   1167\n",
       "2    ❤️    987\n",
       "3     ✨    751\n",
       "4     ❤    653\n",
       "5     🌈    570\n",
       "6     🎶    272\n",
       "7     🎧    213\n",
       "8     🖤    212\n",
       "9     💜    205"
      ]
     },
     "metadata": {},
     "output_type": "display_data"
    },
    {
     "data": {
      "text/plain": [
       "[('🏳️\\u200d🌈', 1701),\n",
       " ('♥', 1167),\n",
       " ('❤️', 987),\n",
       " ('✨', 751),\n",
       " ('❤', 653),\n",
       " ('🌈', 570),\n",
       " ('🎶', 272),\n",
       " ('🎧', 213),\n",
       " ('🖤', 212),\n",
       " ('💜', 205)]"
      ]
     },
     "execution_count": 14,
     "metadata": {},
     "output_type": "execute_result"
    }
   ],
   "source": [
    "# Your code here\n",
    "def get_emojis(list):\n",
    "    emoji_list = []\n",
    "    for l in list:\n",
    "        if emoji.is_emoji(l):\n",
    "            emoji_list.append(l)\n",
    "    return emoji_list\n",
    "\n",
    "\n",
    "cher_emojis = get_emojis(cher_twitter)\n",
    "robyn_emojis = get_emojis(robyn_twitter)\n",
    "\n",
    "print(\"Cher's 10 most common emojis in Twitter descriptions are:\\n\")\n",
    "display_counter(cher_emojis, 10, \"emoji\", \"count\")\n",
    "\n",
    "print(\"\\n\\nRobyn's 10 most common emojis in Twitter descriptions are:\\n\")\n",
    "display_counter(robyn_emojis, 10, \"emoji\", \"count\")"
   ]
  },
  {
   "cell_type": "markdown",
   "id": "bab9b770",
   "metadata": {},
   "source": [
    "### Hashtags\n",
    "\n",
    "What are the ten most common hashtags by artist in the twitter descriptions?\n"
   ]
  },
  {
   "cell_type": "code",
   "execution_count": 15,
   "id": "07c396f1",
   "metadata": {},
   "outputs": [
    {
     "name": "stdout",
     "output_type": "stream",
     "text": [
      "Cher's 10 most common hashtags in Twitter descriptions are:\n",
      "\n"
     ]
    },
    {
     "data": {
      "application/vnd.microsoft.datawrangler.viewer.v0+json": {
       "columns": [
        {
         "name": "index",
         "rawType": "int64",
         "type": "integer"
        },
        {
         "name": "hashtag",
         "rawType": "object",
         "type": "string"
        },
        {
         "name": "count",
         "rawType": "int64",
         "type": "integer"
        }
       ],
       "ref": "97ebae2b-5f07-441f-beff-13b14ef88677",
       "rows": [
        [
         "0",
         "#resist",
         "11593"
        ],
        [
         "1",
         "#blm",
         "10423"
        ],
        [
         "2",
         "#blacklivesmatter",
         "8151"
        ],
        [
         "3",
         "#theresistance",
         "3500"
        ],
        [
         "4",
         "#fbr",
         "3403"
        ],
        [
         "5",
         "#resistance",
         "3039"
        ],
        [
         "6",
         "#1",
         "2577"
        ],
        [
         "7",
         "#voteblue",
         "2300"
        ],
        [
         "8",
         "#lgbtq",
         "2032"
        ],
        [
         "9",
         "#bidenharris",
         "1679"
        ]
       ],
       "shape": {
        "columns": 2,
        "rows": 10
       }
      },
      "text/html": [
       "<div>\n",
       "<style scoped>\n",
       "    .dataframe tbody tr th:only-of-type {\n",
       "        vertical-align: middle;\n",
       "    }\n",
       "\n",
       "    .dataframe tbody tr th {\n",
       "        vertical-align: top;\n",
       "    }\n",
       "\n",
       "    .dataframe thead th {\n",
       "        text-align: right;\n",
       "    }\n",
       "</style>\n",
       "<table border=\"1\" class=\"dataframe\">\n",
       "  <thead>\n",
       "    <tr style=\"text-align: right;\">\n",
       "      <th></th>\n",
       "      <th>hashtag</th>\n",
       "      <th>count</th>\n",
       "    </tr>\n",
       "  </thead>\n",
       "  <tbody>\n",
       "    <tr>\n",
       "      <th>0</th>\n",
       "      <td>#resist</td>\n",
       "      <td>11593</td>\n",
       "    </tr>\n",
       "    <tr>\n",
       "      <th>1</th>\n",
       "      <td>#blm</td>\n",
       "      <td>10423</td>\n",
       "    </tr>\n",
       "    <tr>\n",
       "      <th>2</th>\n",
       "      <td>#blacklivesmatter</td>\n",
       "      <td>8151</td>\n",
       "    </tr>\n",
       "    <tr>\n",
       "      <th>3</th>\n",
       "      <td>#theresistance</td>\n",
       "      <td>3500</td>\n",
       "    </tr>\n",
       "    <tr>\n",
       "      <th>4</th>\n",
       "      <td>#fbr</td>\n",
       "      <td>3403</td>\n",
       "    </tr>\n",
       "    <tr>\n",
       "      <th>5</th>\n",
       "      <td>#resistance</td>\n",
       "      <td>3039</td>\n",
       "    </tr>\n",
       "    <tr>\n",
       "      <th>6</th>\n",
       "      <td>#1</td>\n",
       "      <td>2577</td>\n",
       "    </tr>\n",
       "    <tr>\n",
       "      <th>7</th>\n",
       "      <td>#voteblue</td>\n",
       "      <td>2300</td>\n",
       "    </tr>\n",
       "    <tr>\n",
       "      <th>8</th>\n",
       "      <td>#lgbtq</td>\n",
       "      <td>2032</td>\n",
       "    </tr>\n",
       "    <tr>\n",
       "      <th>9</th>\n",
       "      <td>#bidenharris</td>\n",
       "      <td>1679</td>\n",
       "    </tr>\n",
       "  </tbody>\n",
       "</table>\n",
       "</div>"
      ],
      "text/plain": [
       "             hashtag  count\n",
       "0            #resist  11593\n",
       "1               #blm  10423\n",
       "2  #blacklivesmatter   8151\n",
       "3     #theresistance   3500\n",
       "4               #fbr   3403\n",
       "5        #resistance   3039\n",
       "6                 #1   2577\n",
       "7          #voteblue   2300\n",
       "8             #lgbtq   2032\n",
       "9       #bidenharris   1679"
      ]
     },
     "metadata": {},
     "output_type": "display_data"
    },
    {
     "name": "stdout",
     "output_type": "stream",
     "text": [
      "\n",
      "\n",
      "Robyn's 10 most common hashtags in Twitter descriptions are:\n",
      "\n"
     ]
    },
    {
     "data": {
      "application/vnd.microsoft.datawrangler.viewer.v0+json": {
       "columns": [
        {
         "name": "index",
         "rawType": "int64",
         "type": "integer"
        },
        {
         "name": "hashtag",
         "rawType": "object",
         "type": "string"
        },
        {
         "name": "count",
         "rawType": "int64",
         "type": "integer"
        }
       ],
       "ref": "964cc879-b3e0-4293-84a4-737499cb8eab",
       "rows": [
        [
         "0",
         "#blacklivesmatter",
         "602"
        ],
        [
         "1",
         "#blm",
         "360"
        ],
        [
         "2",
         "#music",
         "306"
        ],
        [
         "3",
         "#1",
         "198"
        ],
        [
         "4",
         "#teamfollowback",
         "134"
        ],
        [
         "5",
         "#edm",
         "111"
        ],
        [
         "6",
         "#lgbtq",
         "88"
        ],
        [
         "7",
         "#resist",
         "85"
        ],
        [
         "8",
         "#art",
         "72"
        ],
        [
         "9",
         "#love",
         "72"
        ]
       ],
       "shape": {
        "columns": 2,
        "rows": 10
       }
      },
      "text/html": [
       "<div>\n",
       "<style scoped>\n",
       "    .dataframe tbody tr th:only-of-type {\n",
       "        vertical-align: middle;\n",
       "    }\n",
       "\n",
       "    .dataframe tbody tr th {\n",
       "        vertical-align: top;\n",
       "    }\n",
       "\n",
       "    .dataframe thead th {\n",
       "        text-align: right;\n",
       "    }\n",
       "</style>\n",
       "<table border=\"1\" class=\"dataframe\">\n",
       "  <thead>\n",
       "    <tr style=\"text-align: right;\">\n",
       "      <th></th>\n",
       "      <th>hashtag</th>\n",
       "      <th>count</th>\n",
       "    </tr>\n",
       "  </thead>\n",
       "  <tbody>\n",
       "    <tr>\n",
       "      <th>0</th>\n",
       "      <td>#blacklivesmatter</td>\n",
       "      <td>602</td>\n",
       "    </tr>\n",
       "    <tr>\n",
       "      <th>1</th>\n",
       "      <td>#blm</td>\n",
       "      <td>360</td>\n",
       "    </tr>\n",
       "    <tr>\n",
       "      <th>2</th>\n",
       "      <td>#music</td>\n",
       "      <td>306</td>\n",
       "    </tr>\n",
       "    <tr>\n",
       "      <th>3</th>\n",
       "      <td>#1</td>\n",
       "      <td>198</td>\n",
       "    </tr>\n",
       "    <tr>\n",
       "      <th>4</th>\n",
       "      <td>#teamfollowback</td>\n",
       "      <td>134</td>\n",
       "    </tr>\n",
       "    <tr>\n",
       "      <th>5</th>\n",
       "      <td>#edm</td>\n",
       "      <td>111</td>\n",
       "    </tr>\n",
       "    <tr>\n",
       "      <th>6</th>\n",
       "      <td>#lgbtq</td>\n",
       "      <td>88</td>\n",
       "    </tr>\n",
       "    <tr>\n",
       "      <th>7</th>\n",
       "      <td>#resist</td>\n",
       "      <td>85</td>\n",
       "    </tr>\n",
       "    <tr>\n",
       "      <th>8</th>\n",
       "      <td>#art</td>\n",
       "      <td>72</td>\n",
       "    </tr>\n",
       "    <tr>\n",
       "      <th>9</th>\n",
       "      <td>#love</td>\n",
       "      <td>72</td>\n",
       "    </tr>\n",
       "  </tbody>\n",
       "</table>\n",
       "</div>"
      ],
      "text/plain": [
       "             hashtag  count\n",
       "0  #blacklivesmatter    602\n",
       "1               #blm    360\n",
       "2             #music    306\n",
       "3                 #1    198\n",
       "4    #teamfollowback    134\n",
       "5               #edm    111\n",
       "6             #lgbtq     88\n",
       "7            #resist     85\n",
       "8               #art     72\n",
       "9              #love     72"
      ]
     },
     "metadata": {},
     "output_type": "display_data"
    },
    {
     "data": {
      "text/plain": [
       "[('#blacklivesmatter', 602),\n",
       " ('#blm', 360),\n",
       " ('#music', 306),\n",
       " ('#1', 198),\n",
       " ('#teamfollowback', 134),\n",
       " ('#edm', 111),\n",
       " ('#lgbtq', 88),\n",
       " ('#resist', 85),\n",
       " ('#art', 72),\n",
       " ('#love', 72)]"
      ]
     },
     "execution_count": 15,
     "metadata": {},
     "output_type": "execute_result"
    }
   ],
   "source": [
    "# Your code here\n",
    "def get_hashtags(list):\n",
    "    hashtags = []\n",
    "    for item in list:\n",
    "        hashtag = re.findall(r\"#\\w+\", item)\n",
    "        hashtags.extend(hashtag)\n",
    "    return hashtags\n",
    "\n",
    "\n",
    "cher_hashtags = get_hashtags(cher_twitter)\n",
    "robyn_hashtags = get_hashtags(robyn_twitter)\n",
    "\n",
    "print(\"Cher's 10 most common hashtags in Twitter descriptions are:\\n\")\n",
    "display_counter(cher_hashtags, 10, \"hashtag\", \"count\")\n",
    "\n",
    "print(\"\\n\\nRobyn's 10 most common hashtags in Twitter descriptions are:\\n\")\n",
    "display_counter(robyn_hashtags, 10, \"hashtag\", \"count\")"
   ]
  },
  {
   "cell_type": "markdown",
   "id": "d10f21d5",
   "metadata": {},
   "source": [
    "### Song Titles\n",
    "\n",
    "What are the five most common words in song titles by artist? The song titles should be on the first line of the lyrics pages, so if you have kept the raw file contents around, you will not need to re-read the data.\n"
   ]
  },
  {
   "cell_type": "code",
   "execution_count": 17,
   "id": "bb69b36b",
   "metadata": {},
   "outputs": [
    {
     "name": "stdout",
     "output_type": "stream",
     "text": [
      "Top 5 words in Cher's song titles:\n"
     ]
    },
    {
     "data": {
      "application/vnd.microsoft.datawrangler.viewer.v0+json": {
       "columns": [
        {
         "name": "index",
         "rawType": "int64",
         "type": "integer"
        },
        {
         "name": "words",
         "rawType": "object",
         "type": "string"
        },
        {
         "name": "count",
         "rawType": "int64",
         "type": "integer"
        }
       ],
       "ref": "b5a73f36-56b4-41f9-9752-a47cf802b594",
       "rows": [
        [
         "0",
         "the",
         "54"
        ],
        [
         "1",
         "you",
         "41"
        ],
        [
         "2",
         "love",
         "38"
        ],
        [
         "3",
         "i",
         "32"
        ],
        [
         "4",
         "to",
         "28"
        ]
       ],
       "shape": {
        "columns": 2,
        "rows": 5
       }
      },
      "text/html": [
       "<div>\n",
       "<style scoped>\n",
       "    .dataframe tbody tr th:only-of-type {\n",
       "        vertical-align: middle;\n",
       "    }\n",
       "\n",
       "    .dataframe tbody tr th {\n",
       "        vertical-align: top;\n",
       "    }\n",
       "\n",
       "    .dataframe thead th {\n",
       "        text-align: right;\n",
       "    }\n",
       "</style>\n",
       "<table border=\"1\" class=\"dataframe\">\n",
       "  <thead>\n",
       "    <tr style=\"text-align: right;\">\n",
       "      <th></th>\n",
       "      <th>words</th>\n",
       "      <th>count</th>\n",
       "    </tr>\n",
       "  </thead>\n",
       "  <tbody>\n",
       "    <tr>\n",
       "      <th>0</th>\n",
       "      <td>the</td>\n",
       "      <td>54</td>\n",
       "    </tr>\n",
       "    <tr>\n",
       "      <th>1</th>\n",
       "      <td>you</td>\n",
       "      <td>41</td>\n",
       "    </tr>\n",
       "    <tr>\n",
       "      <th>2</th>\n",
       "      <td>love</td>\n",
       "      <td>38</td>\n",
       "    </tr>\n",
       "    <tr>\n",
       "      <th>3</th>\n",
       "      <td>i</td>\n",
       "      <td>32</td>\n",
       "    </tr>\n",
       "    <tr>\n",
       "      <th>4</th>\n",
       "      <td>to</td>\n",
       "      <td>28</td>\n",
       "    </tr>\n",
       "  </tbody>\n",
       "</table>\n",
       "</div>"
      ],
      "text/plain": [
       "  words  count\n",
       "0   the     54\n",
       "1   you     41\n",
       "2  love     38\n",
       "3     i     32\n",
       "4    to     28"
      ]
     },
     "metadata": {},
     "output_type": "display_data"
    },
    {
     "name": "stdout",
     "output_type": "stream",
     "text": [
      "\n",
      "\n",
      "Top 5 words in Robyn's song titles:\n"
     ]
    },
    {
     "data": {
      "application/vnd.microsoft.datawrangler.viewer.v0+json": {
       "columns": [
        {
         "name": "index",
         "rawType": "int64",
         "type": "integer"
        },
        {
         "name": "words",
         "rawType": "object",
         "type": "string"
        },
        {
         "name": "count",
         "rawType": "int64",
         "type": "integer"
        }
       ],
       "ref": "ac7448b9-525e-49c0-8daf-be9971e80584",
       "rows": [
        [
         "0",
         "me",
         "11"
        ],
        [
         "1",
         "you",
         "8"
        ],
        [
         "2",
         "my",
         "8"
        ],
        [
         "3",
         "the",
         "8"
        ],
        [
         "4",
         "love",
         "6"
        ]
       ],
       "shape": {
        "columns": 2,
        "rows": 5
       }
      },
      "text/html": [
       "<div>\n",
       "<style scoped>\n",
       "    .dataframe tbody tr th:only-of-type {\n",
       "        vertical-align: middle;\n",
       "    }\n",
       "\n",
       "    .dataframe tbody tr th {\n",
       "        vertical-align: top;\n",
       "    }\n",
       "\n",
       "    .dataframe thead th {\n",
       "        text-align: right;\n",
       "    }\n",
       "</style>\n",
       "<table border=\"1\" class=\"dataframe\">\n",
       "  <thead>\n",
       "    <tr style=\"text-align: right;\">\n",
       "      <th></th>\n",
       "      <th>words</th>\n",
       "      <th>count</th>\n",
       "    </tr>\n",
       "  </thead>\n",
       "  <tbody>\n",
       "    <tr>\n",
       "      <th>0</th>\n",
       "      <td>me</td>\n",
       "      <td>11</td>\n",
       "    </tr>\n",
       "    <tr>\n",
       "      <th>1</th>\n",
       "      <td>you</td>\n",
       "      <td>8</td>\n",
       "    </tr>\n",
       "    <tr>\n",
       "      <th>2</th>\n",
       "      <td>my</td>\n",
       "      <td>8</td>\n",
       "    </tr>\n",
       "    <tr>\n",
       "      <th>3</th>\n",
       "      <td>the</td>\n",
       "      <td>8</td>\n",
       "    </tr>\n",
       "    <tr>\n",
       "      <th>4</th>\n",
       "      <td>love</td>\n",
       "      <td>6</td>\n",
       "    </tr>\n",
       "  </tbody>\n",
       "</table>\n",
       "</div>"
      ],
      "text/plain": [
       "  words  count\n",
       "0    me     11\n",
       "1   you      8\n",
       "2    my      8\n",
       "3   the      8\n",
       "4  love      6"
      ]
     },
     "metadata": {},
     "output_type": "display_data"
    },
    {
     "data": {
      "text/plain": [
       "[('me', 11), ('you', 8), ('my', 8), ('the', 8), ('love', 6)]"
      ]
     },
     "execution_count": 17,
     "metadata": {},
     "output_type": "execute_result"
    }
   ],
   "source": [
    "# Your code here\n",
    "# stopwords were not removed for song titles\n",
    "df_lyrics[\"tkn_song_titles\"] = df_lyrics[\"song_title\"].apply(clean_text)\n",
    "\n",
    "print(\"Top 5 words in Cher's song titles:\")\n",
    "cher_song_titles = get_token_list(df_lyrics, \"cher\", \"tkn_song_titles\")\n",
    "display_counter(cher_song_titles, 5, \"words\", \"count\")\n",
    "# print(Counter(cher_song_titles).most_common(5))\n",
    "\n",
    "print(\"\\n\\nTop 5 words in Robyn's song titles:\")\n",
    "robyn_song_titles = get_token_list(df_lyrics, \"robyn\", \"tkn_song_titles\")\n",
    "display_counter(robyn_song_titles, 5, \"words\", \"count\")\n",
    "# print(Counter(robyn_song_titles).most_common(5))"
   ]
  },
  {
   "cell_type": "markdown",
   "id": "5dd4fd71",
   "metadata": {},
   "source": [
    "### Song Lengths\n",
    "\n",
    "For each artist, a histogram of song lengths (in terms of number of tokens). If you put the song lengths in a data frame with an artist column, matplotlib will make the plotting quite easy. An example is given to help you out.\n"
   ]
  },
  {
   "cell_type": "code",
   "execution_count": 18,
   "id": "805a1e52",
   "metadata": {},
   "outputs": [
    {
     "data": {
      "application/vnd.microsoft.datawrangler.viewer.v0+json": {
       "columns": [
        {
         "name": "artist",
         "rawType": "object",
         "type": "string"
        },
        {
         "name": "length",
         "rawType": "object",
         "type": "unknown"
        }
       ],
       "ref": "c6358ef3-e538-4e03-9329-27bc10cc8e39",
       "rows": [
        [
         "Artist 1",
         "Axes(0.125,0.11;0.775x0.77)"
        ],
        [
         "Artist 2",
         "Axes(0.125,0.11;0.775x0.77)"
        ]
       ],
       "shape": {
        "columns": 1,
        "rows": 2
       }
      },
      "text/plain": [
       "artist\n",
       "Artist 1    Axes(0.125,0.11;0.775x0.77)\n",
       "Artist 2    Axes(0.125,0.11;0.775x0.77)\n",
       "Name: length, dtype: object"
      ]
     },
     "execution_count": 18,
     "metadata": {},
     "output_type": "execute_result"
    },
    {
     "data": {
      "image/png": "[encoded data removed]",
      "text/plain": [
       "<Figure size 640x480 with 1 Axes>"
      ]
     },
     "metadata": {},
     "output_type": "display_data"
    }
   ],
   "source": [
    "num_replicates = 1000\n",
    "\n",
    "df = pd.DataFrame(\n",
    "    {\n",
    "        \"artist\": [\"Artist 1\"] * num_replicates + [\"Artist 2\"] * num_replicates,\n",
    "        \"length\": np.concatenate(\n",
    "            (\n",
    "                np.random.poisson(125, num_replicates),\n",
    "                np.random.poisson(150, num_replicates),\n",
    "            )\n",
    "        ),\n",
    "    }\n",
    ")\n",
    "\n",
    "df.groupby(\"artist\")[\"length\"].plot(kind=\"hist\", density=True, alpha=0.5, legend=True)"
   ]
  },
  {
   "cell_type": "markdown",
   "id": "8fde9ebb",
   "metadata": {},
   "source": [
    "Since the lyrics may be stored with carriage returns or tabs, it may be useful to have a function that can collapse whitespace, using regular expressions, and be used for splitting.\n",
    "\n",
    "Q: What does the regular expression `'\\s+'` match on?\n",
    "\n",
    "A: This expression matches on one or more of any whitespace character.\n"
   ]
  },
  {
   "cell_type": "code",
   "execution_count": 19,
   "id": "f0e34516",
   "metadata": {},
   "outputs": [],
   "source": [
    "collapse_whitespace = re.compile(r\"\\s+\")\n",
    "\n",
    "\n",
    "def tokenize_lyrics(lyric):\n",
    "    \"\"\"strip and split on whitespace\"\"\"\n",
    "    return [item.lower() for item in collapse_whitespace.split(lyric)]"
   ]
  },
  {
   "cell_type": "code",
   "execution_count": 20,
   "id": "2294c440",
   "metadata": {},
   "outputs": [
    {
     "data": {
      "application/vnd.microsoft.datawrangler.viewer.v0+json": {
       "columns": [
        {
         "name": "artist",
         "rawType": "object",
         "type": "string"
        },
        {
         "name": "song_length",
         "rawType": "object",
         "type": "unknown"
        }
       ],
       "ref": "9e520dd1-e5f5-4c8e-a4f7-9daec5fac723",
       "rows": [
        [
         "cher",
         "Axes(0.125,0.11;0.775x0.77)"
        ],
        [
         "robyn",
         "Axes(0.125,0.11;0.775x0.77)"
        ]
       ],
       "shape": {
        "columns": 1,
        "rows": 2
       }
      },
      "text/plain": [
       "artist\n",
       "cher     Axes(0.125,0.11;0.775x0.77)\n",
       "robyn    Axes(0.125,0.11;0.775x0.77)\n",
       "Name: song_length, dtype: object"
      ]
     },
     "execution_count": 20,
     "metadata": {},
     "output_type": "execute_result"
    },
    {
     "data": {
      "image/png": "[encoded data removed]",
      "text/plain": [
       "<Figure size 640x480 with 1 Axes>"
      ]
     },
     "metadata": {},
     "output_type": "display_data"
    }
   ],
   "source": [
    "# Your lyric length comparison chart here.\n",
    "df_lyrics[\"song_length\"] = df_lyrics[\"lyrics\"].apply(len)\n",
    "\n",
    "df_lyrics.groupby(\"artist\")[\"song_length\"].plot(\n",
    "    kind=\"hist\", bins=10, density=True, alpha=0.5, legend=True\n",
    ")"
   ]
  }
 ],
 "metadata": {
  "kernelspec": {
   "display_name": "ads509",
   "language": "python",
   "name": "python3"
  },
  "language_info": {
   "codemirror_mode": {
    "name": "ipython",
    "version": 3
   },
   "file_extension": ".py",
   "mimetype": "text/x-python",
   "name": "python",
   "nbconvert_exporter": "python",
   "pygments_lexer": "ipython3",
   "version": "3.11.13"
  }
 },
 "nbformat": 4,
 "nbformat_minor": 5
}
