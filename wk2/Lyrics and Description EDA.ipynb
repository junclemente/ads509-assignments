{
 "cells": [
  {
   "cell_type": "markdown",
   "id": "7f79baf9",
   "metadata": {},
   "source": [
    "# ADS 509 Assignment 2.1: Tokenization, Normalization, Descriptive Statistics\n",
    "\n",
    "This notebook holds Assignment 2.1 for Module 2 in ADS 509, Applied Text Mining. Work through this notebook, writing code and answering questions where required.\n",
    "\n",
    "In the previous assignment you put together Twitter data and lyrics data on two artists. In this assignment we explore some of the textual features of those data sets. If, for some reason, you did not complete that previous assignment, data to use for this assignment can be found in the assignment materials section of Blackboard.\n",
    "\n",
    "This assignment asks you to write a short function to calculate some descriptive statistics on a piece of text. Then you are asked to find some interesting and unique statistics on your corpora.\n"
   ]
  },
  {
   "cell_type": "markdown",
   "id": "aae8e2e1",
   "metadata": {},
   "source": [
    "## General Assignment Instructions\n",
    "\n",
    "These instructions are included in every assignment, to remind you of the coding standards for the class. Feel free to delete this cell after reading it.\n",
    "\n",
    "One sign of mature code is conforming to a style guide. We recommend the [Google Python Style Guide](https://google.github.io/styleguide/pyguide.html). If you use a different style guide, please include a cell with a link.\n",
    "\n",
    "Your code should be relatively easy-to-read, sensibly commented, and clean. Writing code is a messy process, so please be sure to edit your final submission. Remove any cells that are not needed or parts of cells that contain unnecessary code. Remove inessential `import` statements and make sure that all such statements are moved into the designated cell.\n",
    "\n",
    "Make use of non-code cells for written commentary. These cells should be grammatical and clearly written. In some of these cells you will have questions to answer. The questions will be marked by a \"Q:\" and will have a corresponding \"A:\" spot for you. _Make sure to answer every question marked with a `Q:` for full credit._\n"
   ]
  },
  {
   "cell_type": "code",
   "execution_count": 30,
   "id": "e2d096b7",
   "metadata": {},
   "outputs": [],
   "source": [
    "import os\n",
    "import re\n",
    "import emoji\n",
    "import pandas as pd\n",
    "import numpy as np\n",
    "\n",
    "from collections import Counter, defaultdict\n",
    "from nltk.corpus import stopwords\n",
    "from string import punctuation\n",
    "\n",
    "sw = stopwords.words(\"english\")"
   ]
  },
  {
   "cell_type": "code",
   "execution_count": 31,
   "id": "6b555ab2",
   "metadata": {},
   "outputs": [],
   "source": [
    "# Add any additional import statements you need here\n",
    "from pathlib import Path"
   ]
  },
  {
   "cell_type": "code",
   "execution_count": 32,
   "id": "923b5a86",
   "metadata": {},
   "outputs": [],
   "source": [
    "# change `data_location` to the location of the folder on your machine.\n",
    "# data_location = \"/users/chandler/dropbox/teaching/repos/ads-tm-api-scrape/\"\n",
    "data_location = Path(\"./datasets\")\n",
    "\n",
    "# These subfolders should still work if you correctly stored the\n",
    "# data from the Module 1 assignment\n",
    "twitter_folder = \"twitter/\"\n",
    "lyrics_folder = \"lyrics/\""
   ]
  },
  {
   "cell_type": "code",
   "execution_count": null,
   "id": "06522af9",
   "metadata": {},
   "outputs": [],
   "source": [
    "def descriptive_stats(tokens, num_tokens=5, verbose=True):\n",
    "    \"\"\"\n",
    "    Given a list of tokens, print number of tokens, number of unique tokens,\n",
    "    number of characters, lexical diversity (https://en.wikipedia.org/wiki/Lexical_diversity),\n",
    "    and num_tokens most common tokens. Return a list with the number of tokens, number\n",
    "    of unique tokens, lexical diversity, and number of characters.\n",
    "\n",
    "    \"\"\"\n",
    "\n",
    "    def count_char_of_token(token_list):\n",
    "        total = 0\n",
    "        for token in token_list:\n",
    "            total += len(token)\n",
    "\n",
    "        return total\n",
    "\n",
    "    def lex_diversity(unique, total):\n",
    "        lex_div = 0\n",
    "        if total > 0:\n",
    "            lex_div = unique / total\n",
    "\n",
    "        return lex_div\n",
    "\n",
    "    # Fill in the correct values here.\n",
    "    num_tokens = len(tokens)\n",
    "    num_unique_tokens = len(set(tokens))\n",
    "    lexical_diversity = lex_diversity(num_unique_tokens, num_tokens)\n",
    "    num_characters = count_char_of_token(tokens)\n",
    "\n",
    "    most_common_tokens = Counter(tokens).most_common(5)\n",
    "\n",
    "    if verbose:\n",
    "        print(f\"There are {num_tokens} tokens in the data.\")\n",
    "        print(f\"There are {num_unique_tokens} unique tokens in the data.\")\n",
    "        print(f\"There are {num_characters} characters in the data.\")\n",
    "        print(f\"The lexical diversity is {lexical_diversity:.3f} in the data.\")\n",
    "\n",
    "        # print the five most common tokens\n",
    "        # most_common_tokens = Counter(tokens)\n",
    "        print(most_common_tokens)\n",
    "\n",
    "    return [num_tokens, num_unique_tokens, lexical_diversity, num_characters]"
   ]
  },
  {
   "cell_type": "code",
   "execution_count": 38,
   "id": "59dcf058",
   "metadata": {},
   "outputs": [
    {
     "name": "stdout",
     "output_type": "stream",
     "text": [
      "There are 13 tokens in the data.\n",
      "There are 9 unique tokens in the data.\n",
      "There are 55 characters in the data.\n",
      "The lexical diversity is 0.692 in the data.\n",
      "[('text', 3), ('here', 2), ('example', 2), ('is', 1), ('some', 1)]\n"
     ]
    }
   ],
   "source": [
    "text = \"\"\"here is some example text with other example text here in this text\"\"\".split()\n",
    "assert descriptive_stats(text, verbose=True)[0] == 13\n",
    "assert descriptive_stats(text, verbose=False)[1] == 9\n",
    "assert abs(descriptive_stats(text, verbose=False)[2] - 0.69) < 0.02\n",
    "assert descriptive_stats(text, verbose=False)[3] == 55"
   ]
  },
  {
   "cell_type": "markdown",
   "id": "d2e7e1a2",
   "metadata": {},
   "source": [
    "Q: Why is it beneficial to use assertion statements in your code?\n",
    "\n",
    "A: Assertion statements are typically used in unit testing. This allows the developer to ensure the code is returning the expected values by creating `assert` statements that given a specific input, this is what I am expecting this function to provide.\n"
   ]
  },
  {
   "cell_type": "markdown",
   "id": "9d3bf93e",
   "metadata": {},
   "source": [
    "## Data Input\n",
    "\n",
    "Now read in each of the corpora. For the lyrics data, it may be convenient to store the entire contents of the file to make it easier to inspect the titles individually, as you'll do in the last part of the assignment. In the solution, I stored the lyrics data in a dictionary with two dimensions of keys: artist and song. The value was the file contents. A data frame would work equally well.\n",
    "\n",
    "For the Twitter data, we only need the description field for this assignment. Feel free all the descriptions read it into a data structure. In the solution, I stored the descriptions as a dictionary of lists, with the key being the artist.\n"
   ]
  },
  {
   "cell_type": "code",
   "execution_count": null,
   "id": "37d70801",
   "metadata": {},
   "outputs": [
    {
     "name": "stdout",
     "output_type": "stream",
     "text": [
      "artists: ['cher', 'robyn']\n",
      "['cher_gypsiestrampsandthieves.txt', 'cher_giveourloveafightinchance.txt', 'cher_idonthavetosleeptodream.txt', 'cher_superstar.txt', 'cher_lovepaintheresapaininmyheart.txt', 'cher_thegirlfromipanema.txt', 'cher_hardenoughgettingoveryou.txt', 'cher_allornothing.txt', 'cher_thisgodforsakenday.txt', 'cher_justenoughtokeepmehanginon.txt', 'cher_livinginahousedivided.txt', 'cher_holdinoutforlove.txt', 'cher_idratherbelieveinyou.txt', 'cher_rockandrolldoctor.txt', 'cher_mirrorimage.txt', 'cher_pirate.txt', 'cher_buticantloveyoumore.txt', 'cher_warpaintandsoftfeathers.txt', 'cher_lovehurts312103.txt', 'cher_runaway.txt', 'cher_cometoyourwindow.txt', 'cher_willyoulovemetomorrow.txt', 'cher_igotyoubabe.txt', 'cher_red.txt', 'cher_lietome.txt', 'cher_likearollingstone.txt', 'cher_reasontobelieve.txt', 'cher_thesamemistake.txt', 'cher_carouselman.txt', 'cher_hellneverknow.txt', 'cher_whentheloveisgone.txt', 'cher_whywasiborn.txt', 'cher_emotionalfire.txt', 'cher_carnival.txt', 'cher_youvereallygotaholdonme.txt', 'cher_thepower.txt', 'cher_sunny.txt', 'cher_itgetsmewhereiwanttogo.txt', 'cher_classified1a.txt', 'cher_lovehurts.txt', 'cher_startingover.txt', 'cher_happinessisjustathingcalledjoe.txt', 'cher_takemehome.txt', 'cher_songcalledchildren.txt', 'cher_whenyoufindoutwhereyouregoinletmeknow.txt', 'cher_angelsrunning.txt', 'cher_silverwingsgoldenrings.txt', 'cher_heartofstone.txt', 'cher_melody.txt', 'cher_whenlovecallsyourname.txt', 'cher_doyoubelieveinmagic.txt', 'cher_chastityssongbandofthieves.txt', 'cher_halfbreed.txt', 'cher_outrageous.txt', 'cher_therebutforfortune.txt', 'cher_couldvebeenyou.txt', 'cher_whenthemoneysgone.txt', 'cher_geronimoscadillac.txt', 'cher_thegreatestsongieverheard.txt', 'cher_thebiggertheycomethehardertheyfall.txt', 'cher_thewayoflove.txt', 'cher_itsacryinshame.txt', 'cher_themanilove.txt', 'cher_catchthewind.txt', 'cher_laplane.txt', 'cher_dovelamore.txt', 'cher_weregonnamakeit.txt', 'cher_singforyoursupper.txt', 'cher_iwantyou.txt', 'cher_earlymorningstrangers.txt', 'cher_julie.txt', 'cher_shoppin.txt', 'cher_thefallkurtsblues.txt', 'cher_amiblue.txt', 'cher_davidssong.txt', 'cher_heyjoe.txt', 'cher_clicksong.txt', 'cher_moveme.txt', 'cher_dancingqueen.txt', 'cher_behindthedoor.txt', 'cher_ibelieve.txt', 'cher_dorightwomandorightman.txt', 'cher_touchandgo.txt', 'cher_rainrain.txt', 'cher_onebyone.txt', 'cher_youvemademesoveryhappy.txt', 'cher_thewinnertakesitall.txt', 'cher_chastitysun.txt', 'cher_weallflyhome.txt', 'cher_dreambaby.txt', 'cher_crylikeababy.txt', 'cher_gonow.txt', 'cher_taxitaxi.txt', 'cher_alfie.txt', 'cher_reallove.txt', 'cher_iwalkalone.txt', 'cher_ihatetosleepalone.txt', 'cher_yoursuntiltomorrow.txt', 'cher_awomansstory.txt', 'cher_hewasbeautiful.txt', 'cher_thesunaintgonnashineanymore.txt', 'cher_shadowdreamsong.txt', 'cher_thelongandwindingroad.txt', 'cher_ifoundyoulove.txt', 'cher_loveisalonelyplacewithoutyou.txt', 'cher_ihopeyoufindit.txt', 'cher_happywasthedaywemet.txt', 'cher_whataboutthemoonlight.txt', 'cher_takemeforalittlewhile.txt', 'cher_loveenough.txt', 'cher_bangbang.txt', 'cher_gimmegimmegimmeamanaftermidnight.txt', 'cher_knockonwood.txt', 'cher_walkwithme.txt', 'cher_dixie.txt', 'cher_workinggirl.txt', 'cher_thefirsttime.txt', 'cher_elusivebutterfly.txt', 'cher_walkinginmemphis.txt', 'cher_bymyself.txt', 'cher_needlesandpins.txt', 'cher_iwasntready.txt', 'cher_weallsleepalone.txt', 'cher_whatllido.txt', 'cher_youngandpretty.txt', 'cher_88degrees.txt', 'cher_mysongtoofargone.txt', 'cher_loveisthegroove.txt', 'cher_thebellsofrhymney.txt', 'cher_blowininthewind.txt', 'cher_thunderstorm.txt', 'cher_fireandrain.txt', 'cher_neverbeentospain.txt', 'cher_strongenough.txt', 'cher_ourdaywillcome.txt', 'cher_favouritescars.txt', 'cher_igotosleep.txt', 'cher_hellonwheels.txt', 'cher_youdonthavetosayyouloveme.txt', 'cher_dannyboy.txt', 'cher_sendthemanover.txt', 'cher_believe.txt', 'cher_untilitstimeforyoutogo.txt', 'cher_fittofly.txt', 'cher_whenloversbecomestrangers.txt', 'cher_bellbottomblues.txt', 'cher_twopeopleclingingtoathread.txt', 'cher_allireallywanttodo.txt', 'cher_iwillwaitforyou.txt', 'cher_longdistanceloveaffair.txt', 'cher_milord.txt', 'cher_chiquititaspanishversion.txt', 'cher_inforthenight.txt', 'cher_boysandgirls.txt', 'cher_borrowedtime.txt', 'cher_backonthestreetagain.txt', 'cher_lovesohigh.txt', 'cher_oogaboo.txt', 'cher_takinbackmyheart.txt', 'cher_ithrewitallaway.txt', 'cher_igotitbadandthataintgood.txt', 'cher_fastcompany.txt', 'cher_shapeofthingstocome.txt', 'cher_loveme.txt', 'cher_mamawhenmydollieshavebabies.txt', 'cher_imblowinaway.txt', 'cher_thecruelwar.txt', 'cher_mylove.txt', 'cher_withorwithoutyou.txt', 'cher_dontthinktwice.txt', 'cher_sirens.txt', 'cher_onesmallstep.txt', 'cher_sittinonthedockofthebay.txt', 'cher_fernando.txt', 'cher_trainofthought.txt', 'cher_dowhatyougottado.txt', 'cher_youwouldntknowlove.txt', 'cher_ayounggirluneenfante.txt', 'cher_justthisonetime.txt', 'cher_dangeroustimes.txt', 'cher_piedpiper.txt', 'cher_comeandstaywithme.txt', 'cher_girldontcome.txt', 'cher_bornwiththehunger.txt', 'cher_loveandunderstanding.txt', 'cher_bangbangmybabyshotmedown.txt', 'cher_makethemanloveme.txt', 'cher_sistersofmercy.txt', 'cher_justwhativebeenlookinfor.txt', 'cher_itstoolatetolovemenow.txt', 'cher_lovethedeviloutofya.txt', 'cher_loveoneanother.txt', 'cher_songforyou.txt', 'cher_iparalyze.txt', 'cher_dixiegirl.txt', 'cher_time.txt', 'cher_afterall.txt', 'cher_runnin.txt', 'cher_heaintheavyhesmybrother.txt', 'cher_mommalooksharp.txt', 'cher_sos.txt', 'cher_thesedays.txt', 'cher_welcometoburlesque.txt', 'cher_spring.txt', 'cher_mrsoul.txt', 'cher_crymyselftosleep.txt', 'cher_takeitlikeaman.txt', 'cher_italladdsupnow.txt', 'cher_gitdownguitargroupie.txt', 'cher_lookatme.txt', 'cher_womansworld.txt', 'cher_downdowndown.txt', 'cher_nevershouldvestarted.txt', 'cher_holysmoke.txt', 'cher_donthideyourlove.txt', 'cher_iknowyoudontloveme.txt', 'cher_adifferentkindoflovesong.txt', 'cher_thenameofthegame.txt', 'cher_stillinlovewithyou.txt', 'cher_doesanybodyreallyfallinloveanymore.txt', 'cher_wasntitgood.txt', 'cher_mainman.txt', 'cher_howcanyoumendabrokenheart.txt', 'cher_waterloo.txt', 'cher_ilovemakinlovetoyou.txt', 'cher_youbettersitdownkids.txt', 'cher_again.txt', 'cher_allbecauseofyou.txt', 'cher_canyoufool.txt', 'cher_easytobehard.txt', 'cher_iwalkonguildedsplinters.txt', 'cher_fernando710922.txt', 'cher_themusicsnogoodwithoutyou.txt', 'cher_morethanyouknow.txt', 'cher_itsnotunusual.txt', 'cher_rescueme.txt', 'cher_thethoughtoflovingyou.txt', 'cher_aliveagain.txt', 'cher_bodytobodyhearttoheart.txt', 'cher_ificouldturnbacktime.txt', 'cher_island.txt', 'cher_thetwelfthofnever.txt', 'cher_mastersofwar.txt', 'cher_impossibledream.txt', 'cher_darklady.txt', 'cher_doievercrossyourmind.txt', 'cher_ourladyofsanfrancisco.txt', 'cher_mylove318663.txt', 'cher_whenyouwalkaway.txt', 'cher_pride.txt', 'cher_theshoopshoopsongitsinhiskiss.txt', 'cher_flashback.txt', 'cher_skindeep.txt', 'cher_shelovestohearthemusic.txt', 'cher_justlikejessejames.txt', 'cher_dressedtokill.txt', 'cher_oneofus.txt', 'cher_iwouldnttreatadogthewayyoutreatedme.txt', 'cher_perfection.txt', 'cher_saywhatsonyourmind.txt', 'cher_youknowit.txt', 'cher_still.txt', 'cher_rudy.txt', 'cher_homewardbound.txt', 'cher_kisstokiss.txt', 'cher_chiquitita.txt', 'cher_loveonarooftop.txt', 'cher_ifeelsomethingintheairmagicintheair.txt', 'cher_laybabylay.txt', 'cher_takeitfromtheboys.txt', 'cher_walls.txt', 'cher_pleasedonttellme.txt', 'cher_themanthatgotaway.txt', 'cher_thegunman.txt', 'cher_letmedowneasy.txt', 'cher_firesofeden.txt', 'cher_thegreatestthing.txt', 'cher_isawamanandhedancedwithhiswife.txt', 'cher_jolsonmedley.txt', 'cher_saytheword.txt', 'cher_iminthemiddle.txt', 'cher_saveupallyourtears.txt', 'cher_onehonestman.txt', 'cher_thetimestheyareachangin.txt', 'cher_illneverstoplovingyou.txt', 'cher_stars.txt', 'cher_ifiknewthen.txt', 'cher_donttrytoclosearose.txt', 'cher_whoyougonnabelieve.txt', 'cher_ifoundsomeone.txt', 'cher_wheredoyougo.txt', 'cher_mammamia.txt', 'cher_thisisasongforthelonely.txt', 'cher_howlonghasthisbeengoingon.txt', 'cher_prisoner.txt', 'cher_games.txt', 'cher_youhaventseenthelastofme.txt', 'cher_applesdontfallfarfromthetree.txt', 'cher_houseisnotahome.txt', 'cher_misssubwayof1952.txt', 'cher_forwhatitsworth.txt', 'cher_letthisbealessontoyou.txt', 'cher_paradiseishere.txt', 'cher_itsamansmansmansworld.txt', 'cher_loversforever.txt', 'cher_aworldwithoutheroes.txt', 'cher_itmightaswellstaymondayfromnowon.txt', 'cher_youtakeitall.txt', 'cher_thebookoflove.txt', 'cher_dontcomearoundtonight.txt', 'cher_willyouwaitforme.txt', 'cher_olmanriver.txt', 'cher_notenoughloveintheworld.txt', 'cher_tonightillbestayingherewithyou.txt', 'cher_savethechildren.txt', 'cher_disastercake.txt']\n",
      "['robyn_handleme.txt', 'robyn_babyforgiveme.txt', 'robyn_doitagain.txt', 'robyn_mondaymorning.txt', 'robyn_indestructibleacousticversion.txt', 'robyn_honey.txt', 'robyn_universalwoman.txt', 'robyn_crywhenyougetolder.txt', 'robyn_noneofdem114527.txt', 'robyn_obaby.txt', 'robyn_whosthatgirl.txt', 'robyn_lovekills.txt', 'robyn_everylittlething.txt', 'robyn_criminalintent.txt', 'robyn_stillyourgirl.txt', 'robyn_aintnothing.txt', 'robyn_eclipse.txt', 'robyn_monument.txt', 'robyn_healthylove.txt', 'robyn_witheveryheartbeat.txt', 'robyn_hangwithme114525.txt', 'robyn_ushouldknowbetter.txt', 'robyn_konichiwabitches.txt', 'robyn_longgone.txt', 'robyn_moonlight.txt', 'robyn_robynishere.txt', 'robyn_wheredidourlovego.txt', 'robyn_play.txt', 'robyn_setmefree.txt', 'robyn_inmyeyes114532.txt', 'robyn_humanbeing.txt', 'robyn_hangwithme.txt', 'robyn_lovekills114524.txt', 'robyn_shouldhaveknown.txt', 'robyn_mytruth.txt', 'robyn_cobrastyle.txt', 'robyn_missingu.txt', 'robyn_inmyeyes.txt', 'robyn_dontwantyouback.txt', 'robyn_how.txt', 'robyn_jagvetendejligrosa.txt', 'robyn_robotboy.txt', 'robyn_iwish.txt', 'robyn_youvegotthatsomething.txt', 'robyn_notontheinside.txt', 'robyn_fembot.txt', 'robyn_buffalostance.txt', 'robyn_thelasttime.txt', 'robyn_stars4ever.txt', 'robyn_wedancetothebeat114528.txt', 'robyn_becauseitsinthemusic.txt', 'robyn_curriculumvitae.txt', 'robyn_electric.txt', 'robyn_dancehallqueen.txt', 'robyn_justanothergirlfriend.txt', 'robyn_crashandburngirl.txt', 'robyn_indestructible.txt', 'robyn_bumlikeyou.txt', 'robyn_mainthing.txt', 'robyn_myonlyreason.txt', 'robyn_hangwithmeacousticversion.txt', 'robyn_88days.txt', 'robyn_givingyouback.txt', 'robyn_jackuoff.txt', 'robyn_callyourgirlfriend.txt', 'robyn_herewego.txt', 'robyn_sendtorobinimmediately.txt', 'robyn_dontstopthemusic.txt', 'robyn_losecontrol.txt', 'robyn_betweenthelines.txt', 'robyn_fembot114519.txt', 'robyn_shouldhaveknown106828.txt', 'robyn_bigcity.txt', 'robyn_everagain.txt', 'robyn_getmyselftogether.txt', 'robyn_ushouldknowbetter114529.txt', 'robyn_dontfuckingtellmewhattodo.txt', 'robyn_dontfuckingtellmewhattodo114520.txt', 'robyn_bemine.txt', 'robyn_dancingonmyown114521.txt', 'robyn_dancehallqueen114530.txt', 'robyn_showmelove.txt', 'robyn_doyouknowwhatittakes.txt', 'robyn_wedancetothebeat.txt', 'robyn_loveisfree.txt', 'robyn_bumpyride.txt', 'robyn_keepthisfireburning.txt', 'robyn_psycho.txt', 'robyn_blowmymind.txt', 'robyn_timemachine.txt', 'robyn_breakdownintermission.txt', 'robyn_tellyoutoday.txt', 'robyn_gottoworkitout.txt', 'robyn_tomteverkstan.txt', 'robyn_noneofdem.txt', 'robyn_beach2k20.txt', 'robyn_underneaththeheart.txt', 'robyn_anytimeyoulike.txt', 'robyn_inmyheart.txt', 'robyn_sayit.txt', 'robyn_includemeout.txt', 'robyn_dancingonmyown.txt', 'robyn_bionicwoman.txt', 'robyn_doyoureallywantmeshowrespect.txt']\n"
     ]
    }
   ],
   "source": [
    "# create path to lyrics\n",
    "lyrics_path = os.path.join(data_location, lyrics_folder)\n",
    "\n",
    "# get list of artists in lyrics folder\n",
    "artists = os.listdir(lyrics_path)\n",
    "# print(f\"artists: {artists}\")\n",
    "\n",
    "# initialize lyrics_data dictionary\n",
    "lyrics_data = {}\n",
    "\n",
    "for artist in artist_list:\n",
    "    artist_lyrics_path = os.path.join(lyrics_path, artist)\n",
    "    # print(artist_lyrics_path)\n",
    "    artist_files = os.listdir(artist_lyrics_path)\n",
    "    print(artist_files)"
   ]
  },
  {
   "cell_type": "code",
   "execution_count": null,
   "id": "2109722d",
   "metadata": {},
   "outputs": [],
   "source": []
  },
  {
   "cell_type": "code",
   "execution_count": null,
   "id": "debcac5a",
   "metadata": {},
   "outputs": [],
   "source": [
    "# Read in the twitter data"
   ]
  },
  {
   "cell_type": "markdown",
   "id": "6a5f3b12",
   "metadata": {},
   "source": [
    "## Data Cleaning\n",
    "\n",
    "Now clean and tokenize your data. Remove punctuation chacters (available in the `punctuation` object in the `string` library), split on whitespace, fold to lowercase, and remove stopwords. Store your cleaned data, which must be accessible as an interable for `descriptive_stats`, in new objects or in new columns in your data frame.\n"
   ]
  },
  {
   "cell_type": "code",
   "execution_count": null,
   "id": "71c73d86",
   "metadata": {},
   "outputs": [],
   "source": [
    "punctuation = set(punctuation)  # speeds up comparison"
   ]
  },
  {
   "cell_type": "code",
   "execution_count": null,
   "id": "b327033a",
   "metadata": {},
   "outputs": [],
   "source": [
    "# create your clean twitter data here"
   ]
  },
  {
   "cell_type": "code",
   "execution_count": null,
   "id": "e0f22e10",
   "metadata": {},
   "outputs": [],
   "source": [
    "# create your clean lyrics data here"
   ]
  },
  {
   "cell_type": "markdown",
   "id": "f2dd0179",
   "metadata": {},
   "source": [
    "## Basic Descriptive Statistics\n",
    "\n",
    "Call your `descriptive_stats` function on both your lyrics data and your twitter data and for both artists (four total calls).\n"
   ]
  },
  {
   "cell_type": "code",
   "execution_count": null,
   "id": "f0bbedd9",
   "metadata": {},
   "outputs": [],
   "source": [
    "# calls to descriptive_stats here"
   ]
  },
  {
   "cell_type": "markdown",
   "id": "46294409",
   "metadata": {},
   "source": [
    "Q: How do you think the \"top 5 words\" would be different if we left stopwords in the data?\n",
    "\n",
    "A:\n",
    "\n",
    "---\n",
    "\n",
    "Q: What were your prior beliefs about the lexical diversity between the artists? Does the difference (or lack thereof) in lexical diversity between the artists conform to your prior beliefs?\n",
    "\n",
    "A:\n"
   ]
  },
  {
   "cell_type": "markdown",
   "id": "4d4e1ac1",
   "metadata": {},
   "source": [
    "## Specialty Statistics\n",
    "\n",
    "The descriptive statistics we have calculated are quite generic. You will now calculate a handful of statistics tailored to these data.\n",
    "\n",
    "1. Ten most common emojis by artist in the twitter descriptions.\n",
    "1. Ten most common hashtags by artist in the twitter descriptions.\n",
    "1. Five most common words in song titles by artist.\n",
    "1. For each artist, a histogram of song lengths (in terms of number of tokens)\n",
    "\n",
    "We can use the `emoji` library to help us identify emojis and you have been given a function to help you.\n"
   ]
  },
  {
   "cell_type": "code",
   "execution_count": null,
   "id": "753a5a3e",
   "metadata": {},
   "outputs": [],
   "source": [
    "assert emoji.is_emoji(\"❤️\")\n",
    "assert not emoji.is_emoji(\":-)\")"
   ]
  },
  {
   "cell_type": "markdown",
   "id": "986fc4c0",
   "metadata": {},
   "source": [
    "### Emojis 😁\n",
    "\n",
    "What are the ten most common emojis by artist in the twitter descriptions?\n"
   ]
  },
  {
   "cell_type": "code",
   "execution_count": null,
   "id": "269cd433",
   "metadata": {},
   "outputs": [],
   "source": [
    "# Your code here"
   ]
  },
  {
   "cell_type": "markdown",
   "id": "bab9b770",
   "metadata": {},
   "source": [
    "### Hashtags\n",
    "\n",
    "What are the ten most common hashtags by artist in the twitter descriptions?\n"
   ]
  },
  {
   "cell_type": "code",
   "execution_count": null,
   "id": "07c396f1",
   "metadata": {},
   "outputs": [],
   "source": [
    "# Your code here"
   ]
  },
  {
   "cell_type": "markdown",
   "id": "d10f21d5",
   "metadata": {},
   "source": [
    "### Song Titles\n",
    "\n",
    "What are the five most common words in song titles by artist? The song titles should be on the first line of the lyrics pages, so if you have kept the raw file contents around, you will not need to re-read the data.\n"
   ]
  },
  {
   "cell_type": "code",
   "execution_count": null,
   "id": "bb69b36b",
   "metadata": {},
   "outputs": [],
   "source": [
    "# Your code here"
   ]
  },
  {
   "cell_type": "markdown",
   "id": "5dd4fd71",
   "metadata": {},
   "source": [
    "### Song Lengths\n",
    "\n",
    "For each artist, a histogram of song lengths (in terms of number of tokens). If you put the song lengths in a data frame with an artist column, matplotlib will make the plotting quite easy. An example is given to help you out.\n"
   ]
  },
  {
   "cell_type": "code",
   "execution_count": null,
   "id": "805a1e52",
   "metadata": {},
   "outputs": [],
   "source": [
    "num_replicates = 1000\n",
    "\n",
    "df = pd.DataFrame(\n",
    "    {\n",
    "        \"artist\": [\"Artist 1\"] * num_replicates + [\"Artist 2\"] * num_replicates,\n",
    "        \"length\": np.concatenate(\n",
    "            (\n",
    "                np.random.poisson(125, num_replicates),\n",
    "                np.random.poisson(150, num_replicates),\n",
    "            )\n",
    "        ),\n",
    "    }\n",
    ")\n",
    "\n",
    "df.groupby(\"artist\")[\"length\"].plot(kind=\"hist\", density=True, alpha=0.5, legend=True)"
   ]
  },
  {
   "cell_type": "markdown",
   "id": "8fde9ebb",
   "metadata": {},
   "source": [
    "Since the lyrics may be stored with carriage returns or tabs, it may be useful to have a function that can collapse whitespace, using regular expressions, and be used for splitting.\n",
    "\n",
    "Q: What does the regular expression `'\\s+'` match on?\n",
    "\n",
    "A:\n"
   ]
  },
  {
   "cell_type": "code",
   "execution_count": null,
   "id": "f0e34516",
   "metadata": {},
   "outputs": [],
   "source": [
    "collapse_whitespace = re.compile(r\"\\s+\")\n",
    "\n",
    "\n",
    "def tokenize_lyrics(lyric):\n",
    "    \"\"\"strip and split on whitespace\"\"\"\n",
    "    return [item.lower() for item in collapse_whitespace.split(lyric)]"
   ]
  },
  {
   "cell_type": "code",
   "execution_count": null,
   "id": "2294c440",
   "metadata": {},
   "outputs": [],
   "source": [
    "# Your lyric length comparison chart here."
   ]
  }
 ],
 "metadata": {
  "kernelspec": {
   "display_name": "ads509",
   "language": "python",
   "name": "python3"
  },
  "language_info": {
   "codemirror_mode": {
    "name": "ipython",
    "version": 3
   },
   "file_extension": ".py",
   "mimetype": "text/x-python",
   "name": "python",
   "nbconvert_exporter": "python",
   "pygments_lexer": "ipython3",
   "version": "3.11.13"
  }
 },
 "nbformat": 4,
 "nbformat_minor": 5
}
