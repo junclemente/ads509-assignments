{
 "cells": [
  {
   "cell_type": "markdown",
   "id": "7f79baf9",
   "metadata": {},
   "source": [
    "# ADS 509 Assignment 2.1: Tokenization, Normalization, Descriptive Statistics\n",
    "\n",
    "This notebook holds Assignment 2.1 for Module 2 in ADS 509, Applied Text Mining. Work through this notebook, writing code and answering questions where required.\n",
    "\n",
    "In the previous assignment you put together Twitter data and lyrics data on two artists. In this assignment we explore some of the textual features of those data sets. If, for some reason, you did not complete that previous assignment, data to use for this assignment can be found in the assignment materials section of Blackboard.\n",
    "\n",
    "This assignment asks you to write a short function to calculate some descriptive statistics on a piece of text. Then you are asked to find some interesting and unique statistics on your corpora.\n"
   ]
  },
  {
   "cell_type": "markdown",
   "id": "aae8e2e1",
   "metadata": {},
   "source": [
    "## General Assignment Instructions\n",
    "\n",
    "These instructions are included in every assignment, to remind you of the coding standards for the class. Feel free to delete this cell after reading it.\n",
    "\n",
    "One sign of mature code is conforming to a style guide. We recommend the [Google Python Style Guide](https://google.github.io/styleguide/pyguide.html). If you use a different style guide, please include a cell with a link.\n",
    "\n",
    "Your code should be relatively easy-to-read, sensibly commented, and clean. Writing code is a messy process, so please be sure to edit your final submission. Remove any cells that are not needed or parts of cells that contain unnecessary code. Remove inessential `import` statements and make sure that all such statements are moved into the designated cell.\n",
    "\n",
    "Make use of non-code cells for written commentary. These cells should be grammatical and clearly written. In some of these cells you will have questions to answer. The questions will be marked by a \"Q:\" and will have a corresponding \"A:\" spot for you. _Make sure to answer every question marked with a `Q:` for full credit._\n"
   ]
  },
  {
   "cell_type": "code",
   "execution_count": 1,
   "id": "e2d096b7",
   "metadata": {},
   "outputs": [],
   "source": [
    "import os\n",
    "import re\n",
    "import emoji\n",
    "import pandas as pd\n",
    "import numpy as np\n",
    "\n",
    "from collections import Counter, defaultdict\n",
    "from nltk.corpus import stopwords\n",
    "from string import punctuation\n",
    "\n",
    "sw = stopwords.words(\"english\")"
   ]
  },
  {
   "cell_type": "code",
   "execution_count": 2,
   "id": "6b555ab2",
   "metadata": {},
   "outputs": [],
   "source": [
    "# Add any additional import statements you need here\n",
    "from pathlib import Path"
   ]
  },
  {
   "cell_type": "code",
   "execution_count": 3,
   "id": "923b5a86",
   "metadata": {},
   "outputs": [],
   "source": [
    "# change `data_location` to the location of the folder on your machine.\n",
    "# data_location = \"/users/chandler/dropbox/teaching/repos/ads-tm-api-scrape/\"\n",
    "data_location = Path(\"./datasets\")\n",
    "\n",
    "# These subfolders should still work if you correctly stored the\n",
    "# data from the Module 1 assignment\n",
    "twitter_folder = \"twitter/\"\n",
    "lyrics_folder = \"lyrics/\""
   ]
  },
  {
   "cell_type": "code",
   "execution_count": 4,
   "id": "06522af9",
   "metadata": {},
   "outputs": [],
   "source": [
    "def descriptive_stats(tokens, num_tokens=5, verbose=True):\n",
    "    \"\"\"\n",
    "    Given a list of tokens, print number of tokens, number of unique tokens,\n",
    "    number of characters, lexical diversity (https://en.wikipedia.org/wiki/Lexical_diversity),\n",
    "    and num_tokens most common tokens. Return a list with the number of tokens, number\n",
    "    of unique tokens, lexical diversity, and number of characters.\n",
    "\n",
    "    \"\"\"\n",
    "\n",
    "    def count_char_of_token(token_list):\n",
    "        total = 0\n",
    "        for token in token_list:\n",
    "            total += len(token)\n",
    "\n",
    "        return total\n",
    "\n",
    "    def lex_diversity(unique, total):\n",
    "        lex_div = 0\n",
    "        if total > 0:\n",
    "            lex_div = unique / total\n",
    "\n",
    "        return lex_div\n",
    "\n",
    "    # Fill in the correct values here.\n",
    "    num_tokens = len(tokens)\n",
    "    num_unique_tokens = len(set(tokens))\n",
    "    lexical_diversity = lex_diversity(num_unique_tokens, num_tokens)\n",
    "    num_characters = count_char_of_token(tokens)\n",
    "\n",
    "    most_common_tokens = Counter(tokens).most_common(5)\n",
    "\n",
    "    if verbose:\n",
    "        print(f\"There are {num_tokens} tokens in the data.\")\n",
    "        print(f\"There are {num_unique_tokens} unique tokens in the data.\")\n",
    "        print(f\"There are {num_characters} characters in the data.\")\n",
    "        print(f\"The lexical diversity is {lexical_diversity:.3f} in the data.\")\n",
    "\n",
    "        # print the five most common tokens\n",
    "        # most_common_tokens = Counter(tokens)\n",
    "        print(most_common_tokens)\n",
    "\n",
    "    return [num_tokens, num_unique_tokens, lexical_diversity, num_characters]"
   ]
  },
  {
   "cell_type": "code",
   "execution_count": 5,
   "id": "59dcf058",
   "metadata": {},
   "outputs": [
    {
     "name": "stdout",
     "output_type": "stream",
     "text": [
      "There are 13 tokens in the data.\n",
      "There are 9 unique tokens in the data.\n",
      "There are 55 characters in the data.\n",
      "The lexical diversity is 0.692 in the data.\n",
      "[('text', 3), ('here', 2), ('example', 2), ('is', 1), ('some', 1)]\n"
     ]
    }
   ],
   "source": [
    "text = \"\"\"here is some example text with other example text here in this text\"\"\".split()\n",
    "assert descriptive_stats(text, verbose=True)[0] == 13\n",
    "assert descriptive_stats(text, verbose=False)[1] == 9\n",
    "assert abs(descriptive_stats(text, verbose=False)[2] - 0.69) < 0.02\n",
    "assert descriptive_stats(text, verbose=False)[3] == 55"
   ]
  },
  {
   "cell_type": "markdown",
   "id": "d2e7e1a2",
   "metadata": {},
   "source": [
    "Q: Why is it beneficial to use assertion statements in your code?\n",
    "\n",
    "A: Assertion statements are typically used in unit testing. This allows the developer to ensure the code is returning the expected values by creating `assert` statements that given a specific input, this is what I am expecting this function to provide.\n"
   ]
  },
  {
   "cell_type": "markdown",
   "id": "9d3bf93e",
   "metadata": {},
   "source": [
    "## Data Input\n",
    "\n",
    "Now read in each of the corpora. For the lyrics data, it may be convenient to store the entire contents of the file to make it easier to inspect the titles individually, as you'll do in the last part of the assignment. In the solution, I stored the lyrics data in a dictionary with two dimensions of keys: artist and song. The value was the file contents. A data frame would work equally well.\n",
    "\n",
    "For the Twitter data, we only need the description field for this assignment. Feel free all the descriptions read it into a data structure. In the solution, I stored the descriptions as a dictionary of lists, with the key being the artist.\n"
   ]
  },
  {
   "cell_type": "code",
   "execution_count": 6,
   "id": "37d70801",
   "metadata": {},
   "outputs": [],
   "source": [
    "# create path to lyrics\n",
    "lyrics_path = os.path.join(data_location, lyrics_folder)\n",
    "\n",
    "# get list of artists in lyrics folder\n",
    "artists = os.listdir(lyrics_path)\n",
    "\n",
    "# initialize rows list for dataframe\n",
    "rows = []\n",
    "\n",
    "for artist in artists:\n",
    "    # create path to song lyrics\n",
    "    song_lyrics_path = os.path.join(lyrics_path, artist)\n",
    "\n",
    "    # iterate through all song files in the directory\n",
    "    for songs in os.listdir(song_lyrics_path):\n",
    "        # create path to song file\n",
    "        file_path = os.path.join(song_lyrics_path, songs)\n",
    "\n",
    "        # read txt file to lyrics var\n",
    "        with open(file_path, \"r\", encoding=\"utf-8\") as f:\n",
    "            lines = f.readlines()\n",
    "\n",
    "        # create regex to capture title between double quotes\n",
    "        match = re.match(r'^\"(.*)\"$', lines[0].strip())\n",
    "        if match:\n",
    "            song_title = match.group(1)\n",
    "        else:\n",
    "            # fallback to first line as title\n",
    "            song_title = lines[0].strip()\n",
    "\n",
    "        # save rest of lines to lyrics\n",
    "        lyrics = \"\".join(lines[1:]).strip()\n",
    "\n",
    "        rows.append({\"artist\": artist, \"song_title\": song_title, \"lyrics\": lyrics})\n",
    "\n",
    "# create dataframe from rows var\n",
    "df_lyrics = pd.DataFrame(rows)"
   ]
  },
  {
   "cell_type": "code",
   "execution_count": 7,
   "id": "e2c602ef",
   "metadata": {},
   "outputs": [
    {
     "data": {
      "application/vnd.microsoft.datawrangler.viewer.v0+json": {
       "columns": [
        {
         "name": "index",
         "rawType": "int64",
         "type": "integer"
        },
        {
         "name": "artist",
         "rawType": "object",
         "type": "string"
        },
        {
         "name": "song_title",
         "rawType": "object",
         "type": "string"
        },
        {
         "name": "lyrics",
         "rawType": "object",
         "type": "string"
        }
       ],
       "ref": "c4c5b09b-e1af-426c-b3aa-2b4ff683dca8",
       "rows": [
        [
         "0",
         "cher",
         "Gypsies, Tramps And Thieves",
         "I was born in the wagon of a travellin' show \nMy mama used to dance for the money they'd throw \nPapa would do whatever he could \nPreach a little gospel, sell a couple bottles of \nDoctor Good \n\n[CHORUS] \nGypsys, tramps, and thieves \nWe'd hear it from the people of the town \nThey'd call us Gypsys, tramps, and thieves \nBut every night all the men would come around \nAnd lay their money down \n\nPicked up a boy just south of \nMobile Gave him a ride, filled him with a hot meal I was sixteen, he was twenty-one \nRode with us to Memphis \nAnd papa woulda shot him if he knew what he'd done \n\n[CHORUS]\n\nI never had schoolin' but he taught me well \nWith his smooth southern style \nThree months later I'm a gal in trouble \nAnd I haven't seen him for a while, uh-huh I haven't seen him for a while, uh-huh \n\nShe was born in the wagon of a travellin' show \nHer mama had to dance for the money they'd throw \nGrandpa'd do whatever he could \nPreach a little gospel, sell a couple bottles of \nDoctor Good \n\n[CHORUS] \n\n[CHORUS FADES]"
        ],
        [
         "1",
         "cher",
         "Give Our Love A Fightin' Chance",
         "So you wanna throw our love away\nSo you think we oughta say goodbye\nAnd you tell me we've run out of time\nCan't make your heart stop on a dime\n\nYou could always walk away\nLike you never saw my face\nIf you wanted to\n\nYou could tell yourself a lie\nSay this love ain't worth a try\nBut you know that isn't true\nYour heart is tellin' you\n\nWhoa, we gotta take a stand\nGive our love a fightin' chance\nWe can talk it over, baby\nWoman to man\nGive our love a fightin' chance\n\nSo you think you'll wish it all away\nClick your heels and leave it all behind\nBut don't ya know that in the real world\nYou gotta fight to keep love alive\n\nThere's a battle to be won\nAnd if both our hearts are strong\nWe can make it though\n\nSo don't turn your back and run\n'Cause your hearts under the gun\nIt's a case of do or die\nBreak down the walls of pride\n\nWhoa, we gotta take a stand\nGive our love a fightin' chance\nWe can talk it over, baby\nWoman to man\nGive our love a fightin' chance"
        ],
        [
         "2",
         "cher",
         "I Don't Have To Sleep To Dream",
         "I gave up the fight for love\nWalked away to come for gloves\nNo more wishing on a star\nWaiting for someone\nWhat if no one ever comes\n\nSo I kept my eyes closed, hands up, dancing by myself\nOh, I never felt nothing better\nBaby how could I know you'd come rushing down from Heaven\nNow my heart is open forever\n\nI don't have to sleep to dream\nI can hardly believe what I see\nWhen you stand before me\nYou're everything I never thought\nThat I would ever find\nNow I don't have to sleep to dream\nYou're a dream to me\n\nThere's a cure for bleeding heart\nThink you showed me where to start\nEverytime I lose my grip\nYou keep me hangin' on\nYou remind that I'm strong\n\nSo I kept my eyes closed, hands up, dancing by myself\nOh, I never felt nothing better\nBaby how could I know you'd come rushing down from Heaven\nNow my heart is open forever\n\nI don't have to sleep to dream\nI can hardly believe what I see\nWhen you stand before me\nYou're everything I never thought\nThat I would ever found\nNow I don't have to sleep to dream\nYou're a dream\nI don't have to sleep to dream\nI can hardly believe what I see\nWhen you stand before me\nYou're everything I never thought\nThat I would ever find\nNow I don't have to sleep to dream\nYou're a dream to me\n\nYou're a dream\n\nI don't have to sleep to dream\nI can hardly believe what I see\nWhen you stand before me\nYou're everything I never thought\nThat I would ever find\nNow I don't have to sleep to dream\nYou're a dream\nYou're a dream to me"
        ],
        [
         "3",
         "cher",
         "Superstar",
         "Long ago and so far away\nAh I fell in love with you\nBefore the second show\nOh honey your guitar\nAh it sounds so sweet and clear\nAh but you're really not here\nCause it's just the radio\n\nAh don't you remember\nYou told me you love me baby\nAh you said you'd be coming back\nMy way again baby\nOoh baby, ooh baby\nI love you, I really do\n\nOh loneliness of my God\nLoneliness is such a sad affair\nOh and baby I can hardly wait\nOh don't you know I'm so hard up\nI wanna sleep with you again\nOh but what's to say\nOh what's to say to bring\nYou back again, baby\nCome back and play\nOoh do it to me baby\nDo, do it to me\nOn your sad guitar\n\nAh don't you remember\nYou told me you love me baby\nAh you said you'd be coming back\nMy way again baby\nOoh baby, ooh baby\nI love you, I really do"
        ],
        [
         "4",
         "cher",
         "Love & Pain (There's A Pain In My Heart)",
         "I see the clouds and I feel the rain\nIt's all coming down to you again\nAnd I take the ashes\nThough memories stays the same\nIt's all coming down to love and pain\n\nHeadin' for the coast\nTrying to make the most of this misery\nCause there's a pain in my heart\nAnd it's tearing me apart\nWell I guess it comes down to loving you\n(do you see the clouds, can you feel the rain)\nIt's all coming down to love and pain\n\nOn the road again (thinking about you baby)\nTomorrow I will play l.a.\nBut there's a pain in my heart and it's tearing me apart\nWell I guess that's just the way my story goes\n\nWell there's a hunger in my veins and it's driving me insane\nBut I guess it all comes down to love and pain\n\nWell there's a hunger in my veins and it's driving me insane\nSo won't you help, so won't you help me\nAh won'tcha help me, help me, help me, help me\n\nBut there's a hunger in my heart and it's tearing me apart\nWell I guess that's just the way my story goes\nAnd there's a hunger in my veins and it's driving me insane\nWell I guess it comes down to loving you\nAh I guess it's all coming down to love and pain"
        ],
        [
         "5",
         "cher",
         "The Girl From Ipanema",
         "Tall and tan and young and lovely\nThe girl from Ipanema goes walking\nAnd when she passes\nEach one she passes goes a-a-h!\n\nWhen she walks she's like a samba\nThat swings so cool and sways so gentle\nThat when she passes\nEach one she passes goes a-a-h!\n\nOoh but I watch her so sadly\nHow can I tell her I love her\nYes I would give his heart gladly\nBut each day when she walks to the sea\nShe looks straight ahead not at me\n\nTall and tan and young and lovely\nThe girl from Ipanema goes walking\nAnd when she passes\nI smile but she doesn't see\nShe never sees me\n\nOoh but I watch her so sadly\nHow can I tell her I love her\nYes I would give my heart gladly\nBut each day when she walks to the sea\nShe looks ahead not at me\n\nTall and tan and young and lonely\nThe girl from Ipanema goes walking\nAnd when she passes\nI smile but she doesn't see"
        ],
        [
         "6",
         "cher",
         "Hard Enough Getting Over You",
         "For the first time, in such a long time\nI've been feeling there's some reason\nTo hold on through the night\nAnd for the first time since\nYou broke this heart of mine\nI find myself believing\nIt's really gonna be alright\n\nNow you're asking me to let\nYou walk back into my life\nSomething I can't bring myself to do\n\n'Cause it's been hard enough getting over you\nYou kept me holding on till the end\nOh it's been hard enough getting' over you\nI don't think that I could say goodbye again\n\nI could trust you, but it's out of my hands\nI once believed your promises\nBelieved in every word you said\nI still love you but my heart can't take the chance\nThat all the pain I've left behind me\nMight be waiting for me up ahead\n\nJust remember it was you\nWho walked right out of my life\nNo you don't know what I've been through\n\n'Cause it's been hard enough getting over you\nYou kept me holding on till the end\nOh it's been hard enough getting' over you\nI don't think that I could say goodbye again\n\nThen I made a promise to myself\nAnd this one I'm not gonna break\nI've made it without you and I'm not about to\nTurn around and make the same mistake\n\n'Cause it's been hard enough getting over you\nYou kept me holding on till the end\nOh, it's been hard enough getting over you\nI don't think that I could say goodbye\nI don't think I could say goodbye\nI know that I can't say goodbye again"
        ],
        [
         "7",
         "cher",
         "All Or Nothing",
         "I've been standing out in the rain\nI've been calling your name\nI've got that lonely feeling again\nCalling out your name\n\nDo you hear me?\nDo you want me?\n\nBaby it's all or nothing now\nDon't wanna run and I can't walk out\nYou're breaking my heart if you leave me now\nDon't wanna wait for ever\n\nWho do you think you're fooling?\nWho do you think you're fooling?\nBaby it's all or nothing\nBaby it's all or nothing now\n\nAnd I've been trying to get to your heart\nBut I'm chasing shadows\nWe keep falling further apart\nSo near and you're so far\n\nDo you care now?\nDo you know how?\n\nBaby it's all or nothing now\nDon't wanna run and I can't walk out\nYou're breaking my heart if you leave me now\nDon't wanna wait for ever\n\nWho do you think you're fooling?\nWho do you think you're fooling?\nBaby it's all or nothing\nBaby it's all or nothing now\n\nSometimes when you touch me\nI just can't help myself\n(Can't help myself)\nDesire makes me weak\nDesire makes me weak\n\nDo you care now?\nDo you know how?\n\nBaby it's all or nothing\nI don't wanna run and I can't walk out\nYou're breaking my heart if you leave me\nDon't wanna wait for ever\n\nBaby it's all or nothing now\nDon't wanna run and I can't walk out\nYou're breaking my heart if you leave me now\nI don't wanna wait for ever\n\nWho do you think you're fooling?\nWho do you think you're fooling?\nBaby it's all or nothing\nBaby it's all or nothing now, now"
        ],
        [
         "8",
         "cher",
         "This God-Forsaken Day",
         "Read your note this mornin'.\n'bye-bye girl', that's all it said.\nGlad I found it first,\nBefore the kids got out of bed.\n\nBaked a tray of muffins.\nHung some wet-wash out to dry.\nBy the time the kids got up,\nI could look them in the eye.\n\nYou've gone away, you've gone away.\nHow will I get though the day? \nThis god-forsaken day.\n\nDrank some bitter coffee.\nRead your note ten times or more.\nWhen I'd washed the dishes twice,\nI got down and scrubbed the floor.\n\nEmpty chair at supper.\nEverybody's actin' strange.\nFood just gettin' cold.\nKids real quiet for a change.\n\nYou've gone away, you've gone away.\nHow will I get through the day? \nThis god-forsaken day.\n\nRain was fallin' hard\nAs I walked slowly up the stairs.\nPushed my tears back down\nAs I stood listenin'\nTo their prayers.\n\nThere's your empty pillow.\nYour side's flat right to the wall.\nNow's the time for private cryin'.\nNow it hurts me\nMost of all.\n\nYou've gone away.\nI turn off the light.\nHow will I get through the night? \nThis god-forsaken night.\nThis long and lonesome, god-forsaken night."
        ],
        [
         "9",
         "cher",
         "(Just Enough To Keep Me) Hangin' On",
         "It's true, you got me wrapped around your finger\nAh honey, it seems that's where I belong\nYou know how to hold me, thrill me and control me\nJust enough, just enough to keep me hangin' on\nAh honey, just enough, just enough to keep me hangin' on\nMy heart is like a yo-yo string\nI'm tied to you, I'm tied to you right or wrong\nMy love keeps on growing\nCause your love keeps right on showing\nJust enough, just enough to keep me hangin' on\nOh baby, just enough, just enough to keep me hangin' on\nA love as true as mine will make you do most anything\nLike hiding tears and heartaches\nAnd dreaming all those silly dreams\nAh honey, you got me, you got me where you want me\nAnd you keep me stringing along\nJust enough, just enough to keep me hangin' on\nAh baby, just enough, just enough to keep me hangin' on\nAh honey, just enough, just enough to keep me hangin' on\nOh tell me why, just enough"
        ],
        [
         "10",
         "cher",
         "Living In A House Divided",
         "Look at us the picture of happiness\nNot so long ago, Ah, not so very long ago\nThe price of all our friends\nThe perfect couple were we\nIs this how it will end?\nJust a sad sad story.\n\n[CHORUS:]\nLiving in a house divided\nWith a love that's so onesided\nThere's no chance at all\nThe walls have got to fall\nTumbling down\n\nLook at us the King and Queen of emptiness\nLiving inside our castle of loneliness\nUnable to make amends\nSuch perfect strangers are we\nIs this how it will end?\nJust a sad story.\n\n[Repeat chorus]"
        ],
        [
         "11",
         "cher",
         "Holdin' Out For Love",
         "Had my share of disco nights\nDid some talking, rainbow lights\nEasy smile shines like gold\nBurning hot and turning cold\nLive that kind of life before\nLost the note to learn the score\nSomething tells me that\nThere must be something more\n\nThis time I'm holdin' out for love\nMade up my mind\nI'm holdin' out for love\nMister this time\nI'm holdin' on, holdin' back\nHoldin' out for love\n\nHad my fill of party scenes \nOne night stands and neon dreams\nGood times, friends and fancy clothes\nFlashing highs and crashing lows\nSo if that's what's on your mind\nWell I'll just take a pass this time\nI believe I rather just leave it all behind\n\nThis time I'm holdin' out for love\nMade up my mind\nI'm holdin' out for love\nMister this time\nI'm holdin' on, holdin' back\nHoldin' out for love\n\nI need to find someone\nWho'll still be holding me\nWhen the dance is done\n\nThis time I'm holdin' out for love\nMade up my mind\nI'm holdin' out for love\nMister this time\nI'm holdin' on, holdin' back\nHoldin' out for love\n\nThis time I'm holdin' out for love\nMade up my mind\nI'm holdin' out for love\nMister this time\nI'm holdin' on, holdin' back\nHoldin' out for love\n\nThis time I'm holdin' out for love\nMade up my mind\nI'm holdin' out for love\nMister this time\nI'm holdin' on, holdin' back\nHoldin' out for love"
        ],
        [
         "12",
         "cher",
         "I'd Rather Believe In You",
         "I should go out tonight\nAnd get on with my life\nBreak these chains of solitude\nA little luck and a little help\nI might even find myself\nIn the arms of someone new\n\nBut, once you've loved somebody\nIt ain't that easy to do\nOnce you've somebody\nLike I've loved you\n\nLook what you've gone and done\nYou've ruined it for anyone\nWho tries to steal this heart away\nI can't get you off my mind\nI've told myself a million times\nA little time is all it takes\n\nBut, once you've loved somebody\nIt ain't that easy to do\nOnce you've somebody\nLike I've loved you\n\nI gave you everything that I had to give\nI don't know if I can go that far again\n\nBut, once you've loved somebody\nIt ain't that easy to do\nOnce you've somebody\nLike I've loved you\n\nOh, once you've loved somebody\nOh, like I've loved you"
        ],
        [
         "13",
         "cher",
         "Rock And Roll Doctor",
         "A woman in georgia didn't feel just right\nShe had fever all day and chills at night\nNow things got worse, yes a serious bind\nAt times like this it takes a man with such style\nThat you cannot often find\nA doctor of the heart and a doctor of the mind\n\nIf you like country with a boogie beat\nHe's the man to meet (he's the man to meet)\nIf you like the sound of'a shufflin' feet\nI said, he can't be beat (he can't be beat)\nOh, if you wanna feel real nice\nJust ask the rock and roll doctor's advice\n\nIt's just a country town but patients come\nFrom mobile to moline from miles around\nNagodoches to new orleans\nIn beat-up old cars or in limousines\nTo meet the doctor of soul\n\nHe's got his very own thing\nTwo degrees in be-bop, a ph.d. in swing\nHe's the master of be hop\nHe's the rock 'n roll king\n\nIf you like country with a boogie beat\nHe's the man to meet (he's the man to meet)\nIf you like the sound of'a shufflin' feet\nI said, he can't be beat (he can't be beat)\nIf you... if you wanna\nIf you wanna feel real nice\nJust ask the r and-r d-r's advice\n\n(rock 'n roll doc can make you feel so fine)\nSo fine so so fine, so fine, he makes you feel so fine\n(rock n roll doc can make you feel so fine)\nRock-n-roll rock-n-roll rock-n-roll doctor, feel fine\nWell he makes you feel so fine"
        ],
        [
         "14",
         "cher",
         "Mirror Image",
         "I get up this morning, forget about all my plans\nThink about my vacations with my latest man\nEverything I did, what I should've done\nWhy I didn't stay why I didn't run\n\nOnly I hold the key to unlock the door\nI might make mistakes I made them before\nThink I hear about my life as a book\nThink I rather forget but they forced me to look\n\n(Mirror image, mirror image)\nIf it isn't in black and white\n(It never happened)\n(Mirror image) Reflection of me\nDo you see what they want you to see?\nLooking at my life through mirror image\nMirror image\n\nMust I confess everything that I've done?\nCan't a girl go out and have herself some fun?\nI don't wanna be judge I don't want the blame\nLiving for the day is how I play the game\n\nThere always a dream there's always a stage\nSomebody's looking now it's on the front page\nThrough my rear view mirror I can see where I've been\nI forget the beginning and I can't see the end\n\n(Mirror image, mirror image)\nIf it isn't in black and white\n(It never happened)\n(Mirror image) Reflection of me\nDo you see what they want you to see?\nLooking at my life through mirror image\nMirror image\n\nOnly I hold the key to unlock the door\nI might make mistakes I made them before\nThink I hear about my life as a book\nThink I rather forget but they forced me to look\n\n(Mirror image, mirror image)\nIf it isn't in black and white\n(It never happened)\n(Mirror image) Reflection of me\nDo you see what they want you to see?\nLooking at my life through mirror image\nMirror image\n\n(Mirror image, mirror image)\nIf it isn't in black and white\n(It never happened)\n(Mirror image) Reflection of me\nDo you see what they want you to see?\nLooking at my life through mirror image\nMirror image"
        ],
        [
         "15",
         "cher",
         "Pirate",
         "He'll sail on with the summer wind\nThat blows on this same day\nEverybody calls him Pirate\nDark and handsome in his own way\nAnd the fire in his eyes\nLit all the fire inside of me\nAnd soon you were feeling\nSo much more than the wind and waves and sea\n\nPirate I'm gonna take your soul\nI only want the right to love you\nI know the sea won't let you go\nPirate, my love will only chain you down\nSo just know how much I love you\nAnd then turn that ship around\n\nEvery time that he'd sail back to me\nWe'd fall in love again\nAnd my face would fill with wonder\nAt all the places that he's been\nBut I knew his sweetest love song\nWas when he heard the trade winds blow\nAnd I loved him way too much\nTo tell the secret he should know\n\nPirate I'm gonna take your soul\nI only want the right to love you\nI know the sea won't let you go\nPirate, my love will only chain you down\nSo just know how much I love you\nAnd then turn that ship around\n\nNow as I watch in silence\nAnother young man goes to sea\nAnd his silhouette is stirrin' up\nA painful memory\nAnd I know his heart is set to sail\nBut mine is set to cry\nCause I feel as the way I did\nThe day is Daddy said goodbye\nI told him\n\nPirate I'm gonna take your soul\nI only want the right to love you\nI know the sea won't let you go\nPirate, my love will only chain you down\nSo just know how much I love you\nAnd then turn that ship around"
        ],
        [
         "16",
         "cher",
         "But I Can't Love You More",
         "More-I don't know how to\nMore-I die without you\nMore-and I would stop the world turning\nI stop the sun burning\nBut I can't love you more\n\nMore-is there more than a lifetime\nMore-count the stars in the nighttime\nMore-I'm already your slave love\nThat's what I gave love\nAnd I can't love you more\n\nEvery breath that I take\nMy first thought when I wake\nEvery song I hear\nHow I feel when you're near\nHow I feel by your side\nHow I'm glad I'm alive\nWhether winter or spring\nDoesn't mean anything\nHow my home's anywhere\nKnowing that I know you care\nAnd how nothing I see\nBeyond you and me\n\nMore-I don't know how to\nMore-I die without you\nMore-and I would stop the world turning\nI stop the sun burning\nBut I can't love you more"
        ],
        [
         "17",
         "cher",
         "War Paint And Soft Feathers",
         "They were from two warring tribes\nSo their love could never be\nHe was a painted Apache\nAnd she was a Cherokee\nHe was stealing her father's horses\nWhen he saw her standing there\nMoon braided bits of silver\nAll through her long black hair\n\nWar paint and soft feathers\nLove was meant to be\nEven though he was Apache\nShe was a blue-eyed Cherokee\nWar paint and soft feathers\nUnder the pale moon light\nDoing what tribal laws forbid\nAs drums brought the silence of the night\n\nHis strong arms circled round her waist\nHis headband touched her brow\nThey were of two different tongues\nBut their lips met anyhow\nNext to a small oak tree\nCrossed spears forbid their love\nThere'd been no peace between their tribes\nLong as eagles soar above\n\nWar paint and soft feathers\nLove was meant to be\nEven though he was Apache\nShe was a blue-eyed Cherokee\nWar paint and soft feathers\nUnder the pale moon light\nDoing what tribal laws forbid\nAs drums brought the silence of the night\n\nNow the leaves have fallen to the ground\nOver and over again\nFrom the small oak tree grown taller\nWhere once crossed spears had been\nA young man rides his pinto horse\nAnd he stands there tall and free\nThe son of a wild Apache\nAnd a blue-eyed Cherokee\n\nWar paint and soft feathers\nLove was meant to be\nEven though he was Apache\nShe was a blue-eyed Cherokee\nWar paint and soft feathers\nUnder the pale moon light\nDoing what tribal laws forbid\nAs drums brought the silence of the night\n\nWar paint and soft feathers\nLove was meant to be\nEven though he was Apache\nShe was a blue-eyed Cherokee\nWar paint and soft feathers\nUnder the pale moon light\nDoing what tribal laws forbid\nAs drums brought the silence of the night"
        ],
        [
         "18",
         "cher",
         "Love Hurts",
         "Love hurts, love scars\nLove wounds and mars\nAny heart not tough\nOr strong enough\nTo take a lot of pain\nTake a lot of pain\nLove is like a cloud and it \nHolds a lot of rain\nLove hurts\n\nI'm young, I know\nBut, babe, even so\nI know a thing or two\nHoney, I've learned from you\nAnd I've really learned a lot\nI've really learned a lot\nLove is like a stove and it \nBurns you when it's hot\nLove hurts\nLove hurts\n\nSome fools rave of happiness, of blissfulness, togetherness\nOh, some fools, oh, they fool themselves, I guess\nThey're not fooling me\nAnd I know it isn't true\nOh, I know it isn't true\nLove is just a lie and it's \nMade to make you blue\nLove hurts\nEarly in the morning, you'll find love hurts\nLove hurts"
        ],
        [
         "19",
         "cher",
         "Runaway",
         "Nobody said it would be easy\nNobody gives you guarantees\n'Cause a heart can always be broken\nAnd there can be no loving without tears\n\nRunaway to a place where nobody knows\nRunaway gotta let this feeling go\nRunaway if I can't find love,\nI gotta runaway\n\nNobody's looking for perfection\nHow could they give it in return\nBut I told my heart to believe you\nAnd you just gave your love to anyone\n\nRunaway to a place where nobody knows\nRunaway gotta let this feeling go\nRunaway 'cause I don't want to hurt anymore\nThough my heart is always searching\nIf I can't find love,\nI gotta runaway\n\nRunaway\nRunaway\nRunaway\n\nIf I can't find love...\nIf I can't find love...\n\n'Cause a heart can't always be broken\nThere can't be no loving without tears\n\nRunaway to a place where nobody knows\nRunaway gotta let this feeling go\nRunaway and I don't wanna hurt anymore\nThough my heart is always searching\nIf I can't find love\nI gotta runaway\n\nRunaway\nRunaway\nRunaway\n\nIf I can't find love\nI gotta runaway\n\nRunaway\nRunaway\nRunaway\n\nI gotta run\nI gotta run away\n\nIf I can't find love\nIf I can't find love\nIf I can't find love\nIf I can't find love"
        ],
        [
         "20",
         "cher",
         "Come To Your Window",
         "I'm leaving in the quiet early morning\nWhen night has left the sky\nBefore the dew is dry\nBut it's not like it used to be\nI'm leaving you this warning\nYou're gonna live to see the day\nYou long for me\nCome to your window\nIt ain't too late to come\nInto your side again\nDon't make me believe you\nBefore you let me have\nA chance to try again\nOr I'll be gone before\nYou ever know you're losing me\nI know I've made mistakes\nThat bought you sorrow\nBut baby, keep in mind\nYou're not right all the time\nDon't let me go away\nTo face a new tomorrow\nBack where you bought me from\nWhen I was glad to come\n\nCome to your window\nLook down and see the teardrops\nIn my desperate eyes\nLook how I need you\nI got to find a way to make you realize\nThat you are casting out\nThe deepest love you'll ever know\nPlease don't close your ears\nTo what I'm saying\nBefore I ride away into the early day\nI spent the lonesome evening hours praying\nThat you will change your mind\nAnd try me one more time\nCome to your window\nBefore our love comes crashing\nInto pieces on the ground\nDon't let it happen\nI promise you this time\nI'll never let you down\nGive me a cause to come\nTo your lonesome arms again"
        ],
        [
         "21",
         "cher",
         "Will You Love Me Tomorrow",
         "Tonight you're mine completely \nYou give your love so sweetly \nTonight the light of love is in your eyes \nBut will you love me tomorrow \n\nIs this a lasting treasure \nOr a moment's pleasure \nShould I believe the magic of your sigh \nWill you still love me tomorrow \n\nTonight with words unspoken \nYou say that I'm the only one \nBut will my heart be broken \nWhen the night meets the morning's sun \n\nI like to know that your love \nIs a love I can be sure of \nSo tell me now and I won't ask again \nWill you still love me tomorrow \n\nSo tell me now and I won't ask again \nWill you still love me tomorrow \nWill you still love me tomorrow \nWill you still love me tomorrow"
        ],
        [
         "22",
         "cher",
         "I Got You Babe",
         "[Her:]\nThey say we're young and we don't know\nWe won't find out until we grow\n[Him:]\nWell I don't know if all that's true\n'Cause you got me, and baby I got you\n\n[Him:]\nBabe\n[Both:]\nI got you babe I got you babe\n\n[Her:]\nThey say our love won't pay the rent\nBefore it's earned, our money's all been spent\n[Him:]\nI guess that's so, we don't have a plot\nBut at least I'm sure of all the things we got\n\n[Him:]\nBabe\n[Both:]\nI got you babe I got you babe\n\n[Him:]\nI got flowers in the spring\nI got you to wear my ring\n[Her:]\nAnd when I'm sad, you're a clown\nAnd if I get scared, you're always around\n\n[Her:]\nSo let them say your hair's too long\n'Cause I don't care, with you I can't go wrong\n[Him:]\nThen put your little hand in mine\nThere ain't no hill or mountain we can't climb\n\n[Him:]\nBabe\n[Both:]\nI got you babe I got you babe\n\n[Him:]\nI got you to hold my hand\n[Her:]\nI got you to understand\n[Him:]\nI got you to walk with me\n[Her:]\nI got you to talk with me\n\n[Him:]\nI got you to kiss goodnight\n[Her:]\nI got you to hold me tight\n[Him:]\nI got you, I won't let go\n[Her:]\nI got you to love me so\n\n[Both:]\nI got you babe\nI got you babe\nI got you babe\nI got you babe\nI got you babe"
        ],
        [
         "23",
         "cher",
         "Red",
         "All I see is red, now\nJust can't dream nothing else\nAll I see is red, now\nI'm drowning, no one can help\n\nSirens through my head, everything you said\nFloating lost at sea with sharks around our bed\nWish I heard the call when it was the end\nWarnings filled the air but it was too late to pretend\nWe were living in black and white\nUnder the grayest sky\nSince we've been over, it won't stop\n\nAll I see is red, now\nJust can't dream nothing else\nAll I see is red, now\nI'm drowning no one can help\nIt's all around me\nRed from my heart, red like my blood\nRed from my lips when you told me you were done\nRed, now\nAll I see is red now\n\nUsed to be that you were every color of my life\nA rainbow shining through the rain, cutting like a knife\nYou were my obsession every night and every day\nSo when we fell apart the blue was more than I could take\nWe were living in black and white\nUnder the grayest sky\nSince we've been over, it won't stop\n\nAll I see is red, red\nAll I see is red, red\nIt's all around me\nRed from my heart, red like my blood\nRed from my lips when you told me you were done\nRed, now\nAll I see is red, now\n\nRed from my heart, red like my blood\nRed from my lips when you told me you were done\nRed from my heart, red like my blood\nRed from my lips when you told me you were done\n\nRed, now\nJust can't dream nothing else\nAll I see is red, now\nI'm drowning, no one can help\nIt's all around me"
        ],
        [
         "24",
         "cher",
         "Lie To Me",
         "Hmmm...\n\nOh, fuck, just lie to me\nTell me something sweet\nTill I look the other way\nDon't wanna start over babe\nAlready gave you everything\nI got nothing left of me\nThe truth is overrated\n\nHere it comes now, you're gonna stab me in the heart\nI'm gonna hold my ears, so I can't hear us fall apart\nOh, I'm just a little broken down, trying to keep myself alive\nSo don't kill me\nDon't kill me\n\nNeither one of us is pure enough to come clean\n\nI'd rather you lie to me\nAnd look me dead in the eyes\nTell me I'm the one you need\nI don't wanna start over babe\nThis was my everything\nYou were my last chance, you see\nTruth is overrated to me\n\nIs this all common now?\nWhere's that fairytale that sold us out?\nOh, do you really think you're the only one with secrets now?\nSee, you're like me\nYou're just like me\n\nWell, one of us is happy\nOther bleeds\n\nSo just lie to me\nI tell you something sweet\nTill we look the other way\nWe don't wanna start over babe\nWeavin' up everything\nTill there's nothing left\n\nHmmm..."
        ],
        [
         "25",
         "cher",
         "Like A Rolling Stone",
         "Once upon a time you dressed so fine \nThrew the bums a dime \nIn your prime, didn't you? \nPeople'd call, say Beware doll \nYou're bound to fall \nYou thought they were all kiddin you \nYou used to laugh about \nEverybody that was hangin out \nNow you don't talk so loud \nNow you don't seem so proud \nAbout having to be scrounging \nFor your next meal \n\nHow does it feel, How does it feel \nTo be without a home, \nWith no direction known, \nLike a complete unknown, \nLike a rolling stone? \n\nYou've gone to the finest school \nAll right, Miss Lonely \nBut you know you only used \nTo get juiced in it \nAnd nobody has ever taught you \nHow to live on the street \nAnd now you find out \nYou're gonna have to get used to it \nYou said you'd never compromise \nWith the mystery tramp \nBut now you realize \nHe's not selling any alibis \nAs you stare into the vacuum of his eyes \nAnd ask him do you want to make a deal? \n\nHow does it feel, How does it feel \nTo be without a home, \nLike a complete unknown, \nWith no direction home \nLike a complete unknown, \nLike a rolling stone? \n\nYou never turned around to see \nThe frowns on the jugglers and the clowns \nWhen they all come down \nAnd did tricks for you \nYou never understood that it ain't no good \nYou shouldn't let other people \nGet your kicks for you \nYou used to ride on the chrome horse \nWith your diplomat \nWho carried on his shoulder a Siamese cat \nAin't it hard when you discover that \nHe really wasn't where it's at \nAfter he took from you everything \nHe could steal \n\nHow does it feel, How does it feel \nTo be without a direction known, \nWithout a home \nLike a complete unknown, \nLike a rolling stone?"
        ],
        [
         "26",
         "cher",
         "Reason To Believe",
         "If I listen long enough to you \nI'd find the way to believe \nThat it's all true \nKnowing that you lied straight faced \nWhile I cried \nStill I looked to find \nThe reason to believe \n\nSomeone like you makes it hard \nTo live without somebody else \nSomeone like you makes it easy to give \nAnd never thinking of myself \n\nIf I gave you time to change my mind \nI'd find the way \nTo leave the past behind \nKnowing that you lied straight faced \nWhile I cried \nStill I looked to find \nThe reason to believe \n\nIf I listen long enough to you \nI'd find the way to believe \nThat it's all true \nKnowing that you lied straight faced \nWhile I cried \nStill I looked to find \nThe reason to believe"
        ],
        [
         "27",
         "cher",
         "The Same Mistake",
         "Crash the car, this road is going nowhere fast\nBurn the bed, where we once laid\nAnd close the door, there's nothing left to say\nWalk the streets I know the way, I know the way\n\nDid you wonder how we got to this place\nAnd as I watched my world go walking out the door\nI see, I won the peace but I have lost the war\nThat love is give and sometimes take\nNext time I won't make the same mistake\n\nBreak the chains, they couldn't hold you anyway\nPray to God, this too will pass\nRaise your glass to old acquaintances and friends\nTalk to me 'cause I can bend, I can bend\n\nDid you ever think that we'd turn out this way\nAnd as I watch my world go walking out the door\nI see, I've won the peace but I have lost the war\nAnd I know, I know that love is give and love is take\nNext time, baby, I won't make the same mistake, same mistake\n\nDid you wonder how we got to this place\nAnd as I watched my world go walking out the door\nI see, I won the peace but I have lost the war\nAnd I know, I know I know that love is give and sometimes take\nOh, next time I won't make the same mistake\n\nLove is sometimes give and sometimes take\nLove is sometimes give and sometimes take"
        ],
        [
         "28",
         "cher",
         "Carousel Man",
         "I had a taste of bitter life\nAt sweet sixteen\nI was growing up too fast\nIf you know what I mean\nMet an older man\nWho taught me his own way to live\nAnd all I had to do to keep him\nWas to give and give\n\nThe carousel man\nKept me going around and round\nCarousel man always know\nThat I'd stay around\nThe carousel man\nWouldn't let me off his merry-go-round\n\nI followed him around in traveling shows\nAlong the main county lines\nWatching him drinking his mind away\nNot ever knowing my name at time\nEach night when the show closed down\nHe used to tell me of his dreams\nHe was wearing new French suits\nWhile I mended my torn jeans\n\nThe carousel man\nKept me going around and round\nCarousel man always know\nThat I'd stay around\nThe carousel man\nWouldn't let me off his merry-go-round\n\nThen one night in Santa Fe\nThe horses stop going around\nThere he was my poor rich man\nLying on the Mexico ground\nAll the sad music of his life\nIs still spinning in my mind\nThe carousel starts up again\nAnd I found my place in life\n\nThe carousel man\nKept me going around and round\nCarousel man always know\nThat I'd stay around\nThe carousel man\nWouldn't let me off his merry-go-round\n\nThe carousel man\nKept me going around and round\nCarousel man always know\nThat I'd stay around\nThe carousel man\nWouldn't let me off his merry-go-round"
        ],
        [
         "29",
         "cher",
         "He'll Never Know",
         "They go off and leave me behind\nThey have so many words to find\nI run to catch a glimpse of them\nJust walking in the sun\nKnowing they'll be mine again\nWhen the evening has begun\nAnd when I see them hand in hand\nThe boy who walks beside the man\nI pray that I will always have the world\nThat I have found\nThe husband and the son\nThat I built my life around\n\nHe'll never know of that night long ago\nHe'll never know it's locked in my mind\nNo he'll never know\nFrom the feelings I show\nHe'll never know\nHis son is only mine\n\nSometimes I lie awake at night\nWatching darkest turn to light\nThinking back on all the things\nI said to him today\nWondering if I might had a careless word to say\nWhen the morning's almost here\nHe reaches out to draw me near\nSilently I search his face for the love\nI hope to see and once again\nI'm sure that all his love belongs to me\n\nHe'll never know of that night long ago\nHe'll never know it's locked in my mind\nNo he'll never know\nFrom the feelings I show\nHe'll never know\nHis son is only mine"
        ],
        [
         "30",
         "cher",
         "When The Love Is Gone",
         "When the love is gone\nThere is nothing you can do\nBut feel the pain\nIf only I could only feel\nThe freedom that I gain\nI could be happy then\nAnd start again\n\nWhen the love is gone\nInstead of feeling sorry, feeling strong\nIf I could put it all behind were it belongs\nAnd find that long lost friend and myself again\n\n[Chorus:]\nWhen the love is gone\nAnd the memories tag along\nWhen you know that you gotta go on\nYes you gotta be strong\nWhen the love is gone\nThere's no shoulder to cry upon\n\nYou gotta hold your head on high\nWhen it says goodbye\n\nWhen the love is gone\nThere's no one in the wings\nTo take you home\nBut there's a strength one gets\nWhen going it alone\nTo make you wiser when it comes again\n\nWhen the love is gone\nAnd the memories tag along\nWhen you know that you gotta go on\nYes you gotta be strong\nWhen the love is gone\nThere's no shoulder to cry upon\n\nAnd the moon remains me of your love\nAnd the rain remains me of you love\nSit and watch the sun go down\nIt's you I'm thinking of\nBut I won't run back for all the stars above\nNo\n\nWhen the love is gone\nAnd the memories tag along\nWhen you know that you gotta go on\nYes you gotta be strong\nWhen the love is gone\nThere's no shoulder to cry upon"
        ],
        [
         "31",
         "cher",
         "Why Was I Born",
         "Why was I born tell me why I am living\nWhat do I give or what am I'm giving\nWhat do I want anything I can not hope for\nWhat can I hope for I wish I knew\n\nWhy do I try to draw you near me\nHoney tell me why do I cry\nCause you're never gonna hear me\nI'm a poor fool\nBut what can I do, I do\nWhy was I born to love you\n\nWhy do I try to draw you near me\nHoney tell me why do I cry\nCause you're never gonna hear me\nI'm a poor fool\nBut what can I do, I do\nWhy was I born to love you"
        ],
        [
         "32",
         "cher",
         "Emotional Fire",
         "I can't wait 'til I see you baby\nI can't wait 'til the night comes fallin' down\nI gotta see you again\n\nAnd even if it couldn't be forever\nI'd trade a lifetime for this night together\nHold on, hold on\n\nMy heart is burning with the heat of this\n\nEmotional fire, every time I see you\nI'm on fire, every time we touch\nCan't you feel me burning with desire?\nBaby feel warm, give me some\nEmotional fire, emotional fire\n\nThere's a feelin' when I'm here beside you\nCouldn't leave you and I wouldn't try to\nBaby, I'd only need you again\n\nThere ain't nothing that can break this fever\nThe love gets stronger and the passion deeper\nHold on, hold on\n\nI can't let go 'cause there's no stopping this\n\nEmotional fire, every time I see you\nI'm on fire, every time we touch\nCan't you feel me burning with desire?\nBaby feel warm, give me some\nEmotional fire, emotional fire\n\nI can't wait until I see you baby\nI can't wait 'til the night comes fallin'\nHold on, hold on\n\nMy heart is burning with the heat of this\n\nEmotional fire every time I see you\nI'm on fire, every time we touch\nCan't you feel me burning with desire?\nBaby feel warm, give me some\nEmotional fire, emotional fire\n\nEmotional fire\nEmotional fire\nEmotional fire\n..."
        ],
        [
         "33",
         "cher",
         "Carnival",
         "I'll sing to the sun in the sky,\nI'll sing till the sun rises high,\nCarnival time is here,\nMagical time of year,\nAnd as the time draws near,\nDreams lift my heart!\n\nI'll sing as I play my guitar,\nI'll cling to a dream from afar,\nWill love come my way,\nThis Carnival day,\nAnd stay here in my heart?\n\nWill true love come my way,\nOn this Carnival day,\nOr will I be alone with my dream?"
        ],
        [
         "34",
         "cher",
         "You've Really Got A Hold On Me",
         "I don't like you\nBut I love you\nSeems like I'm always\nThinking of you\nThough, oh, oh, you do me wrong, now\nMy love is strong now\nYou really got a hold on me\nYou really got a hold on me\nYou really got a hold on me\nYou've really got a hold on me\n\nI don't want you\nBut I need you\nDon't want to kiss you\nBut I need to\nThough oh oh, you treat me badly\nLord I love you madly\nYou really got a hold on me\nYou really got a hold on me\nYou really got a hold on me\nYou really got a hold on me\n\nBaby,\nI love you\nBut all I want you to do is just\nHold me\nPlease\nHold me\nAw please\nHold me\nAw please\nHold me\nTighter\n\nI want to leave you\nDon't want to stay here\nDon't want to spend\nAnother day here\nThough oh oh, I want to split now\nLord, I just can't quit now\nYou've really got a hold on me\nYou've really got a hold on me\nYou've really got a hold on me\nYou really got a hold on me\n\nBaby\nI love you\nBut all I want you to do is just\nHold me\nPlease\nHold me\nAw please\nHold me\nAw yeah\nHold me\n\nYou've really got a hold on me\nYou've really got a hold on me\nYou've really got a hold on me\nYou've really got a hold on me"
        ],
        [
         "35",
         "cher",
         "The Power",
         "A king is crying from his throne\nHe had a queen but now she's gone\nWhat is this magic that we seek?\nThe mighty strong to mighty weak\n\nEvery good girl hears it\nEvery bad boy fears it\nNo matter what I see\nI believe, I believe\n\nThe power touches me\nThe power sets us free\nThe power holds my hand\nThe power drives me crazy\n\nA flower grows, an old man dies\nAnd through it all we still survive\nA poor man screams, but no one hears\nAin't nothing changed much through the years\n\nEvery bad day needs it\nEvery good day breeds it\nNo matter how it feels\nWhen it's real you know it's real\nIt's stronger than anybody\nAny man has ever made\n\nThe power touches me\nThe power helps us see\nThe power holds my hand, yeah\nThe power drives me crazy\n\nIt won't take long to understand\nJust how lucky I am\n\nOpen up your eyes and see\nIt won't take long to understand\nJust how lucky I am\n\nEvery good boy needs it\nEvery bad girl breeds it\nNo matter how I feel\nOh, when it's real you know it's real\nIt's stronger than anybody\nAny man has ever made\n\nThe power holds my hand, yeah\nDrives me crazy\n\nThe power sets us free, yeah\nThe power holds my hand, yeah\nThe power drives me crazy\n\nAnd I believe\nAnd you believe\nAnd we believe\nEverybody's gonna be alright\nAlright in just my mind\n\nPower [repeat until fade]"
        ],
        [
         "36",
         "cher",
         "Sunny",
         "Sunny, yesterday my life was filled with rain\nSunny, you smiled at me and then it eased my pain\nNow the dark days are gone and bright days are here\nMy Sunny once shined so sincere, Sunny once so true\nI love you I love you\n\nSunny thank you for the sunshine you gave to me\nSunny thank you for the love you brought my way\nYou gave to me your all and all\nAnd now I feel that I'm 10 feet tall\nSunny once so true, I love you\n\nSunny thank you for the truth that you let me see\nSunny thank you for the facts from A to Z\nSomehow I was torn like a wind blown sail\nThen our love was borned when you held my hand\nSunny once so true, I love you\n\nSunny thank you for the sunshine you gave to me\nSunny thank you for the love you brought my way\nYou gave to me your all and all\nAnd now I feel that I'm 10 feet tall\nSunny once so true, I love you"
        ],
        [
         "37",
         "cher",
         "It Gets Me Where I Want To Go",
         "It gets me where I wanna go\nA ride around the world\nJust around the corner\nIn his eyes\nIt gets me where I wanna go\nA vision of my day dreams\nAbout what the good life means\nIn my eyes\nToo many sad eyes are open for me now\nToo many dreams of life\nDissolved and into dust\nToo many moments lost\nThe price ain't worth the cost\nToo many wasted thoughts of loving\nAnd leaving you\nTaste of life, I have with you\nIt gets me where I wanna go\nA ride around the world\nJust around the corner\nIn his eyes\nIn his eyes\nIn his eyes"
        ],
        [
         "38",
         "cher",
         "Classified 1A",
         "I know now how much I love you\nI knew it surely when I saw my blood\nI cried with my wet eyes\nI said \"I love you\"\nI said \"I love you\" dying in the mud\nIt's funny you know I'm not the one that feels bad\nSome guy is gonna knock at our front door\nHoney he's gonna try and tell you in a nice way\nThat Mrs., you're not Mrs. anymore.\n\nJust one more time I wish that you could see you\nJust one more time I wish that you were near\nJust one more time I wish that you could hear me\nBut bitterness won't make me reappear\nI love you, my God how I love you\nI see you all around me\nIt's time now it's time to say boodnight\nBut this time my love,\nI won't have to get up and fight\nI love you"
        ],
        [
         "39",
         "cher",
         "Love Hurts",
         "Love hurts, love scars, love wounds and mars\nAny heart not tough or strong enough\nTake a lot of pain, take a lot of pain\nLove is like a cloud and it holds a lot of rain\n\nLove hurts, love hurts\n\nYou're young, I know\nBaby, but even so I know a thing or two\nHoney, I've learned from you\nI've really learned a lot, I've really learned a lot\nLove is like a stove it burns you when it's hot\n\nLove hurts, love hurts\n\nSome fools rave, of happiness, of blissfulness, togetherness\nOh, some fools they fool themselves, I guess\nThey're not fooling me and I know it isn't true\nGod, I know it isn't true\nLove is just a lie and it's made to make you blue\n\nLove hurts, love hurts, love hurts\n\nAnd I know it isn't true oh, I know it isn't true\nLove is just a lie and it's made to make you blue\n'Cause love hurts early in the morning you hurt\n\nLove hurts, love hurts, love hurts"
        ],
        [
         "40",
         "cher",
         "Starting Over",
         "Spent a lifetime\nFinally found someone\nGave him all that I had\nIn love, 'til the dream was gone\n\nAn' I was losing myself\nOut in the darkness, alone\nBut the night made me strong\nAnd I learned to let go\n\nTime mends the heart\nYou turn the page, somehow\nOh, there's no lookin' back\nThe hurtin's behind you now\n\nStartin' over again\nOn a second time around, coming back to win\n  (Ooo)\nStartin' over again\nTake the first step an' let it begin\nStartin' over, startin' over\n\nMemories haunt you\nFeelings you won't forget\nLearn to live a lesson in love\nWalk away without regrets\n\nOh, never deny\nThe fear that your heart defends\nOh, find your way out\nJust when you've reached the end\n\nStartin' over again\nNo one's gonna count you out, when the heat is on\n  (Ooo)\nStartin' over again\nGotta come back and turn it around\nStartin' over\n\nTake another look inside\nWhere you always had the fight\nNever dreamed of givin' up\nNever, no lookin' back\n\nStartin' over again\nCome a second time around, coming back to win\n  (Ooo)\nStartin' over again\nTake the first step an' let it begin\n\nStartin' over again\nCome a second time around, coming back to win\n  (Ooo)\nStartin' over again\nTake the first step an' let it begin\n\nStartin' over again"
        ],
        [
         "41",
         "cher",
         "Happiness Is Just a Thing Called Joe",
         "It seems like happiness is just a thing called Joe\nHe's got a smile that makes the lilacs wanna grow\nHe's got a way that makes the angels heave a sigh\nWhen they know President Joe's passing by\n\nRight now our country's gloomy, fear is in the air\nBut when Joe's president hope is everywhere\nTroubles fly away and life is easy flow\nJoe will keep us safe, that's all we need to know\nSeems like happiness is just a thing called Joe\n\nSometimes there seems no end to misery and despair\nBut when Joe smiles at us, compassion fills the air\nTroubles fly away and live is easy flow\nJoe will keep us safe, that's all we need to know\nSeems like happiness is just a thing called Joe\n\nPresident Joe, President Joe, President Joe"
        ],
        [
         "42",
         "cher",
         "Take Me Home",
         "Take me home, take me home\nWant to feel you close to me\nTake me home, take me home\nWith you is where I wanna be\n\nWrapped in your arms tonight\nJust making love\nMusic and candlelight\nStars up above\n\nTake me home, take me home\nOh can't you see I want you near\nTake me home, take me home\nOoh baby, let's get out of here\n\nI'll follow you anywhere\nYour place or mine\nJust a one night affair\nWould be so fine\n\nI'm in heaven\nSeems like heaven\nSo much in heaven\n\n(Take me home)\n(Take me home)\n\nOne night with you\nLying here next to me\nIt's the right thing to do\nIt would be ecstasy\n\nI'm in heaven\nSeems like heaven\nSo much in heaven\nTake me home\n\nOoh, take me home\n(Take me home)\nCome on and make me baby\nCome and take me, take me home\n(Take me home, take me home)\n\n(Take me home, take me home)\n(Music, candlelight, so right!)\n(Take me home)\n(In your arms tonight, hold me tight)\n(Take me home)\n(Just me and you forever)\n(Take me home, home with you)\n(You and me together)\n(Take me home, home with you)\n(Take me home)\n\nOh, you and me forever\n(With you)\nWith you I belong to\nRight out that door\n(Right out that door)\n\nOne night with you\nLying here next to me\nIt's the right thing to do\nIt would be ecstasy\n\nI'm in heaven\nSeems like heaven\nSo much in heaven\nTake me home\n\nTake me home, take me home\nOoh, I wanna feel you close to me\nTake me home, take me home\nOoh, I wanna feel you close to me\n\nWrapped in your arms tonight\nJust making love\nMusic and candlelight\nStars up above\n\nWell I'm in heaven\nSeems like heaven\n\nCome on and take me\nOoh baby, baby take me home\nYou'll be lying next to me\nBaby it'd be ecstasy\nOh, can't you see I want you near\nBaby, baby let's get out of here\n\nI wanna go home with you\nI wanna go home with you\nTake me home\n\nI wanna get next you you\nI wanna get next you you\nTake me home\n\nI gotta be with you\nI gotta be with you\nTake me home\n\nI gotta be with you\nI gotta be with you\nTake me home\n\nI want you to\nI want you to\nTake me home"
        ],
        [
         "43",
         "cher",
         "Song Called Children",
         "Children playing in a park with a ball, teddy bears,and dolls if you watch them\nVery close then you see there's a love for all dancing through the light music\nOnly they can hear they can close their eyes knowing there's nothing to fear\nThey can't see a thing whistle through the trees cos' they are still children\nThey are still children\n\nNow their time has come and gone they are grown all to soon it seems children\nIn their land and dreams dancing through the light music that only they can\nHear they can close their eyes and know there's nothing to fear I wish that\nTime stood still so they would never feel the pain of not being children I wish\nThat time stood still so they would never feel I wish that time stood still"
        ],
        [
         "44",
         "cher",
         "When You Find Out Where You're Goin' Let Me Know",
         "When you find out where you're goin'\nLet me know\nCause I love you just enough\nTo let you go\n\nWhile you're running free and clear\nPlease don't disappear\nWhen you find out where you're goin'\nLet me know\n\nWhen you find out where you're goin'\nCount me in\nAnd I'll never put you down\nFor where you been\nAnd I'll join you when you find\nThat peace within your mind\nWhen you find out where you're goin'\nLet me know\n\nI'm letting go for one night\nAnd I know we'll be all right\nThough he may never come back\nWhen he leaves my bed tonight\n\nWhen you find out where you're goin'\nLet me know\nAnd I promise I won't say I told you so\nAnd when the time comes that you say\nYou finally found your way\nThen no matter where you are\nBe sure I know\nThen no matter where you are\nBe sure I know"
        ],
        [
         "45",
         "cher",
         "Angels Running",
         "Well I heard enough \nAnd I've seen enough\nAnd I know anough to know \nI know a good thing when I see it\nAnd it's a bad thing to let go\n\nWeel I've been around \nI've been up and down \nUntil I bailed out of control \nWith your world all in motion\nGonna put a ball\nAnd chain on your soul \n\nAll those angels running \nPicking up the pieces \nPutting hearts togheter \nBroke long ago \nI know a good thing when I see it \nAnd it's a bad thing to let go \n\nWe'll always be lovers \nWith borders of there own \nAnd you may charge across \nIn a golden chariot \nBut you will never be at home \n\n'Cause I had dreams \nLike distant thunder\nI had hope like a prayer unheard \nThis nothing less than perfect\nIn a less than perfect world \n\nAll those angles running \nPicking up the pieces \nPutting back togheter \nHearts broke long ago \nI know a good thing when I see it \nAnd it's a bad thing to let go \nIt's a bad thing to let go \nIt's a bad thing."
        ],
        [
         "46",
         "cher",
         "Silver Wings & Golden Rings",
         "It was Friday night \nAnd both of us were lonely \nWe seemed to meet as lonely people do \nI filled that empty space till Monday morning \nI never meant ton fall in love with you \nCame right out and told me \nAbout your wife back home in Houston \nYou were just in town on business \nYou never tried to lead me on \nTime had seemed just fine \nSimply love you for the moment \nHeaven help me time ran out \nNow the moment's gone \n\nSilver wings and golden rings \nAre taking you today \nAnd I'll be dying on the ground \nWhile you are flying away \nSilver wings and golden rings \nAre shinning on and on \nWhile the only love \nI've ever known is gone \n\nYou made me feel like \nI was something special \nThe way no other man ever done \nAnd I knew last night \nWould have to last forever \nIt's just no way of holding back the sun \nAnd now I guess it's time for me \nTo drive you to the airport \nHold back all my tears \nTell you it's been nice \nIf you come back to town again \nKnow I love to see you \nRemember I'm not strong enough \nTo let go of you twice"
        ],
        [
         "47",
         "cher",
         "Heart Of Stone",
         "Beneath the white fire of the moon \nLove's wings are broken all too soon \nWe never learn \nHurt together, hurt alone \nDon't you sometimes wish \nYour heart was a heart of stone \nWe turn the wheel and break the chain \nPut steel to steel and laugh at pain \nWe're dreamers in castles made of sand \nThe road to Eden's overgrown \nDon't you sometimes wish \nYour heart was made of stone \nLook at the headlines \nBig crowd at the crazy house \nLong queue for the joker's shoes \nTen rounds in the ring with love \nDo you lose and win \nOr win and lose \nSweet rain like mercy in the night \n(Lay me down, wash away the sorrow) \nCaress my soul and set it right \n(Lay me down, show me your tomorrow) \nSummer tears, winter and the moment's flown \nDont' you sometimes wish your heart was made of stone \nMercy, mercy wish your heart \nWas a heart of stone \nGet the picture \nNo room for the innocent \nPeak season in lonely town \nKnocked out of the ring by love \nAre you down and up Or up and down \nI ask the river for a sign \n(In a dream we go on together) \nHow long is love supposed to shine \n(In a dream diamonds are forever) \nBut you and I, hurt together, hurt alone \nDon't you sometimes wish \nYour heart was a heart of stone \nMercy, mercy wish your heart was a heart of stone \n(With a heart of stone, you'll be well protected) \nDon't you sometimes wish your heart was made of stone \n(With a heart of stone, you'll be well connected) \n[Repeat and fade]"
        ],
        [
         "48",
         "cher",
         "Melody",
         "Melody, you're my oldest friend \nI can talk to you what a day it's been \nOut there in the mad men crush \nAnother days gone down in a dusk\n\nMelody listen for the phone \nWhile I change my clothes he knows by now I'm home \nThree days waiting took its toll \nThis trying to stop it's crying is getting old\n\nMelody remember long summer days \nPlaying grown ups in the city \nMamma said sleep sleep sleepy heads \nTucked in bed with your favourite dolly oh\n\nMelody with you raggedy charms \nI have looked for love in a stranger's arms \nScared of going home of what they'll say \nYou know mamma's eyes could always look right through \nDaddy won't be so proud of me \nNo they won't understand like you Melody"
        ],
        [
         "49",
         "cher",
         "When Love Calls Your Name",
         "You can cover your eyes and hide behind walls you've built around you\nYou can run for your life\nAnytime there's a chance of someone breaking through\nBut sooner or later it comes to us all and even the strongest must fall\n\nWhen love calls your name there's no saying no\nYou follow your heart wherever it goes\nTo the ends of the earth, for the rest of your days\nWhatever it takes, yeah, you'll find a way\nThrough fire and rain, when love calls your name\n\nNow I see a light and it keeps getting brighter\nAnd it shows me the way\nAnd it's there in your eyes, pulling me closer everyday\nAfter all of this time, the tables have turned, yes, I'm finally ready to learn\n\nWhen love calls your name there's no saying no\nYou follow your heart wherever it goes\nTo the ends of the earth, for the rest of your days\nWhatever it takes, yeah, you'll find a way\nThrough fire and rain, when love calls your name\n\nYou do what you must, you take it on faith\nYou take it on trust, you're out of control\nAnd all that you know, your world's not the same\nWhen love calls your name\n\nWhen love calls your name there's no saying no\nYou follow your heart wherever it goes\nTo the ends of the earth, for the rest of your days\nWhatever it takes, yeah, you'll find a way\nWhen love calls your name\n\nOoh, when love calls your name\nOoh, when love calls your name\nOoh, when love calls your name"
        ]
       ],
       "shape": {
        "columns": 3,
        "rows": 420
       }
      },
      "text/html": [
       "<div>\n",
       "<style scoped>\n",
       "    .dataframe tbody tr th:only-of-type {\n",
       "        vertical-align: middle;\n",
       "    }\n",
       "\n",
       "    .dataframe tbody tr th {\n",
       "        vertical-align: top;\n",
       "    }\n",
       "\n",
       "    .dataframe thead th {\n",
       "        text-align: right;\n",
       "    }\n",
       "</style>\n",
       "<table border=\"1\" class=\"dataframe\">\n",
       "  <thead>\n",
       "    <tr style=\"text-align: right;\">\n",
       "      <th></th>\n",
       "      <th>artist</th>\n",
       "      <th>song_title</th>\n",
       "      <th>lyrics</th>\n",
       "    </tr>\n",
       "  </thead>\n",
       "  <tbody>\n",
       "    <tr>\n",
       "      <th>0</th>\n",
       "      <td>cher</td>\n",
       "      <td>Gypsies, Tramps And Thieves</td>\n",
       "      <td>I was born in the wagon of a travellin' show \\...</td>\n",
       "    </tr>\n",
       "    <tr>\n",
       "      <th>1</th>\n",
       "      <td>cher</td>\n",
       "      <td>Give Our Love A Fightin' Chance</td>\n",
       "      <td>So you wanna throw our love away\\nSo you think...</td>\n",
       "    </tr>\n",
       "    <tr>\n",
       "      <th>2</th>\n",
       "      <td>cher</td>\n",
       "      <td>I Don't Have To Sleep To Dream</td>\n",
       "      <td>I gave up the fight for love\\nWalked away to c...</td>\n",
       "    </tr>\n",
       "    <tr>\n",
       "      <th>3</th>\n",
       "      <td>cher</td>\n",
       "      <td>Superstar</td>\n",
       "      <td>Long ago and so far away\\nAh I fell in love wi...</td>\n",
       "    </tr>\n",
       "    <tr>\n",
       "      <th>4</th>\n",
       "      <td>cher</td>\n",
       "      <td>Love &amp; Pain (There's A Pain In My Heart)</td>\n",
       "      <td>I see the clouds and I feel the rain\\nIt's all...</td>\n",
       "    </tr>\n",
       "    <tr>\n",
       "      <th>...</th>\n",
       "      <td>...</td>\n",
       "      <td>...</td>\n",
       "      <td>...</td>\n",
       "    </tr>\n",
       "    <tr>\n",
       "      <th>415</th>\n",
       "      <td>robyn</td>\n",
       "      <td>Sayit</td>\n",
       "      <td>Say it\\n\\nSay say say...\\n\\nSay it\\n\\nSay say ...</td>\n",
       "    </tr>\n",
       "    <tr>\n",
       "      <th>416</th>\n",
       "      <td>robyn</td>\n",
       "      <td>Include Me Out</td>\n",
       "      <td>It is really very simple\\nJust a single pulse,...</td>\n",
       "    </tr>\n",
       "    <tr>\n",
       "      <th>417</th>\n",
       "      <td>robyn</td>\n",
       "      <td>Dancing On My Own</td>\n",
       "      <td>Somebody said you got a new friend\\nDoes she l...</td>\n",
       "    </tr>\n",
       "    <tr>\n",
       "      <th>418</th>\n",
       "      <td>robyn</td>\n",
       "      <td>Bionic Woman</td>\n",
       "      <td>Good evening ladies \\nThis is your captain spe...</td>\n",
       "    </tr>\n",
       "    <tr>\n",
       "      <th>419</th>\n",
       "      <td>robyn</td>\n",
       "      <td>Do You Really Want Me (Show Respect)</td>\n",
       "      <td>Boy listen to me careful now\\nCause this is so...</td>\n",
       "    </tr>\n",
       "  </tbody>\n",
       "</table>\n",
       "<p>420 rows × 3 columns</p>\n",
       "</div>"
      ],
      "text/plain": [
       "    artist                                song_title  \\\n",
       "0     cher               Gypsies, Tramps And Thieves   \n",
       "1     cher           Give Our Love A Fightin' Chance   \n",
       "2     cher            I Don't Have To Sleep To Dream   \n",
       "3     cher                                 Superstar   \n",
       "4     cher  Love & Pain (There's A Pain In My Heart)   \n",
       "..     ...                                       ...   \n",
       "415  robyn                                     Sayit   \n",
       "416  robyn                            Include Me Out   \n",
       "417  robyn                         Dancing On My Own   \n",
       "418  robyn                              Bionic Woman   \n",
       "419  robyn      Do You Really Want Me (Show Respect)   \n",
       "\n",
       "                                                lyrics  \n",
       "0    I was born in the wagon of a travellin' show \\...  \n",
       "1    So you wanna throw our love away\\nSo you think...  \n",
       "2    I gave up the fight for love\\nWalked away to c...  \n",
       "3    Long ago and so far away\\nAh I fell in love wi...  \n",
       "4    I see the clouds and I feel the rain\\nIt's all...  \n",
       "..                                                 ...  \n",
       "415  Say it\\n\\nSay say say...\\n\\nSay it\\n\\nSay say ...  \n",
       "416  It is really very simple\\nJust a single pulse,...  \n",
       "417  Somebody said you got a new friend\\nDoes she l...  \n",
       "418  Good evening ladies \\nThis is your captain spe...  \n",
       "419  Boy listen to me careful now\\nCause this is so...  \n",
       "\n",
       "[420 rows x 3 columns]"
      ]
     },
     "execution_count": 7,
     "metadata": {},
     "output_type": "execute_result"
    }
   ],
   "source": [
    "df_lyrics"
   ]
  },
  {
   "cell_type": "code",
   "execution_count": null,
   "id": "debcac5a",
   "metadata": {},
   "outputs": [],
   "source": [
    "# Read in the twitter data\n",
    "twitter_path = os.path.join(data_location, twitter_folder)\n",
    "\n",
    "twitter_files = os.listdir(twitter_path)\n",
    "\n",
    "rows = []\n",
    "\n",
    "# Regex101 was used to help create the regex match\n",
    "# ChatGPT was used to help create the syntax\n",
    "LINE_RE = re.compile(\n",
    "    r\"^(?P<screen_name>[^\\t]*)\\t\"\n",
    "    r\"(?P<name>[^\\t]*)\\t\"\n",
    "    r\"(?P<id>\\d+)\\t\"\n",
    "    r\"(?P<location>[^\\t]*)\\t\"\n",
    "    r\"(?P<followers_count>\\d+)\\t\"\n",
    "    r\"(?P<friends_count>\\d+)\\t\"\n",
    "    r\"(?P<description>.*)$\"\n",
    ")\n",
    "\n",
    "\n",
    "for file in twitter_files:\n",
    "    # filter for data file that has description column\n",
    "    if \"_data.txt\" in file and file != \".DS_Store\":\n",
    "        # save robynkonichiwa as robyn\n",
    "        artist = file.split(\"_\")[0].replace(\"konichiwa\", \"\")\n",
    "        file_path = os.path.join(twitter_path, file)\n",
    "\n",
    "        with open(file_path, \"r\", encoding=\"utf-8\", errors=\"ignore\") as f:\n",
    "            # skip header row by assigning to `_`\n",
    "            _ = f.readline()\n",
    "            # iterate through remaining lines\n",
    "            for line in f:\n",
    "                line = line.rstrip(\"\\n\")\n",
    "                m = LINE_RE.match(line)\n",
    "                if m:\n",
    "                    desc = m.group(\"description\")\n",
    "                    # only append if desc is not blank\n",
    "                    if desc:\n",
    "                        rows.append({\"artist\": artist, \"description\": desc})\n",
    "\n",
    "\n",
    "df_twitter = pd.DataFrame(rows)"
   ]
  },
  {
   "cell_type": "code",
   "execution_count": 17,
   "id": "cd611cf5",
   "metadata": {},
   "outputs": [
    {
     "data": {
      "application/vnd.microsoft.datawrangler.viewer.v0+json": {
       "columns": [
        {
         "name": "index",
         "rawType": "int64",
         "type": "integer"
        },
        {
         "name": "artist",
         "rawType": "object",
         "type": "string"
        },
        {
         "name": "description",
         "rawType": "object",
         "type": "string"
        }
       ],
       "ref": "6137d3b7-c413-4254-a64e-0b5051da7cee",
       "rows": [
        [
         "0",
         "robyn",
         "\"I love chill\" •Facebook / Instagram / SoundCloud: AngelxoArts• https://t.co/447okKLKzA…"
        ],
        [
         "1",
         "robyn",
         "books, movies, music, nature & TV shows. OG Sweetee since '12 thanks to YouTube recommending 'This Feeling' on my homepage ♥️"
        ],
        [
         "2",
         "robyn",
         "(Am)auteur en herbe 🌱 - juriste en paille 🤡 - Ami des fleurs 🌸🌈 (sans la main verte) - music & books - #morecomingsoon... (si on en voit le bout)"
        ],
        [
         "3",
         "robyn",
         "This Twitter profile is full of sarcasm and rants with the occasional moan, dont like me dont follow me! KLF Stan Account Aspiring Youth Council rep"
        ],
        [
         "4",
         "robyn",
         "Flora Youssef - Blogger & Founder Posting review articles about the latest music 🎵 https://t.co/dx4hoIom7T https://t.co/KsplT6mZzs"
        ],
        [
         "5",
         "robyn",
         "Recording Artist / songwriter 🌈 Fashion Stylist of The Floral House Boutique / CEO Of Arcade Mode Records / Actor"
        ],
        [
         "6",
         "robyn",
         "🇲🇽|🏳️‍🌈"
        ],
        [
         "7",
         "robyn",
         "🚀🐕Check 👀t SnoopDogeMeme 🐕🚀 🔥🔥🐢 T M N T 🐢🔥🔥 Music enthusiast! Musician. Writer. Artist. Humanitarian. Animal lover. NFT Lover."
        ],
        [
         "8",
         "robyn",
         "References Available Upon Request"
        ],
        [
         "9",
         "robyn",
         "DJ Cristal Chiou"
        ],
        [
         "10",
         "robyn",
         "Half mad Jade and shabby cabbie. Old and tired but at least I am immune to teargas. All Trek is good Trek. Doom Patrol is life."
        ],
        [
         "11",
         "robyn",
         "Bro."
        ],
        [
         "12",
         "robyn",
         "I'm the one the other side of the pillow got it from. Also, Assistant to the Taco Executive."
        ],
        [
         "13",
         "robyn",
         "He/him - Now that things are opening back up..."
        ],
        [
         "14",
         "robyn",
         "Cuenta alternativa 😊✌️🌈"
        ],
        [
         "15",
         "robyn",
         "A wrong note is insignificant, but to play without passion is unforgivable - LvB 🇪🇺"
        ],
        [
         "16",
         "robyn",
         "I am water. #WorldOfWarcraft #HipHop #Underground. #Mainstream. #Money #Women #Weed I love jewelry but ain't got any. I'll change that when I make it. 🎧🙏"
        ],
        [
         "17",
         "robyn",
         "עורך התרבות בדיגיטל של @kann_news"
        ],
        [
         "18",
         "robyn",
         "Pokemon Go Trailer levei 50 More Ethan 525 milions of XP Shiny Collector"
        ],
        [
         "19",
         "robyn",
         "Art Director | Design (Graphic / Motion) | Art"
        ],
        [
         "20",
         "robyn",
         "71022"
        ],
        [
         "21",
         "robyn",
         "Host of Stickin’ It with Anthony on YouTube. New video last Saturday of every month. Join me on my sticker-booking adventures! ▶️https://t.co/03IwdOrGyw"
        ],
        [
         "22",
         "robyn",
         "My name is Kat. I love lamp."
        ],
        [
         "23",
         "robyn",
         "Hi! I’m a metaverse money mule. While traveling around the world I collect game points and blog about cyber security art"
        ],
        [
         "24",
         "robyn",
         "https://t.co/K2cKzBkxVQ Voiceover Artist, Narrator, Commercial Voice Actor, Promo Voice, Broadcaster, Producer, Culinarian, Editor, Published Writer"
        ],
        [
         "25",
         "robyn",
         "Working man"
        ],
        [
         "26",
         "robyn",
         "She/Her"
        ],
        [
         "27",
         "robyn",
         "PostingCast, the cast that posts."
        ],
        [
         "28",
         "robyn",
         "Voce me dá gastrite!"
        ],
        [
         "29",
         "robyn",
         "Inspector by day, Mother by night."
        ],
        [
         "30",
         "robyn",
         "🇫🇮🇸🇪🇪🇪🇱🇹🇱🇻🇬🇪🇲🇩🇵🇱🇺🇦 🖕🇷🇺🖕 Jahrgang: That's one small step for man; one giant leap for mankind."
        ],
        [
         "31",
         "robyn",
         "19hrs"
        ],
        [
         "32",
         "robyn",
         "💛 stream sawayama pls • cupcakke follow! 💛"
        ],
        [
         "33",
         "robyn",
         "I'm either a Macintosh apple or Granny Smith your choice."
        ],
        [
         "34",
         "robyn",
         "hello. nice 2 meet u."
        ],
        [
         "35",
         "robyn",
         "Pink Life 💘💌💝💖💗💓💕💟💔🐷🐭🐰🌸🌷🌺🍡🍥🍨🧁🌁🌉🎀🎟♀️🩱👚👛👝🥿👡🩰🧼"
        ],
        [
         "36",
         "robyn",
         "Shut the fuck up he/him"
        ],
        [
         "37",
         "robyn",
         "#MohammadTheCat #VanGoghTheCat #KendraTheHumanBeing"
        ],
        [
         "38",
         "robyn",
         "swift the positions for you"
        ],
        [
         "39",
         "robyn",
         "Desidero condividere i miei pensieri con poche anime, poche ma buone."
        ],
        [
         "40",
         "robyn",
         "Screenwriter/playwright @TALLagent | Work in development @BBC @WorldProds @REDProductionCo | Plays @TrafStudios @ParkTheatre | Published @MethuenDrama"
        ],
        [
         "41",
         "robyn",
         "Historian. 19th/20th century US & Germany. JGU Mainz. Writing about 70s/80s cultural criticism, pop science, futurology. Book: Wires That Bind. https://t.co/SzsEwqcpBT"
        ],
        [
         "42",
         "robyn",
         "Am simply a great person"
        ],
        [
         "43",
         "robyn",
         "Music journalist in the making •good with words, terrible with numbers. Ethiopian/French also a singer but you wouldn't like it // MY OPINIONS ARE MY OWN"
        ],
        [
         "44",
         "robyn",
         "Sports betting writer Blaydon Lover of: NUFC⚫️⚪️ Sport🏇⚽️🏈🏉 Music🎶 Board Games🎲♟️ Poker♠️ Beer🍻 Books📚 Sci-fi👽 Here to interact with like minded souls."
        ],
        [
         "45",
         "robyn",
         "☆"
        ],
        [
         "46",
         "robyn",
         "crash and burn girl"
        ],
        [
         "47",
         "robyn",
         "@bedwetterswftx"
        ],
        [
         "48",
         "robyn",
         "These are thoughts to provoke a conversation. These will not be the truth for all women but they will be for at least one. Provoke change. #BeingAWomanIs"
        ],
        [
         "49",
         "robyn",
         "A podcast chatting with musicians, music industry pros, authors, podcasters & others. Hosted by @sherryt1970. Booking info - analogsmile@aol.com"
        ]
       ],
       "shape": {
        "columns": 2,
        "rows": 2191128
       }
      },
      "text/html": [
       "<div>\n",
       "<style scoped>\n",
       "    .dataframe tbody tr th:only-of-type {\n",
       "        vertical-align: middle;\n",
       "    }\n",
       "\n",
       "    .dataframe tbody tr th {\n",
       "        vertical-align: top;\n",
       "    }\n",
       "\n",
       "    .dataframe thead th {\n",
       "        text-align: right;\n",
       "    }\n",
       "</style>\n",
       "<table border=\"1\" class=\"dataframe\">\n",
       "  <thead>\n",
       "    <tr style=\"text-align: right;\">\n",
       "      <th></th>\n",
       "      <th>artist</th>\n",
       "      <th>description</th>\n",
       "    </tr>\n",
       "  </thead>\n",
       "  <tbody>\n",
       "    <tr>\n",
       "      <th>0</th>\n",
       "      <td>robyn</td>\n",
       "      <td>\"I love chill\" •Facebook / Instagram / SoundCl...</td>\n",
       "    </tr>\n",
       "    <tr>\n",
       "      <th>1</th>\n",
       "      <td>robyn</td>\n",
       "      <td>books, movies, music, nature &amp; TV shows. OG Sw...</td>\n",
       "    </tr>\n",
       "    <tr>\n",
       "      <th>2</th>\n",
       "      <td>robyn</td>\n",
       "      <td>(Am)auteur en herbe 🌱 - juriste en paille 🤡 - ...</td>\n",
       "    </tr>\n",
       "    <tr>\n",
       "      <th>3</th>\n",
       "      <td>robyn</td>\n",
       "      <td>This Twitter profile is full of sarcasm and ra...</td>\n",
       "    </tr>\n",
       "    <tr>\n",
       "      <th>4</th>\n",
       "      <td>robyn</td>\n",
       "      <td>Flora Youssef - Blogger &amp; Founder Posting revi...</td>\n",
       "    </tr>\n",
       "    <tr>\n",
       "      <th>...</th>\n",
       "      <td>...</td>\n",
       "      <td>...</td>\n",
       "    </tr>\n",
       "    <tr>\n",
       "      <th>2191123</th>\n",
       "      <td>cher</td>\n",
       "      <td>Social Media isn’t real life 🤟🏻</td>\n",
       "    </tr>\n",
       "    <tr>\n",
       "      <th>2191124</th>\n",
       "      <td>cher</td>\n",
       "      <td>Marketing Manager by day, Photographer by nigh...</td>\n",
       "    </tr>\n",
       "    <tr>\n",
       "      <th>2191125</th>\n",
       "      <td>cher</td>\n",
       "      <td>I am a housewife and I'am turning 45 in Septem...</td>\n",
       "    </tr>\n",
       "    <tr>\n",
       "      <th>2191126</th>\n",
       "      <td>cher</td>\n",
       "      <td>En IQ befriad brud från Strängnäs</td>\n",
       "    </tr>\n",
       "    <tr>\n",
       "      <th>2191127</th>\n",
       "      <td>cher</td>\n",
       "      <td>Un ente más en esta sociedad!</td>\n",
       "    </tr>\n",
       "  </tbody>\n",
       "</table>\n",
       "<p>2191128 rows × 2 columns</p>\n",
       "</div>"
      ],
      "text/plain": [
       "        artist                                        description\n",
       "0        robyn  \"I love chill\" •Facebook / Instagram / SoundCl...\n",
       "1        robyn  books, movies, music, nature & TV shows. OG Sw...\n",
       "2        robyn  (Am)auteur en herbe 🌱 - juriste en paille 🤡 - ...\n",
       "3        robyn  This Twitter profile is full of sarcasm and ra...\n",
       "4        robyn  Flora Youssef - Blogger & Founder Posting revi...\n",
       "...        ...                                                ...\n",
       "2191123   cher                    Social Media isn’t real life 🤟🏻\n",
       "2191124   cher  Marketing Manager by day, Photographer by nigh...\n",
       "2191125   cher  I am a housewife and I'am turning 45 in Septem...\n",
       "2191126   cher                  En IQ befriad brud från Strängnäs\n",
       "2191127   cher                      Un ente más en esta sociedad!\n",
       "\n",
       "[2191128 rows x 2 columns]"
      ]
     },
     "execution_count": 17,
     "metadata": {},
     "output_type": "execute_result"
    }
   ],
   "source": [
    "df_twitter"
   ]
  },
  {
   "cell_type": "markdown",
   "id": "6a5f3b12",
   "metadata": {},
   "source": [
    "## Data Cleaning\n",
    "\n",
    "Now clean and tokenize your data. Remove punctuation chacters (available in the `punctuation` object in the `string` library), split on whitespace, fold to lowercase, and remove stopwords. Store your cleaned data, which must be accessible as an interable for `descriptive_stats`, in new objects or in new columns in your data frame.\n"
   ]
  },
  {
   "cell_type": "code",
   "execution_count": null,
   "id": "71c73d86",
   "metadata": {},
   "outputs": [],
   "source": [
    "punctuation = set(punctuation)  # speeds up comparison"
   ]
  },
  {
   "cell_type": "code",
   "execution_count": null,
   "id": "b327033a",
   "metadata": {},
   "outputs": [],
   "source": [
    "# create your clean twitter data here"
   ]
  },
  {
   "cell_type": "code",
   "execution_count": null,
   "id": "e0f22e10",
   "metadata": {},
   "outputs": [],
   "source": [
    "# create your clean lyrics data here"
   ]
  },
  {
   "cell_type": "markdown",
   "id": "f2dd0179",
   "metadata": {},
   "source": [
    "## Basic Descriptive Statistics\n",
    "\n",
    "Call your `descriptive_stats` function on both your lyrics data and your twitter data and for both artists (four total calls).\n"
   ]
  },
  {
   "cell_type": "code",
   "execution_count": null,
   "id": "f0bbedd9",
   "metadata": {},
   "outputs": [],
   "source": [
    "# calls to descriptive_stats here"
   ]
  },
  {
   "cell_type": "markdown",
   "id": "46294409",
   "metadata": {},
   "source": [
    "Q: How do you think the \"top 5 words\" would be different if we left stopwords in the data?\n",
    "\n",
    "A:\n",
    "\n",
    "---\n",
    "\n",
    "Q: What were your prior beliefs about the lexical diversity between the artists? Does the difference (or lack thereof) in lexical diversity between the artists conform to your prior beliefs?\n",
    "\n",
    "A:\n"
   ]
  },
  {
   "cell_type": "markdown",
   "id": "4d4e1ac1",
   "metadata": {},
   "source": [
    "## Specialty Statistics\n",
    "\n",
    "The descriptive statistics we have calculated are quite generic. You will now calculate a handful of statistics tailored to these data.\n",
    "\n",
    "1. Ten most common emojis by artist in the twitter descriptions.\n",
    "1. Ten most common hashtags by artist in the twitter descriptions.\n",
    "1. Five most common words in song titles by artist.\n",
    "1. For each artist, a histogram of song lengths (in terms of number of tokens)\n",
    "\n",
    "We can use the `emoji` library to help us identify emojis and you have been given a function to help you.\n"
   ]
  },
  {
   "cell_type": "code",
   "execution_count": null,
   "id": "753a5a3e",
   "metadata": {},
   "outputs": [],
   "source": [
    "assert emoji.is_emoji(\"❤️\")\n",
    "assert not emoji.is_emoji(\":-)\")"
   ]
  },
  {
   "cell_type": "markdown",
   "id": "986fc4c0",
   "metadata": {},
   "source": [
    "### Emojis 😁\n",
    "\n",
    "What are the ten most common emojis by artist in the twitter descriptions?\n"
   ]
  },
  {
   "cell_type": "code",
   "execution_count": null,
   "id": "269cd433",
   "metadata": {},
   "outputs": [],
   "source": [
    "# Your code here"
   ]
  },
  {
   "cell_type": "markdown",
   "id": "bab9b770",
   "metadata": {},
   "source": [
    "### Hashtags\n",
    "\n",
    "What are the ten most common hashtags by artist in the twitter descriptions?\n"
   ]
  },
  {
   "cell_type": "code",
   "execution_count": null,
   "id": "07c396f1",
   "metadata": {},
   "outputs": [],
   "source": [
    "# Your code here"
   ]
  },
  {
   "cell_type": "markdown",
   "id": "d10f21d5",
   "metadata": {},
   "source": [
    "### Song Titles\n",
    "\n",
    "What are the five most common words in song titles by artist? The song titles should be on the first line of the lyrics pages, so if you have kept the raw file contents around, you will not need to re-read the data.\n"
   ]
  },
  {
   "cell_type": "code",
   "execution_count": null,
   "id": "bb69b36b",
   "metadata": {},
   "outputs": [],
   "source": [
    "# Your code here"
   ]
  },
  {
   "cell_type": "markdown",
   "id": "5dd4fd71",
   "metadata": {},
   "source": [
    "### Song Lengths\n",
    "\n",
    "For each artist, a histogram of song lengths (in terms of number of tokens). If you put the song lengths in a data frame with an artist column, matplotlib will make the plotting quite easy. An example is given to help you out.\n"
   ]
  },
  {
   "cell_type": "code",
   "execution_count": null,
   "id": "805a1e52",
   "metadata": {},
   "outputs": [],
   "source": [
    "num_replicates = 1000\n",
    "\n",
    "df = pd.DataFrame(\n",
    "    {\n",
    "        \"artist\": [\"Artist 1\"] * num_replicates + [\"Artist 2\"] * num_replicates,\n",
    "        \"length\": np.concatenate(\n",
    "            (\n",
    "                np.random.poisson(125, num_replicates),\n",
    "                np.random.poisson(150, num_replicates),\n",
    "            )\n",
    "        ),\n",
    "    }\n",
    ")\n",
    "\n",
    "df.groupby(\"artist\")[\"length\"].plot(kind=\"hist\", density=True, alpha=0.5, legend=True)"
   ]
  },
  {
   "cell_type": "markdown",
   "id": "8fde9ebb",
   "metadata": {},
   "source": [
    "Since the lyrics may be stored with carriage returns or tabs, it may be useful to have a function that can collapse whitespace, using regular expressions, and be used for splitting.\n",
    "\n",
    "Q: What does the regular expression `'\\s+'` match on?\n",
    "\n",
    "A:\n"
   ]
  },
  {
   "cell_type": "code",
   "execution_count": null,
   "id": "f0e34516",
   "metadata": {},
   "outputs": [],
   "source": [
    "collapse_whitespace = re.compile(r\"\\s+\")\n",
    "\n",
    "\n",
    "def tokenize_lyrics(lyric):\n",
    "    \"\"\"strip and split on whitespace\"\"\"\n",
    "    return [item.lower() for item in collapse_whitespace.split(lyric)]"
   ]
  },
  {
   "cell_type": "code",
   "execution_count": null,
   "id": "2294c440",
   "metadata": {},
   "outputs": [],
   "source": [
    "# Your lyric length comparison chart here."
   ]
  }
 ],
 "metadata": {
  "kernelspec": {
   "display_name": "ads509",
   "language": "python",
   "name": "python3"
  },
  "language_info": {
   "codemirror_mode": {
    "name": "ipython",
    "version": 3
   },
   "file_extension": ".py",
   "mimetype": "text/x-python",
   "name": "python",
   "nbconvert_exporter": "python",
   "pygments_lexer": "ipython3",
   "version": "3.11.13"
  }
 },
 "nbformat": 4,
 "nbformat_minor": 5
}
